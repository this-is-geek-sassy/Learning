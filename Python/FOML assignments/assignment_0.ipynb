{
 "cells": [
  {
   "cell_type": "markdown",
   "id": "050be424-fbec-4191-a257-9bf4b970dcbf",
   "metadata": {},
   "source": [
    "Question 1. a to d"
   ]
  },
  {
   "cell_type": "code",
   "execution_count": 1,
   "id": "ca19c119-3558-40e3-9a9a-fc84766a2cd4",
   "metadata": {},
   "outputs": [],
   "source": [
    "import numpy as np"
   ]
  },
  {
   "cell_type": "code",
   "execution_count": 2,
   "id": "afae0e71-b0f8-478f-b9e2-e6685ec326fe",
   "metadata": {},
   "outputs": [
    {
     "name": "stdout",
     "output_type": "stream",
     "text": [
      "1.26.4\n"
     ]
    }
   ],
   "source": [
    "print(np.version.version)"
   ]
  },
  {
   "cell_type": "code",
   "execution_count": 3,
   "id": "9cdfd559-04eb-4ab2-a1f8-6520748d6825",
   "metadata": {},
   "outputs": [
    {
     "name": "stdout",
     "output_type": "stream",
     "text": [
      "Build Dependencies:\n",
      "  blas:\n",
      "    detection method: pkgconfig\n",
      "    found: true\n",
      "    include directory: C:/ProgramData/anaconda3/Library/include\n",
      "    lib directory: C:/ProgramData/anaconda3/Library/lib\n",
      "    name: mkl-sdl\n",
      "    openblas configuration: unknown\n",
      "    pc file directory: C:\\b\\abs_c1ywpu18ar\\croot\\numpy_and_numpy_base_1708638681471\\_h_env\\Library\\lib\\pkgconfig\n",
      "    version: '2023.1'\n",
      "  lapack:\n",
      "    detection method: internal\n",
      "    found: true\n",
      "    include directory: unknown\n",
      "    lib directory: unknown\n",
      "    name: dep1583119523984\n",
      "    openblas configuration: unknown\n",
      "    pc file directory: unknown\n",
      "    version: 1.26.4\n",
      "Compilers:\n",
      "  c:\n",
      "    commands: cl.exe\n",
      "    linker: link\n",
      "    name: msvc\n",
      "    version: 19.29.30154\n",
      "  c++:\n",
      "    commands: cl.exe\n",
      "    linker: link\n",
      "    name: msvc\n",
      "    version: 19.29.30154\n",
      "  cython:\n",
      "    commands: cython\n",
      "    linker: cython\n",
      "    name: cython\n",
      "    version: 3.0.8\n",
      "Machine Information:\n",
      "  build:\n",
      "    cpu: x86_64\n",
      "    endian: little\n",
      "    family: x86_64\n",
      "    system: windows\n",
      "  host:\n",
      "    cpu: x86_64\n",
      "    endian: little\n",
      "    family: x86_64\n",
      "    system: windows\n",
      "Python Information:\n",
      "  path: C:\\b\\abs_c1ywpu18ar\\croot\\numpy_and_numpy_base_1708638681471\\_h_env\\python.exe\n",
      "  version: '3.12'\n",
      "SIMD Extensions:\n",
      "  baseline:\n",
      "  - SSE\n",
      "  - SSE2\n",
      "  - SSE3\n",
      "  found:\n",
      "  - SSSE3\n",
      "  - SSE41\n",
      "  - POPCNT\n",
      "  - SSE42\n",
      "  - AVX\n",
      "  - F16C\n",
      "  - FMA3\n",
      "  - AVX2\n",
      "  not found:\n",
      "  - AVX512F\n",
      "  - AVX512CD\n",
      "  - AVX512_SKX\n",
      "  - AVX512_CLX\n",
      "  - AVX512_CNL\n",
      "  - AVX512_ICL\n",
      "\n",
      "None\n"
     ]
    }
   ],
   "source": [
    "print(np.show_config())"
   ]
  },
  {
   "cell_type": "code",
   "execution_count": 4,
   "id": "b25268c0-2411-4052-b58d-5badae422d0e",
   "metadata": {},
   "outputs": [
    {
     "name": "stdout",
     "output_type": "stream",
     "text": [
      "[0. 0. 0. 0. 0. 0. 0. 0. 0. 0.]\n"
     ]
    }
   ],
   "source": [
    "null_vec_1 = np.zeros(10)\n",
    "\n",
    "print(null_vec_1)"
   ]
  },
  {
   "cell_type": "code",
   "execution_count": 5,
   "id": "2fb5d127-3a5b-4f51-823a-2c660330131f",
   "metadata": {},
   "outputs": [
    {
     "name": "stdout",
     "output_type": "stream",
     "text": [
      "[0. 0. 0. 0. 1. 0. 0. 0. 0. 0.]\n"
     ]
    }
   ],
   "source": [
    "null_vec_2 = np.zeros(10)\n",
    "\n",
    "null_vec_2[4] = 1\n",
    "print(null_vec_2)"
   ]
  },
  {
   "cell_type": "code",
   "execution_count": 6,
   "id": "02124c63-5de9-44a0-8985-3f2fa815e35d",
   "metadata": {},
   "outputs": [
    {
     "data": {
      "text/plain": [
       "array([41, 67, 45, 14, 79, 48, 88, 22, 79,  8])"
      ]
     },
     "execution_count": 6,
     "metadata": {},
     "output_type": "execute_result"
    }
   ],
   "source": [
    "vec_1 = np.random.randint(100, size=(10,))\n",
    "vec_1"
   ]
  },
  {
   "cell_type": "code",
   "execution_count": 7,
   "id": "e29db989-aa48-4821-a286-d786ff650dc3",
   "metadata": {},
   "outputs": [
    {
     "name": "stdout",
     "output_type": "stream",
     "text": [
      "[ 8 79 22 88 48 79 14 45 67 41]\n"
     ]
    }
   ],
   "source": [
    "vec_2 = np.flip(vec_1)\n",
    "print(vec_2)"
   ]
  },
  {
   "cell_type": "code",
   "execution_count": 8,
   "id": "0d24980f-39c3-47f8-a504-57a26504ad44",
   "metadata": {},
   "outputs": [
    {
     "name": "stdout",
     "output_type": "stream",
     "text": [
      "0\n",
      "1\n"
     ]
    }
   ],
   "source": [
    "for i in range(0,2):\n",
    "    print(i)"
   ]
  },
  {
   "cell_type": "markdown",
   "id": "95c6feed-446d-4934-85c7-65ad6bbc01da",
   "metadata": {},
   "source": [
    "Question 1.e)"
   ]
  },
  {
   "cell_type": "code",
   "execution_count": 9,
   "id": "1a61c070-eea7-465d-87f9-26f91942a82c",
   "metadata": {},
   "outputs": [
    {
     "name": "stdout",
     "output_type": "stream",
     "text": [
      "[0, 1, 0, 1, 0, 1, 0, 1, 0, 1, 0, 1, 0, 1, 0, 1, 0, 1, 0, 1, 0, 1, 0, 1, 0, 1, 0, 1, 0, 1, 0, 1, 0, 1, 0, 1, 0, 1, 0, 1, 0, 1, 0, 1, 0, 1, 0, 1, 0, 1, 0, 1, 0, 1, 0, 1, 0, 1, 0, 1, 0, 1, 0, 1, 0, 1, 0, 1, 0, 1, 0, 1, 0, 1, 0, 1, 0, 1, 0, 1, 0, 1, 0, 1, 0, 1, 0, 1, 0, 1, 0, 1, 0, 1, 0, 1, 0, 1, 0, 1, 0, 1, 0, 1, 0, 1, 0, 1, 0, 1, 0, 1, 0, 1, 0, 1, 0, 1, 0, 1, 0, 1, 0, 1, 0, 1, 0, 1, 0, 1, 0, 1, 0, 1, 0, 1, 0, 1, 0, 1, 0, 1, 0, 1, 0, 1, 0, 1, 0, 1, 0, 1, 0, 1, 0, 1, 0, 1, 0, 1, 0, 1, 0, 1, 0, 1, 0, 1, 0, 1, 0, 1, 0, 1, 0, 1, 0, 1, 0, 1, 0, 1, 0, 1, 0, 1, 0, 1, 0, 1, 0, 1, 0, 1, 0, 1, 0, 1, 0, 1, 0, 1, 0, 1, 0, 1, 0, 1, 0, 1, 0, 1, 0, 1, 0, 1, 0, 1, 0, 1, 0, 1, 0, 1, 0, 1, 0, 1, 0, 1, 0, 1, 0, 1, 0, 1, 0, 1, 0, 1, 0, 1, 0, 1, 0, 1, 0, 1, 0, 1, 0, 1, 0, 1, 0, 1, 0, 1, 0, 1, 0, 1, 0, 1, 0, 1, 0, 1, 0, 1, 0, 1, 0, 1, 0, 1, 0, 1, 0, 1, 0, 1, 0, 1, 0, 1, 0, 1, 0, 1, 0, 1, 0, 1, 0, 1, 0, 1, 0, 1, 0, 1, 0, 1, 0, 1, 0, 1, 0, 1, 0, 1, 0, 1, 0, 1, 0, 1, 0, 1, 0, 1, 0, 1, 0, 1, 0, 1, 0, 1, 0, 1, 0, 1, 0, 1, 0, 1, 0, 1, 0, 1, 0, 1, 0, 1, 0, 1, 0, 1, 0, 1, 0, 1, 0, 1, 0, 1, 0, 1, 0, 1, 0, 1, 0, 1, 0, 1, 0, 1, 0, 1, 0, 1, 0, 1, 0, 1, 0, 1, 0, 1, 0, 1, 0, 1, 0, 1, 0, 1, 0, 1, 0, 1, 0, 1, 0, 1, 0, 1, 0, 1, 0, 1, 0, 1, 0, 1, 0, 1, 0, 1, 0, 1, 0, 1, 0, 1, 0, 1, 0, 1, 0, 1, 0, 1, 0, 1, 0, 1, 0, 1, 0, 1, 0, 1, 0, 1, 0, 1, 0, 1, 0, 1, 0, 1, 0, 1, 0, 1, 0, 1, 0, 1, 0, 1, 0, 1, 0, 1, 0, 1, 0, 1, 0, 1, 0, 1, 0, 1, 0, 1, 0, 1, 0, 1, 0, 1, 0, 1, 0, 1, 0, 1, 0, 1, 0, 1, 0, 1, 0, 1, 0, 1, 0, 1, 0, 1, 0, 1, 0, 1, 0, 1, 0, 1, 0, 1, 0, 1, 0, 1, 0, 1, 0, 1, 0, 1, 0, 1, 0, 1, 0, 1, 0, 1, 0, 1, 0, 1, 0, 1, 0, 1, 0, 1, 0, 1, 0, 1, 0, 1, 0, 1, 0, 1, 0, 1, 0, 1, 0, 1, 0, 1, 0, 1, 0, 1, 0, 1, 0, 1, 0, 1, 0, 1, 0, 1, 0, 1, 0, 1, 0, 1, 0, 1, 0, 1, 0, 1, 0, 1, 0, 1, 0, 1, 0, 1, 0, 1, 0, 1, 0, 1, 0, 1, 0, 1, 0, 1, 0, 1, 0, 1, 0, 1, 0, 1, 0, 1, 0, 1, 0, 1, 0, 1, 0, 1, 0, 1, 0, 1, 0, 1, 0, 1, 0, 1, 0, 1, 0, 1, 0, 1, 0, 1, 0, 1, 0, 1, 0, 1, 0, 1, 0, 1, 0, 1, 0, 1, 0, 1, 0, 1, 0, 1, 0, 1, 0, 1, 0, 1, 0, 1, 0, 1, 0, 1, 0, 1, 0, 1, 0, 1, 0, 1, 0, 1, 0, 1, 0, 1, 0, 1, 0, 1, 0, 1, 0, 1, 0, 1, 0, 1, 0, 1, 0, 1, 0, 1, 0, 1, 0, 1, 0, 1, 0, 1, 0, 1, 0, 1, 0, 1, 0, 1, 0, 1, 0, 1, 0, 1, 0, 1, 0, 1, 0, 1, 0, 1, 0, 1, 0, 1, 0, 1, 0, 1, 0, 1, 0, 1, 0, 1, 0, 1, 0, 1, 0, 1, 0, 1, 0, 1, 0, 1, 0, 1, 0, 1, 0, 1, 0, 1, 0, 1, 0, 1, 0, 1, 0, 1, 0, 1, 0, 1, 0, 1, 0, 1, 0, 1, 0, 1, 0, 1, 0, 1, 0, 1, 0, 1, 0, 1, 0, 1, 0, 1, 0, 1, 0, 1, 0, 1, 0, 1, 0, 1, 0, 1, 0, 1, 0, 1, 0, 1, 0, 1, 0, 1, 0, 1, 0, 1, 0, 1, 0, 1, 0, 1, 0, 1, 0, 1, 0, 1, 0, 1, 0, 1, 0, 1, 0, 1, 0, 1, 0, 1, 0, 1, 0, 1, 0, 1, 0, 1, 0, 1, 0, 1, 0, 1, 0, 1, 0, 1, 0, 1, 0, 1, 0, 1, 0, 1, 0, 1, 0, 1, 0, 1, 0, 1, 0, 1, 0, 1, 0, 1, 0, 1, 0, 1, 0, 1, 0, 1, 0, 1, 0, 1]\n"
     ]
    }
   ],
   "source": [
    "l1 = []\n",
    "n = 30*30\n",
    "counter = 0\n",
    "# l1.append(2)\n",
    "# l1\n",
    "\n",
    "for i in range(n):\n",
    "    l1.append(counter)\n",
    "    counter = (counter + 1) % 2\n",
    "print(l1)"
   ]
  },
  {
   "cell_type": "code",
   "execution_count": 10,
   "id": "7d3ef1ed-05e6-49bc-b03c-b3527e8c1758",
   "metadata": {},
   "outputs": [
    {
     "name": "stdout",
     "output_type": "stream",
     "text": [
      "[[0 1 0 1 0 1 0 1 0 1 0 1 0 1 0 1 0 1 0 1 0 1 0 1 0 1 0 1 0 1]\n",
      " [0 1 0 1 0 1 0 1 0 1 0 1 0 1 0 1 0 1 0 1 0 1 0 1 0 1 0 1 0 1]\n",
      " [0 1 0 1 0 1 0 1 0 1 0 1 0 1 0 1 0 1 0 1 0 1 0 1 0 1 0 1 0 1]\n",
      " [0 1 0 1 0 1 0 1 0 1 0 1 0 1 0 1 0 1 0 1 0 1 0 1 0 1 0 1 0 1]\n",
      " [0 1 0 1 0 1 0 1 0 1 0 1 0 1 0 1 0 1 0 1 0 1 0 1 0 1 0 1 0 1]\n",
      " [0 1 0 1 0 1 0 1 0 1 0 1 0 1 0 1 0 1 0 1 0 1 0 1 0 1 0 1 0 1]\n",
      " [0 1 0 1 0 1 0 1 0 1 0 1 0 1 0 1 0 1 0 1 0 1 0 1 0 1 0 1 0 1]\n",
      " [0 1 0 1 0 1 0 1 0 1 0 1 0 1 0 1 0 1 0 1 0 1 0 1 0 1 0 1 0 1]\n",
      " [0 1 0 1 0 1 0 1 0 1 0 1 0 1 0 1 0 1 0 1 0 1 0 1 0 1 0 1 0 1]\n",
      " [0 1 0 1 0 1 0 1 0 1 0 1 0 1 0 1 0 1 0 1 0 1 0 1 0 1 0 1 0 1]\n",
      " [0 1 0 1 0 1 0 1 0 1 0 1 0 1 0 1 0 1 0 1 0 1 0 1 0 1 0 1 0 1]\n",
      " [0 1 0 1 0 1 0 1 0 1 0 1 0 1 0 1 0 1 0 1 0 1 0 1 0 1 0 1 0 1]\n",
      " [0 1 0 1 0 1 0 1 0 1 0 1 0 1 0 1 0 1 0 1 0 1 0 1 0 1 0 1 0 1]\n",
      " [0 1 0 1 0 1 0 1 0 1 0 1 0 1 0 1 0 1 0 1 0 1 0 1 0 1 0 1 0 1]\n",
      " [0 1 0 1 0 1 0 1 0 1 0 1 0 1 0 1 0 1 0 1 0 1 0 1 0 1 0 1 0 1]\n",
      " [0 1 0 1 0 1 0 1 0 1 0 1 0 1 0 1 0 1 0 1 0 1 0 1 0 1 0 1 0 1]\n",
      " [0 1 0 1 0 1 0 1 0 1 0 1 0 1 0 1 0 1 0 1 0 1 0 1 0 1 0 1 0 1]\n",
      " [0 1 0 1 0 1 0 1 0 1 0 1 0 1 0 1 0 1 0 1 0 1 0 1 0 1 0 1 0 1]\n",
      " [0 1 0 1 0 1 0 1 0 1 0 1 0 1 0 1 0 1 0 1 0 1 0 1 0 1 0 1 0 1]\n",
      " [0 1 0 1 0 1 0 1 0 1 0 1 0 1 0 1 0 1 0 1 0 1 0 1 0 1 0 1 0 1]\n",
      " [0 1 0 1 0 1 0 1 0 1 0 1 0 1 0 1 0 1 0 1 0 1 0 1 0 1 0 1 0 1]\n",
      " [0 1 0 1 0 1 0 1 0 1 0 1 0 1 0 1 0 1 0 1 0 1 0 1 0 1 0 1 0 1]\n",
      " [0 1 0 1 0 1 0 1 0 1 0 1 0 1 0 1 0 1 0 1 0 1 0 1 0 1 0 1 0 1]\n",
      " [0 1 0 1 0 1 0 1 0 1 0 1 0 1 0 1 0 1 0 1 0 1 0 1 0 1 0 1 0 1]\n",
      " [0 1 0 1 0 1 0 1 0 1 0 1 0 1 0 1 0 1 0 1 0 1 0 1 0 1 0 1 0 1]\n",
      " [0 1 0 1 0 1 0 1 0 1 0 1 0 1 0 1 0 1 0 1 0 1 0 1 0 1 0 1 0 1]\n",
      " [0 1 0 1 0 1 0 1 0 1 0 1 0 1 0 1 0 1 0 1 0 1 0 1 0 1 0 1 0 1]\n",
      " [0 1 0 1 0 1 0 1 0 1 0 1 0 1 0 1 0 1 0 1 0 1 0 1 0 1 0 1 0 1]\n",
      " [0 1 0 1 0 1 0 1 0 1 0 1 0 1 0 1 0 1 0 1 0 1 0 1 0 1 0 1 0 1]\n",
      " [0 1 0 1 0 1 0 1 0 1 0 1 0 1 0 1 0 1 0 1 0 1 0 1 0 1 0 1 0 1]]\n"
     ]
    }
   ],
   "source": [
    "root_n = int(np.sqrt(n))\n",
    "checker_vector = np.array(l1).reshape(root_n, root_n)\n",
    "print(checker_vector)"
   ]
  },
  {
   "cell_type": "markdown",
   "id": "00d96717-d4bf-41ec-abe9-4d08fc8f3ff8",
   "metadata": {},
   "source": [
    "Question 1,f)"
   ]
  },
  {
   "cell_type": "code",
   "execution_count": 11,
   "id": "98af4057-05f5-470e-9bb9-74139201fe5b",
   "metadata": {},
   "outputs": [],
   "source": [
    "root_n = 10\n",
    "random_matrix = np.random.randint(1000, size=(root_n, root_n))\n",
    "m = np.random.randint(root_n)\n",
    "\n",
    "def mth_element(a_row_of_random_matrix):\n",
    "    return a_row_of_random_matrix[m]\n",
    "\n",
    "# np.sort(random_matrix, axis=1)"
   ]
  },
  {
   "cell_type": "code",
   "execution_count": 12,
   "id": "d9d0f07f-cfb8-406a-af17-d14122c98abc",
   "metadata": {},
   "outputs": [
    {
     "data": {
      "text/plain": [
       "array([[466, 847, 320, 602, 608, 490,  78, 363, 154, 778],\n",
       "       [ 94, 371, 113, 517, 454, 843, 687, 283, 885, 683],\n",
       "       [779, 237, 820, 386, 243, 453,  23, 409, 345, 901],\n",
       "       [600, 532, 129, 217, 958, 182, 966, 772, 897, 314],\n",
       "       [194, 403, 427, 881, 639, 402, 594, 420, 310, 877],\n",
       "       [555,  83, 117, 531, 348, 763, 369, 786,  59, 223],\n",
       "       [286, 508, 278, 745, 901, 711, 658,  52, 263, 355],\n",
       "       [158, 384, 861, 447, 239, 915, 133, 196,  65, 494],\n",
       "       [ 63,  43, 610, 388, 209, 608, 412, 306, 229, 652],\n",
       "       [192, 264, 451, 524, 427,  26, 316, 332, 918, 920]])"
      ]
     },
     "execution_count": 12,
     "metadata": {},
     "output_type": "execute_result"
    }
   ],
   "source": [
    "random_matrix"
   ]
  },
  {
   "cell_type": "code",
   "execution_count": 13,
   "id": "6f291b9c-59b8-467a-8102-05ce769a5246",
   "metadata": {},
   "outputs": [
    {
     "data": {
      "text/plain": [
       "{0: 154, 1: 885, 2: 345, 3: 897, 4: 310, 5: 59, 6: 263, 7: 65, 8: 229, 9: 918}"
      ]
     },
     "execution_count": 13,
     "metadata": {},
     "output_type": "execute_result"
    }
   ],
   "source": [
    "dict1 = {}\n",
    "for i in range(root_n):\n",
    "    dict1[i] = random_matrix[i][m]\n",
    "\n",
    "dict1"
   ]
  },
  {
   "cell_type": "code",
   "execution_count": 14,
   "id": "57f73d05-0210-49b6-831d-63388ac48c09",
   "metadata": {},
   "outputs": [
    {
     "name": "stdout",
     "output_type": "stream",
     "text": [
      "{5: 59, 7: 65, 0: 154, 8: 229, 6: 263, 4: 310, 2: 345, 1: 885, 3: 897, 9: 918}\n"
     ]
    }
   ],
   "source": [
    "dict2 = dict(sorted(dict1.items(), key=lambda item: item[1]))\n",
    "print(dict2)"
   ]
  },
  {
   "cell_type": "code",
   "execution_count": 15,
   "id": "241c52dc-28e5-4e88-bef0-f993f6b79dc5",
   "metadata": {},
   "outputs": [
    {
     "data": {
      "text/plain": [
       "array([5, 7, 0, 8, 6, 4, 2, 1, 3, 9])"
      ]
     },
     "execution_count": 15,
     "metadata": {},
     "output_type": "execute_result"
    }
   ],
   "source": [
    "np.array(list(dict2.keys()))"
   ]
  },
  {
   "cell_type": "code",
   "execution_count": 16,
   "id": "e1da6c77-2c69-4a70-a07c-b843ec243760",
   "metadata": {},
   "outputs": [],
   "source": [
    "final_matrix = []\n",
    "# random_matrix = list(random_matrix)\n",
    "index_list = np.array(list(dict2.keys()))\n",
    "\n",
    "for i in range(root_n):\n",
    "    final_matrix.append( random_matrix[index_list[i]] )"
   ]
  },
  {
   "cell_type": "code",
   "execution_count": 17,
   "id": "439ea6e6-4393-4a34-9126-277e242caa26",
   "metadata": {},
   "outputs": [
    {
     "data": {
      "text/plain": [
       "[array([555,  83, 117, 531, 348, 763, 369, 786,  59, 223]),\n",
       " array([158, 384, 861, 447, 239, 915, 133, 196,  65, 494]),\n",
       " array([466, 847, 320, 602, 608, 490,  78, 363, 154, 778]),\n",
       " array([ 63,  43, 610, 388, 209, 608, 412, 306, 229, 652]),\n",
       " array([286, 508, 278, 745, 901, 711, 658,  52, 263, 355]),\n",
       " array([194, 403, 427, 881, 639, 402, 594, 420, 310, 877]),\n",
       " array([779, 237, 820, 386, 243, 453,  23, 409, 345, 901]),\n",
       " array([ 94, 371, 113, 517, 454, 843, 687, 283, 885, 683]),\n",
       " array([600, 532, 129, 217, 958, 182, 966, 772, 897, 314]),\n",
       " array([192, 264, 451, 524, 427,  26, 316, 332, 918, 920])]"
      ]
     },
     "execution_count": 17,
     "metadata": {},
     "output_type": "execute_result"
    }
   ],
   "source": [
    "final_matrix"
   ]
  },
  {
   "cell_type": "code",
   "execution_count": 18,
   "id": "f71773a8-892c-4666-b273-7f16c5d302f8",
   "metadata": {},
   "outputs": [
    {
     "data": {
      "text/plain": [
       "8"
      ]
     },
     "execution_count": 18,
     "metadata": {},
     "output_type": "execute_result"
    }
   ],
   "source": [
    "m"
   ]
  },
  {
   "cell_type": "markdown",
   "id": "09c61534-acc2-4485-9dab-c2216e8af585",
   "metadata": {},
   "source": [
    "Question 1.g)"
   ]
  },
  {
   "cell_type": "code",
   "execution_count": 19,
   "id": "ccc98ac0-85f0-4078-94ed-edf6ce2dd539",
   "metadata": {},
   "outputs": [],
   "source": [
    "m = 7\n",
    "array = np.ndarray((m, m))\n",
    "\n",
    "for i in range(m):\n",
    "    for j in range(m):\n",
    "        array[i][j] = i+j"
   ]
  },
  {
   "cell_type": "code",
   "execution_count": 20,
   "id": "3f7459d0-2373-4d10-b181-60985677f483",
   "metadata": {},
   "outputs": [
    {
     "data": {
      "text/plain": [
       "array([[ 0.,  1.,  2.,  3.,  4.,  5.,  6.],\n",
       "       [ 1.,  2.,  3.,  4.,  5.,  6.,  7.],\n",
       "       [ 2.,  3.,  4.,  5.,  6.,  7.,  8.],\n",
       "       [ 3.,  4.,  5.,  6.,  7.,  8.,  9.],\n",
       "       [ 4.,  5.,  6.,  7.,  8.,  9., 10.],\n",
       "       [ 5.,  6.,  7.,  8.,  9., 10., 11.],\n",
       "       [ 6.,  7.,  8.,  9., 10., 11., 12.]])"
      ]
     },
     "execution_count": 20,
     "metadata": {},
     "output_type": "execute_result"
    }
   ],
   "source": [
    "array"
   ]
  },
  {
   "cell_type": "markdown",
   "id": "e054a757-9847-47ab-953c-de0055d91d61",
   "metadata": {},
   "source": [
    "###"
   ]
  },
  {
   "cell_type": "markdown",
   "id": "3e82d25d-f38e-470e-81ec-3a3b7374fb12",
   "metadata": {},
   "source": [
    "Question 1.h)"
   ]
  },
  {
   "cell_type": "code",
   "execution_count": 21,
   "id": "3ef455ba-2af7-466f-8dbd-62a86afef6ae",
   "metadata": {},
   "outputs": [],
   "source": [
    "aray = np.ndarray((6, 7, 8))"
   ]
  },
  {
   "cell_type": "code",
   "execution_count": 22,
   "id": "7f29a13f-eba1-49be-a138-49af824d0e5d",
   "metadata": {},
   "outputs": [
    {
     "name": "stdout",
     "output_type": "stream",
     "text": [
      "i:1, j:5, k:3\n"
     ]
    },
    {
     "ename": "SystemExit",
     "evalue": "",
     "output_type": "error",
     "traceback": [
      "An exception has occurred, use %tb to see the full traceback.\n",
      "\u001b[1;31mSystemExit\u001b[0m\n"
     ]
    },
    {
     "name": "stderr",
     "output_type": "stream",
     "text": [
      "C:\\ProgramData\\anaconda3\\Lib\\site-packages\\IPython\\core\\interactiveshell.py:3585: UserWarning: To exit: use 'exit', 'quit', or Ctrl-D.\n",
      "  warn(\"To exit: use 'exit', 'quit', or Ctrl-D.\", stacklevel=1)\n"
     ]
    }
   ],
   "source": [
    "import sys\n",
    "\n",
    "element_number = 1\n",
    "for i in range(6):\n",
    "    for j in range(7):\n",
    "        for k in range(8):\n",
    "            if (element_number == 100):\n",
    "                print(f'i:{i}, j:{j}, k:{k}')\n",
    "                sys.exit()\n",
    "            element_number += 1"
   ]
  },
  {
   "cell_type": "markdown",
   "id": "013c74af-6068-41ef-82a0-aef1cac8e943",
   "metadata": {},
   "source": [
    "####"
   ]
  },
  {
   "cell_type": "markdown",
   "id": "6a8653b3-9a22-4d57-8f8d-59fa64f19509",
   "metadata": {},
   "source": [
    "Question 1.i)"
   ]
  },
  {
   "cell_type": "code",
   "execution_count": 23,
   "id": "f9cb5dfb-904d-424a-b6fc-2643c5eba247",
   "metadata": {},
   "outputs": [],
   "source": [
    "import numpy as np\n",
    "A = np.random.randint(100, size=(5,3))\n",
    "B = np.random.randint(100, size=(3,2))"
   ]
  },
  {
   "cell_type": "code",
   "execution_count": 24,
   "id": "b46c1759-9a6d-4836-bd1f-6b691ce3e174",
   "metadata": {},
   "outputs": [
    {
     "data": {
      "text/plain": [
       "(array([[30, 91, 82],\n",
       "        [76, 21, 41],\n",
       "        [42, 30, 80],\n",
       "        [23, 54, 32],\n",
       "        [62, 79, 92]]),\n",
       " array([[81,  7],\n",
       "        [ 0, 21],\n",
       "        [14, 45]]))"
      ]
     },
     "execution_count": 24,
     "metadata": {},
     "output_type": "execute_result"
    }
   ],
   "source": [
    "A, B"
   ]
  },
  {
   "cell_type": "code",
   "execution_count": 25,
   "id": "94d27ffb-e265-4f8d-9837-a464611999b7",
   "metadata": {},
   "outputs": [
    {
     "data": {
      "text/plain": [
       "array([[3578, 5811],\n",
       "       [6730, 2818],\n",
       "       [4522, 4524],\n",
       "       [2311, 2735],\n",
       "       [6310, 6233]])"
      ]
     },
     "execution_count": 25,
     "metadata": {},
     "output_type": "execute_result"
    }
   ],
   "source": [
    "np.matmul(A, B)"
   ]
  },
  {
   "cell_type": "markdown",
   "id": "ae06f13e-3bf7-4488-a37f-340bbe7326a6",
   "metadata": {},
   "source": [
    "####"
   ]
  },
  {
   "cell_type": "markdown",
   "id": "4354ceae-c8dd-442a-801d-77c89eb82ef0",
   "metadata": {},
   "source": [
    "Question 1.j)"
   ]
  },
  {
   "cell_type": "code",
   "execution_count": 26,
   "id": "0baace48-c7d9-44e1-b1c0-6eb4693335f6",
   "metadata": {},
   "outputs": [
    {
     "name": "stdout",
     "output_type": "stream",
     "text": [
      "2.1653240920544317 9 3\n"
     ]
    }
   ],
   "source": [
    "random_vector_again = np.random.randn(10,10)\n",
    "\n",
    "max_value = float('-inf')\n",
    "\n",
    "max_value_index_axis0 = 0\n",
    "max_value_index_axis1 = 0\n",
    "\n",
    "for i in range(len(random_vector_again[:][0])):\n",
    "    for j in range(len(random_vector_again[0][:])):\n",
    "        if random_vector_again[i][j] > random_vector_again[max_value_index_axis0][max_value_index_axis1]:\n",
    "            max_value = random_vector_again[i][j]\n",
    "            max_value_index_axis0 = i\n",
    "            max_value_index_axis1 = j\n",
    "\n",
    "print(max_value, max_value_index_axis0, max_value_index_axis1)"
   ]
  },
  {
   "cell_type": "code",
   "execution_count": 27,
   "id": "98191aff-2e01-4b4e-9281-28ace14b9705",
   "metadata": {},
   "outputs": [],
   "source": [
    "random_vector_again[max_value_index_axis0][max_value_index_axis1] = 0"
   ]
  },
  {
   "cell_type": "code",
   "execution_count": 28,
   "id": "b56f08c7-ceb2-474e-bdb4-e575aa822753",
   "metadata": {},
   "outputs": [
    {
     "data": {
      "text/plain": [
       "array([[-0.48439469,  0.74794979,  1.09220649,  0.97545097,  0.13183625,\n",
       "        -0.96345125,  0.75230045, -1.05255952,  0.17867756, -0.31977055],\n",
       "       [ 1.84189764, -1.80083627, -0.99249433,  0.79641272, -1.83088303,\n",
       "        -0.16277901, -0.49069442,  0.30285908, -1.60065637, -0.06949376],\n",
       "       [ 0.37928518, -0.15740526,  0.31091284, -1.44421503,  0.56219225,\n",
       "        -0.27835483, -0.44584332, -0.1819823 , -0.23868264,  0.74190112],\n",
       "       [ 0.3279985 ,  0.19342287,  1.12400764, -0.30885867,  1.75986284,\n",
       "         0.93205526, -0.3671292 ,  1.33471934,  0.78287382,  0.57143967],\n",
       "       [ 0.7496605 , -0.5308957 ,  0.42514542,  0.10843884, -0.65082041,\n",
       "         0.32599158, -0.49808332, -1.70246546,  1.5108306 , -2.02663645],\n",
       "       [ 1.28890111,  0.92740893,  0.41413549,  0.00975904, -0.51792767,\n",
       "         0.45805974,  0.2700743 , -1.08132702, -0.65670915, -1.52910804],\n",
       "       [ 0.40840457,  0.76607633,  0.49282574, -0.59702412, -1.21738208,\n",
       "         0.97640471,  0.20429974, -1.29110603,  1.68482281, -0.12760591],\n",
       "       [-1.4467594 ,  1.96487344, -0.40745476, -0.18695024, -1.32903049,\n",
       "         0.21274019, -1.67001531,  0.22636187, -0.57545619, -0.29524933],\n",
       "       [-0.01620722,  0.9754284 , -1.04507729, -0.73393998,  0.14341973,\n",
       "        -0.78111607, -1.22920141,  1.02241325, -0.17135766,  0.95560826],\n",
       "       [ 0.397193  , -0.5563849 ,  0.25683762,  0.        , -1.21729715,\n",
       "        -0.5640306 , -0.49667937,  1.33712767, -0.70061277, -0.72088648]])"
      ]
     },
     "execution_count": 28,
     "metadata": {},
     "output_type": "execute_result"
    }
   ],
   "source": [
    "random_vector_again"
   ]
  },
  {
   "cell_type": "markdown",
   "id": "6371b622-5d39-4f87-94b8-83268b0af3c6",
   "metadata": {},
   "source": [
    "####"
   ]
  },
  {
   "cell_type": "markdown",
   "id": "8e6d9e09-1240-40e6-95ed-2fda589b49a1",
   "metadata": {},
   "source": [
    "Question 1.K)"
   ]
  },
  {
   "cell_type": "code",
   "execution_count": 30,
   "id": "c3e57689-f7d3-4f69-b561-3529af2274f5",
   "metadata": {},
   "outputs": [
    {
     "data": {
      "text/plain": [
       "array([23, 72, 44, 49, 18, 43, 59, 67, 71, 32, 17, 88, 80, 32, 13, 23, 54,\n",
       "        0, 25, 62, 14, 65, 86,  0, 81, 42,  4, 45, 22, 43, 16, 79, 40, 79,\n",
       "       96, 78, 84,  7, 10, 75])"
      ]
     },
     "execution_count": 30,
     "metadata": {},
     "output_type": "execute_result"
    }
   ],
   "source": [
    "k = 34\n",
    "\n",
    "array = np.random.randint(100, size=(40))\n",
    "array"
   ]
  },
  {
   "cell_type": "code",
   "execution_count": 36,
   "id": "cf50522a-2307-4827-b1bd-20eefebafa66",
   "metadata": {},
   "outputs": [
    {
     "name": "stdout",
     "output_type": "stream",
     "text": [
      "32 9\n"
     ]
    }
   ],
   "source": [
    "closest = 0\n",
    "for i in range(len(array)):\n",
    "    if abs(array[i] - k) < abs(array[closest] - k):\n",
    "        closest = i\n",
    "\n",
    "print(array[closest], closest)"
   ]
  },
  {
   "cell_type": "markdown",
   "id": "94a597a7-fbac-4a97-b880-9057e9b4506c",
   "metadata": {},
   "source": [
    "####"
   ]
  },
  {
   "cell_type": "markdown",
   "id": "6df02b8a-a785-4c02-943e-33deaf8a6e0a",
   "metadata": {},
   "source": [
    "Question 1.l)"
   ]
  },
  {
   "cell_type": "code",
   "execution_count": 38,
   "id": "3953c669-5dd8-4aa1-adb2-52f59f779e31",
   "metadata": {},
   "outputs": [
    {
     "data": {
      "text/plain": [
       "[array([555,  83, 117, 531, 348, 763, 369, 786,  59, 223]),\n",
       " array([158, 384, 861, 447, 239, 915, 133, 196,  65, 494]),\n",
       " array([466, 847, 320, 602, 608, 490,  78, 363, 154, 778]),\n",
       " array([ 63,  43, 610, 388, 209, 608, 412, 306, 229, 652]),\n",
       " array([286, 508, 278, 745, 901, 711, 658,  52, 263, 355]),\n",
       " array([194, 403, 427, 881, 639, 402, 594, 420, 310, 877]),\n",
       " array([779, 237, 820, 386, 243, 453,  23, 409, 345, 901]),\n",
       " array([ 94, 371, 113, 517, 454, 843, 687, 283, 885, 683]),\n",
       " array([600, 532, 129, 217, 958, 182, 966, 772, 897, 314]),\n",
       " array([192, 264, 451, 524, 427,  26, 316, 332, 918, 920])]"
      ]
     },
     "execution_count": 38,
     "metadata": {},
     "output_type": "execute_result"
    }
   ],
   "source": [
    "final_matrix"
   ]
  },
  {
   "cell_type": "code",
   "execution_count": 42,
   "id": "64fa2139-0218-4c7f-aeff-9f8bc9473779",
   "metadata": {},
   "outputs": [
    {
     "data": {
      "text/plain": [
       "[array([ 171, -300, -266,  147,  -35,  379,  -14,  402, -324, -160]),\n",
       " array([-231,   -5,  471,   57, -150,  525, -256, -193, -324,  104]),\n",
       " array([  -4,  376, -150,  131,  137,   19, -392, -107, -316,  307]),\n",
       " array([-289, -309,  258,   36, -143,  256,   60,  -46, -123,  300]),\n",
       " array([-189,   32, -197,  269,  425,  235,  182, -423, -212, -120]),\n",
       " array([-320, -111,  -87,  366,  124, -112,   79,  -94, -204,  362]),\n",
       " array([ 319, -222,  360,  -73, -216,   -6, -436,  -50, -114,  441]),\n",
       " array([-399, -122, -380,   24,  -39,  350,  194, -210,  392,  190]),\n",
       " array([  43,  -24, -427, -339,  401, -374,  409,  215,  340, -242]),\n",
       " array([-245, -173,   14,   87,  -10, -411, -121, -105,  481,  483])]"
      ]
     },
     "execution_count": 42,
     "metadata": {},
     "output_type": "execute_result"
    }
   ],
   "source": [
    "for i in range(len(final_matrix)):\n",
    "    mean_of_row = np.mean(final_matrix[i])\n",
    "    for j in range(len(item)):\n",
    "        final_matrix[i][j] -= mean_of_row\n",
    "\n",
    "final_matrix"
   ]
  },
  {
   "cell_type": "markdown",
   "id": "4f8e315a-a20a-49ee-9ad3-a1d4b894c826",
   "metadata": {},
   "source": [
    "####"
   ]
  },
  {
   "cell_type": "markdown",
   "id": "e74f4fd2-6637-4017-a764-dc6b8e3f880f",
   "metadata": {},
   "source": [
    "#### Question 1.p)"
   ]
  },
  {
   "cell_type": "code",
   "execution_count": 45,
   "id": "24cb10fa-5128-4ffa-bbfc-a0cc8032e1fd",
   "metadata": {},
   "outputs": [
    {
     "name": "stdout",
     "output_type": "stream",
     "text": [
      "10\n",
      "1\n"
     ]
    }
   ],
   "source": [
    "print(np.linalg.matrix_rank(final_matrix))\n",
    "print(np.linalg.matrix_rank(checker_vector))"
   ]
  },
  {
   "cell_type": "code",
   "execution_count": 46,
   "id": "d7d1e70b-bfeb-418d-8b8d-dff3f8a58f2a",
   "metadata": {},
   "outputs": [
    {
     "name": "stdout",
     "output_type": "stream",
     "text": [
      "542\n"
     ]
    }
   ],
   "source": [
    "print(np.trace(final_matrix))"
   ]
  },
  {
   "cell_type": "code",
   "execution_count": 47,
   "id": "2fa8953b-293d-4119-a0b9-841bfd937ca7",
   "metadata": {},
   "outputs": [
    {
     "name": "stdout",
     "output_type": "stream",
     "text": [
      "-5.202965676239744e+24\n"
     ]
    }
   ],
   "source": [
    "print(np.linalg.det(final_matrix))"
   ]
  },
  {
   "cell_type": "markdown",
   "id": "dbf04c01-9af3-45f9-acb4-0afa73f722df",
   "metadata": {},
   "source": [
    "####"
   ]
  },
  {
   "cell_type": "markdown",
   "id": "6512aea3-00ef-43b1-81b0-cd9fc520df43",
   "metadata": {},
   "source": [
    "#### Question 1.n)"
   ]
  },
  {
   "cell_type": "code",
   "execution_count": 51,
   "id": "f022a0be-7dcb-4625-aa68-26a135fa7a27",
   "metadata": {},
   "outputs": [
    {
     "data": {
      "text/plain": [
       "array([3, 1, 1, 5, 9, 7, 9, 2, 6, 5, 1, 0, 8, 0, 0, 4, 7, 9, 2, 5, 5, 3,\n",
       "       9, 5, 3, 6, 7, 7, 0, 6, 7, 9, 3, 1, 6, 3, 8, 6, 9, 9, 5, 6, 3, 1,\n",
       "       1, 6, 4, 0, 6, 0, 8, 5, 8, 6, 2, 2, 7, 8, 9, 1, 0, 2, 4, 9, 8, 7,\n",
       "       9, 4, 3, 0, 3, 9, 0, 0, 1, 7, 8, 4, 5, 0, 9, 5, 4, 4, 2, 8, 3, 2,\n",
       "       5, 9])"
      ]
     },
     "execution_count": 51,
     "metadata": {},
     "output_type": "execute_result"
    }
   ],
   "source": [
    "array = np.random.randint(10, size=(90))\n",
    "array"
   ]
  },
  {
   "cell_type": "code",
   "execution_count": 53,
   "id": "000fe488-aa44-4820-bdc5-23d77dc97451",
   "metadata": {},
   "outputs": [
    {
     "data": {
      "text/plain": [
       "ModeResult(mode=9, count=13)"
      ]
     },
     "execution_count": 53,
     "metadata": {},
     "output_type": "execute_result"
    }
   ],
   "source": [
    "from scipy import stats\n",
    "\n",
    "result = stats.mode(array)\n",
    "result"
   ]
  },
  {
   "cell_type": "markdown",
   "id": "f7ba9fc1-686b-46ad-933e-3af047b05548",
   "metadata": {},
   "source": [
    "####"
   ]
  },
  {
   "cell_type": "markdown",
   "id": "a769ee32-08d8-45f1-81de-29173599c820",
   "metadata": {},
   "source": [
    "#### Question 1.o)"
   ]
  },
  {
   "cell_type": "code",
   "execution_count": null,
   "id": "de82629e-819d-4ea8-8798-2cbe3517ff74",
   "metadata": {},
   "outputs": [],
   "source": []
  }
 ],
 "metadata": {
  "kernelspec": {
   "display_name": "Python 3 (ipykernel)",
   "language": "python",
   "name": "python3"
  },
  "language_info": {
   "codemirror_mode": {
    "name": "ipython",
    "version": 3
   },
   "file_extension": ".py",
   "mimetype": "text/x-python",
   "name": "python",
   "nbconvert_exporter": "python",
   "pygments_lexer": "ipython3",
   "version": "3.12.4"
  }
 },
 "nbformat": 4,
 "nbformat_minor": 5
}
