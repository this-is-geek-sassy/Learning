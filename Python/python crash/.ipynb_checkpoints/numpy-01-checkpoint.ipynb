{
 "cells": [
  {
   "cell_type": "code",
   "execution_count": 1,
   "id": "7c127e3f",
   "metadata": {},
   "outputs": [],
   "source": [
    "import numpy as np"
   ]
  },
  {
   "cell_type": "code",
   "execution_count": 3,
   "id": "c8b02529",
   "metadata": {},
   "outputs": [
    {
     "name": "stdout",
     "output_type": "stream",
     "text": [
      "[1, 2, 3, 4, 5]\n",
      "2\n",
      "[2, 3, 4]\n",
      "5\n",
      "<class 'list'>\n"
     ]
    }
   ],
   "source": [
    "a = [1,2,3,4,5]\n",
    "\n",
    "print(a)\n",
    "print(a[1])\n",
    "print(a[1:4])\n",
    "print(a[-1])\n",
    "print(type(a))"
   ]
  },
  {
   "cell_type": "code",
   "execution_count": 4,
   "id": "e78b6f85",
   "metadata": {},
   "outputs": [
    {
     "name": "stdout",
     "output_type": "stream",
     "text": [
      "[1 2 3 4 5]\n",
      "<class 'numpy.ndarray'>\n"
     ]
    }
   ],
   "source": [
    "a = np.array([1,2,3,4,5])\n",
    "\n",
    "print(a)\n",
    "print(type(a))"
   ]
  },
  {
   "cell_type": "code",
   "execution_count": 5,
   "id": "32a25a3c",
   "metadata": {},
   "outputs": [
    {
     "name": "stdout",
     "output_type": "stream",
     "text": [
      "[2 3 4 5]\n"
     ]
    }
   ],
   "source": [
    "print(a[1:])"
   ]
  },
  {
   "cell_type": "code",
   "execution_count": 6,
   "id": "08c588bb",
   "metadata": {},
   "outputs": [
    {
     "name": "stdout",
     "output_type": "stream",
     "text": [
      "[1 2 3]\n"
     ]
    }
   ],
   "source": [
    "print(a[:-2])"
   ]
  },
  {
   "cell_type": "code",
   "execution_count": 7,
   "id": "66f031cf",
   "metadata": {},
   "outputs": [
    {
     "data": {
      "text/plain": [
       "array([ 1,  2, 10,  4,  5])"
      ]
     },
     "execution_count": 7,
     "metadata": {},
     "output_type": "execute_result"
    }
   ],
   "source": [
    "a[2] = 10\n",
    "a"
   ]
  },
  {
   "cell_type": "code",
   "execution_count": 8,
   "id": "699d7d5a",
   "metadata": {},
   "outputs": [
    {
     "name": "stdout",
     "output_type": "stream",
     "text": [
      "[ 1  2 10  4  5]\n"
     ]
    }
   ],
   "source": [
    "print(a)"
   ]
  },
  {
   "cell_type": "code",
   "execution_count": 20,
   "id": "0430a683",
   "metadata": {},
   "outputs": [
    {
     "name": "stdout",
     "output_type": "stream",
     "text": [
      "[[1 2 3 1]\n",
      " [4 5 6 1]\n",
      " [7 8 9 1]]\n",
      "*************\n",
      "[4 5 6 1]\n",
      "*************\n",
      "[4 5 6 1]\n"
     ]
    }
   ],
   "source": [
    "a_mul = np.array([[[1,2,3,1],\n",
    "                [4,5,6,1],\n",
    "                [7,8,9,1]],\n",
    "                \n",
    "                [[1,1,1,1],\n",
    "                [2,2,2,2],\n",
    "                [3,3,3,3]]])\n",
    "print(a_mul[0])\n",
    "print(\"*************\")\n",
    "print(a_mul[0][1])\n",
    "print(\"*************\")\n",
    "print(a_mul[0,1])"
   ]
  },
  {
   "cell_type": "code",
   "execution_count": 21,
   "id": "da6d63d3",
   "metadata": {},
   "outputs": [
    {
     "name": "stdout",
     "output_type": "stream",
     "text": [
      "(2, 3, 4)\n"
     ]
    }
   ],
   "source": [
    "print(a_mul.shape)"
   ]
  },
  {
   "cell_type": "code",
   "execution_count": 23,
   "id": "6b799a77",
   "metadata": {},
   "outputs": [
    {
     "name": "stdout",
     "output_type": "stream",
     "text": [
      "3\n"
     ]
    }
   ],
   "source": [
    "print(a_mul.ndim)   # dimension"
   ]
  },
  {
   "cell_type": "code",
   "execution_count": 25,
   "id": "1b504c3b",
   "metadata": {},
   "outputs": [
    {
     "name": "stdout",
     "output_type": "stream",
     "text": [
      "24\n"
     ]
    }
   ],
   "source": [
    "print(a_mul.size)   # 2*3*4 = 24"
   ]
  },
  {
   "cell_type": "code",
   "execution_count": 27,
   "id": "690cfa24",
   "metadata": {},
   "outputs": [
    {
     "name": "stdout",
     "output_type": "stream",
     "text": [
      "int32\n"
     ]
    }
   ],
   "source": [
    "# datatype  (numpy is written in C, and it is statically typed and strict)\n",
    "print(a_mul.dtype)"
   ]
  },
  {
   "cell_type": "code",
   "execution_count": 28,
   "id": "b5d53843",
   "metadata": {},
   "outputs": [
    {
     "data": {
      "text/plain": [
       "array([[['1', '2', '3', '1'],\n",
       "        ['4', '5', '6', '1'],\n",
       "        ['7', '8', '9', '1']],\n",
       "\n",
       "       [['1', 'hello', '1', '1'],\n",
       "        ['2', '2', '2', '2'],\n",
       "        ['3', '3', '3', '3']]], dtype='<U11')"
      ]
     },
     "execution_count": 28,
     "metadata": {},
     "output_type": "execute_result"
    }
   ],
   "source": [
    "b = np.array([[[1,2,3,1],\n",
    "                [4,5,6,1],\n",
    "                [7,8,9,1]],\n",
    "                \n",
    "                [[1, 'hello', 1, 1],\n",
    "                [2,2,2,2],\n",
    "                [3,3,3,3]]])\n",
    "b"
   ]
  },
  {
   "cell_type": "code",
   "execution_count": 29,
   "id": "814d1962",
   "metadata": {},
   "outputs": [
    {
     "name": "stdout",
     "output_type": "stream",
     "text": [
      "<U11\n"
     ]
    }
   ],
   "source": [
    "print(b.dtype)"
   ]
  },
  {
   "cell_type": "code",
   "execution_count": 33,
   "id": "36de216b",
   "metadata": {},
   "outputs": [
    {
     "name": "stdout",
     "output_type": "stream",
     "text": [
      "1\n",
      "<class 'numpy.str_'>\n",
      "<U1\n"
     ]
    }
   ],
   "source": [
    "print(int(b[0, 0, 0]))\n",
    "print(type(b[0, 0, 0]))\n",
    "print(b[0, 0, 0].dtype)"
   ]
  },
  {
   "cell_type": "code",
   "execution_count": 34,
   "id": "c49270dc",
   "metadata": {},
   "outputs": [
    {
     "ename": "ValueError",
     "evalue": "invalid literal for int() with base 10: 'hello'",
     "output_type": "error",
     "traceback": [
      "\u001b[1;31m---------------------------------------------------------------------------\u001b[0m",
      "\u001b[1;31mValueError\u001b[0m                                Traceback (most recent call last)",
      "Cell \u001b[1;32mIn[34], line 1\u001b[0m\n\u001b[1;32m----> 1\u001b[0m c \u001b[38;5;241m=\u001b[39m np\u001b[38;5;241m.\u001b[39marray([[[\u001b[38;5;241m1\u001b[39m,\u001b[38;5;241m2\u001b[39m,\u001b[38;5;241m3\u001b[39m,\u001b[38;5;241m1\u001b[39m],\n\u001b[0;32m      2\u001b[0m                 [\u001b[38;5;241m4\u001b[39m,\u001b[38;5;241m5\u001b[39m,\u001b[38;5;241m6\u001b[39m,\u001b[38;5;241m1\u001b[39m],\n\u001b[0;32m      3\u001b[0m                 [\u001b[38;5;241m7\u001b[39m,\u001b[38;5;241m8\u001b[39m,\u001b[38;5;241m9\u001b[39m,\u001b[38;5;241m1\u001b[39m]],\n\u001b[0;32m      4\u001b[0m                 \n\u001b[0;32m      5\u001b[0m                 [[\u001b[38;5;241m1\u001b[39m, \u001b[38;5;124m'\u001b[39m\u001b[38;5;124mhello\u001b[39m\u001b[38;5;124m'\u001b[39m, \u001b[38;5;241m1\u001b[39m, \u001b[38;5;241m1\u001b[39m],\n\u001b[0;32m      6\u001b[0m                 [\u001b[38;5;241m2\u001b[39m,\u001b[38;5;241m2\u001b[39m,\u001b[38;5;241m2\u001b[39m,\u001b[38;5;241m2\u001b[39m],\n\u001b[0;32m      7\u001b[0m                 [\u001b[38;5;241m3\u001b[39m,\u001b[38;5;241m3\u001b[39m,\u001b[38;5;241m3\u001b[39m,\u001b[38;5;241m3\u001b[39m]]], dtype\u001b[38;5;241m=\u001b[39mnp\u001b[38;5;241m.\u001b[39mint32)\n\u001b[0;32m      8\u001b[0m c\n",
      "\u001b[1;31mValueError\u001b[0m: invalid literal for int() with base 10: 'hello'"
     ]
    }
   ],
   "source": [
    "c = np.array([[[1,2,3,1],\n",
    "                [4,5,6,1],\n",
    "                [7,8,9,1]],\n",
    "                \n",
    "                [[1, 'hello', 1, 1],\n",
    "                [2,2,2,2],\n",
    "                [3,3,3,3]]], dtype=np.int32)\n",
    "c"
   ]
  },
  {
   "cell_type": "code",
   "execution_count": 35,
   "id": "1e55b853",
   "metadata": {},
   "outputs": [
    {
     "data": {
      "text/plain": [
       "array([[[1, 2, 3, 1],\n",
       "        [4, 5, 6, 1],\n",
       "        [7, 8, 9, 1]],\n",
       "\n",
       "       [[1, 5, 1, 1],\n",
       "        [2, 2, 2, 2],\n",
       "        [3, 3, 3, 3]]])"
      ]
     },
     "execution_count": 35,
     "metadata": {},
     "output_type": "execute_result"
    }
   ],
   "source": [
    "c = np.array([[[1,2,3,1],\n",
    "                [4,5,6,1],\n",
    "                [7,8,9,1]],\n",
    "                \n",
    "                [[1, '5', 1, 1],\n",
    "                [2,2,2,2],\n",
    "                [3,3,3,3]]], dtype=np.int32)\n",
    "c"
   ]
  },
  {
   "cell_type": "code",
   "execution_count": 36,
   "id": "50ee3ab0",
   "metadata": {},
   "outputs": [
    {
     "data": {
      "text/plain": [
       "array([[[1., 2., 3., 1.],\n",
       "        [4., 5., 6., 1.],\n",
       "        [7., 8., 9., 1.]],\n",
       "\n",
       "       [[1., 5., 1., 1.],\n",
       "        [2., 2., 2., 2.],\n",
       "        [3., 3., 3., 3.]]], dtype=float32)"
      ]
     },
     "execution_count": 36,
     "metadata": {},
     "output_type": "execute_result"
    }
   ],
   "source": [
    "d = np.array([[[1,2,3,1],\n",
    "                [4,5,6,1],\n",
    "                [7,8,9,1]],\n",
    "                \n",
    "                [[1, '5', 1, 1],\n",
    "                [2,2,2,2],\n",
    "                [3,3,3,3]]], dtype=np.float32)\n",
    "d"
   ]
  },
  {
   "cell_type": "code",
   "execution_count": 38,
   "id": "6a028faa",
   "metadata": {},
   "outputs": [
    {
     "data": {
      "text/plain": [
       "5.0"
      ]
     },
     "execution_count": 38,
     "metadata": {},
     "output_type": "execute_result"
    }
   ],
   "source": [
    "d[1][0][1]"
   ]
  },
  {
   "cell_type": "code",
   "execution_count": 37,
   "id": "f0adc7d4",
   "metadata": {},
   "outputs": [
    {
     "data": {
      "text/plain": [
       "array([[['1', '2', '3', '1'],\n",
       "        ['4', '5', '6', '1'],\n",
       "        ['7', '8', '9', '1']],\n",
       "\n",
       "       [['1', '5', '1', '1'],\n",
       "        ['2', '2', '2', '2'],\n",
       "        ['3', '3', '3', '3']]], dtype='<U11')"
      ]
     },
     "execution_count": 37,
     "metadata": {},
     "output_type": "execute_result"
    }
   ],
   "source": [
    "e = np.array([[[1,2,3,1],\n",
    "                [4,5,6,1],\n",
    "                [7,8,9,1]],\n",
    "                \n",
    "                [[1, '5', 1, 1],\n",
    "                [2,2,2,2],\n",
    "                [3,3,3,3]]])\n",
    "e"
   ]
  },
  {
   "cell_type": "code",
   "execution_count": 39,
   "id": "54292732",
   "metadata": {},
   "outputs": [
    {
     "data": {
      "text/plain": [
       "'5'"
      ]
     },
     "execution_count": 39,
     "metadata": {},
     "output_type": "execute_result"
    }
   ],
   "source": [
    "e[1][0][1]"
   ]
  },
  {
   "cell_type": "code",
   "execution_count": 42,
   "id": "643e1ba9",
   "metadata": {},
   "outputs": [
    {
     "data": {
      "text/plain": [
       "array([[[1, 2, 3, 1],\n",
       "        [4, 5, 6, 1],\n",
       "        [7, 8, 9, 1]],\n",
       "\n",
       "       [[1, <class 'dict'>, 1, 1],\n",
       "        [2, 2, 2, 2],\n",
       "        [3, 3, 3, 3]]], dtype=object)"
      ]
     },
     "execution_count": 42,
     "metadata": {},
     "output_type": "execute_result"
    }
   ],
   "source": [
    "dict1 = {'A' : 1}\n",
    "f = np.array([[[1,2,3,1],\n",
    "                [4,5,6,1],\n",
    "                [7,8,9,1]],\n",
    "                \n",
    "                [[1, dict, 1, 1],\n",
    "                [2,2,2,2],\n",
    "                [3,3,3,3]]])\n",
    "f"
   ]
  },
  {
   "cell_type": "code",
   "execution_count": 44,
   "id": "0e8fe09e",
   "metadata": {},
   "outputs": [
    {
     "name": "stdout",
     "output_type": "stream",
     "text": [
      "1\n"
     ]
    },
    {
     "ename": "AttributeError",
     "evalue": "'int' object has no attribute 'dtype'",
     "output_type": "error",
     "traceback": [
      "\u001b[1;31m---------------------------------------------------------------------------\u001b[0m",
      "\u001b[1;31mAttributeError\u001b[0m                            Traceback (most recent call last)",
      "Cell \u001b[1;32mIn[44], line 2\u001b[0m\n\u001b[0;32m      1\u001b[0m \u001b[38;5;28mprint\u001b[39m(f[\u001b[38;5;241m1\u001b[39m][\u001b[38;5;241m0\u001b[39m][\u001b[38;5;241m0\u001b[39m])\n\u001b[1;32m----> 2\u001b[0m \u001b[38;5;28mprint\u001b[39m(f[\u001b[38;5;241m1\u001b[39m][\u001b[38;5;241m0\u001b[39m][\u001b[38;5;241m0\u001b[39m]\u001b[38;5;241m.\u001b[39mdtype)\n",
      "\u001b[1;31mAttributeError\u001b[0m: 'int' object has no attribute 'dtype'"
     ]
    }
   ],
   "source": [
    "print(f[1][0][0])\n",
    "print(f[1][0][0].dtype)"
   ]
  },
  {
   "cell_type": "code",
   "execution_count": 45,
   "id": "24433cd8",
   "metadata": {},
   "outputs": [
    {
     "name": "stdout",
     "output_type": "stream",
     "text": [
      "<class 'int'>\n"
     ]
    }
   ],
   "source": [
    "print(type(f[1][0][0]))   # python style object, not C-style"
   ]
  },
  {
   "cell_type": "code",
   "execution_count": 47,
   "id": "53729657",
   "metadata": {},
   "outputs": [
    {
     "data": {
      "text/plain": [
       "array([[['1', '2', '3', '1'],\n",
       "        ['4', '5', '6', '1'],\n",
       "        ['7', '8', '9', '1']],\n",
       "\n",
       "       [['1', '2', '1', '1'],\n",
       "        ['2', '2', '2', '2'],\n",
       "        ['3', '3', '3', '3']]], dtype='<U2')"
      ]
     },
     "execution_count": 47,
     "metadata": {},
     "output_type": "execute_result"
    }
   ],
   "source": [
    "g = np.array([[[1,2,3,1],\n",
    "                [4,5,6,1],\n",
    "                [7,8,9,1]],\n",
    "                \n",
    "                [[1, 2, 1, 1],\n",
    "                [2,2,2,2],\n",
    "                [3,3,3,3]]], dtype=\"<U2\")\n",
    "g"
   ]
  },
  {
   "cell_type": "code",
   "execution_count": 49,
   "id": "94e5cf83",
   "metadata": {},
   "outputs": [
    {
     "name": "stdout",
     "output_type": "stream",
     "text": [
      "<U1\n"
     ]
    }
   ],
   "source": [
    "print(g[0][0][0].dtype)"
   ]
  },
  {
   "cell_type": "code",
   "execution_count": 51,
   "id": "392424b5",
   "metadata": {},
   "outputs": [
    {
     "name": "stdout",
     "output_type": "stream",
     "text": [
      "[[[9 9 9 9]\n",
      "  [9 9 9 9]\n",
      "  [9 9 9 9]]\n",
      "\n",
      " [[9 9 9 9]\n",
      "  [9 9 9 9]\n",
      "  [9 9 9 9]]]\n"
     ]
    }
   ],
   "source": [
    "a = np.full((2,3,4), 9)\n",
    "print(a)"
   ]
  },
  {
   "cell_type": "code",
   "execution_count": 52,
   "id": "1548c7fb",
   "metadata": {
    "scrolled": false
   },
   "outputs": [
    {
     "name": "stdout",
     "output_type": "stream",
     "text": [
      "[[[[9 9 9 ... 9 9 9]\n",
      "   [9 9 9 ... 9 9 9]\n",
      "   [9 9 9 ... 9 9 9]\n",
      "   ...\n",
      "   [9 9 9 ... 9 9 9]\n",
      "   [9 9 9 ... 9 9 9]\n",
      "   [9 9 9 ... 9 9 9]]\n",
      "\n",
      "  [[9 9 9 ... 9 9 9]\n",
      "   [9 9 9 ... 9 9 9]\n",
      "   [9 9 9 ... 9 9 9]\n",
      "   ...\n",
      "   [9 9 9 ... 9 9 9]\n",
      "   [9 9 9 ... 9 9 9]\n",
      "   [9 9 9 ... 9 9 9]]\n",
      "\n",
      "  [[9 9 9 ... 9 9 9]\n",
      "   [9 9 9 ... 9 9 9]\n",
      "   [9 9 9 ... 9 9 9]\n",
      "   ...\n",
      "   [9 9 9 ... 9 9 9]\n",
      "   [9 9 9 ... 9 9 9]\n",
      "   [9 9 9 ... 9 9 9]]\n",
      "\n",
      "  ...\n",
      "\n",
      "  [[9 9 9 ... 9 9 9]\n",
      "   [9 9 9 ... 9 9 9]\n",
      "   [9 9 9 ... 9 9 9]\n",
      "   ...\n",
      "   [9 9 9 ... 9 9 9]\n",
      "   [9 9 9 ... 9 9 9]\n",
      "   [9 9 9 ... 9 9 9]]\n",
      "\n",
      "  [[9 9 9 ... 9 9 9]\n",
      "   [9 9 9 ... 9 9 9]\n",
      "   [9 9 9 ... 9 9 9]\n",
      "   ...\n",
      "   [9 9 9 ... 9 9 9]\n",
      "   [9 9 9 ... 9 9 9]\n",
      "   [9 9 9 ... 9 9 9]]\n",
      "\n",
      "  [[9 9 9 ... 9 9 9]\n",
      "   [9 9 9 ... 9 9 9]\n",
      "   [9 9 9 ... 9 9 9]\n",
      "   ...\n",
      "   [9 9 9 ... 9 9 9]\n",
      "   [9 9 9 ... 9 9 9]\n",
      "   [9 9 9 ... 9 9 9]]]\n",
      "\n",
      "\n",
      " [[[9 9 9 ... 9 9 9]\n",
      "   [9 9 9 ... 9 9 9]\n",
      "   [9 9 9 ... 9 9 9]\n",
      "   ...\n",
      "   [9 9 9 ... 9 9 9]\n",
      "   [9 9 9 ... 9 9 9]\n",
      "   [9 9 9 ... 9 9 9]]\n",
      "\n",
      "  [[9 9 9 ... 9 9 9]\n",
      "   [9 9 9 ... 9 9 9]\n",
      "   [9 9 9 ... 9 9 9]\n",
      "   ...\n",
      "   [9 9 9 ... 9 9 9]\n",
      "   [9 9 9 ... 9 9 9]\n",
      "   [9 9 9 ... 9 9 9]]\n",
      "\n",
      "  [[9 9 9 ... 9 9 9]\n",
      "   [9 9 9 ... 9 9 9]\n",
      "   [9 9 9 ... 9 9 9]\n",
      "   ...\n",
      "   [9 9 9 ... 9 9 9]\n",
      "   [9 9 9 ... 9 9 9]\n",
      "   [9 9 9 ... 9 9 9]]\n",
      "\n",
      "  ...\n",
      "\n",
      "  [[9 9 9 ... 9 9 9]\n",
      "   [9 9 9 ... 9 9 9]\n",
      "   [9 9 9 ... 9 9 9]\n",
      "   ...\n",
      "   [9 9 9 ... 9 9 9]\n",
      "   [9 9 9 ... 9 9 9]\n",
      "   [9 9 9 ... 9 9 9]]\n",
      "\n",
      "  [[9 9 9 ... 9 9 9]\n",
      "   [9 9 9 ... 9 9 9]\n",
      "   [9 9 9 ... 9 9 9]\n",
      "   ...\n",
      "   [9 9 9 ... 9 9 9]\n",
      "   [9 9 9 ... 9 9 9]\n",
      "   [9 9 9 ... 9 9 9]]\n",
      "\n",
      "  [[9 9 9 ... 9 9 9]\n",
      "   [9 9 9 ... 9 9 9]\n",
      "   [9 9 9 ... 9 9 9]\n",
      "   ...\n",
      "   [9 9 9 ... 9 9 9]\n",
      "   [9 9 9 ... 9 9 9]\n",
      "   [9 9 9 ... 9 9 9]]]\n",
      "\n",
      "\n",
      " [[[9 9 9 ... 9 9 9]\n",
      "   [9 9 9 ... 9 9 9]\n",
      "   [9 9 9 ... 9 9 9]\n",
      "   ...\n",
      "   [9 9 9 ... 9 9 9]\n",
      "   [9 9 9 ... 9 9 9]\n",
      "   [9 9 9 ... 9 9 9]]\n",
      "\n",
      "  [[9 9 9 ... 9 9 9]\n",
      "   [9 9 9 ... 9 9 9]\n",
      "   [9 9 9 ... 9 9 9]\n",
      "   ...\n",
      "   [9 9 9 ... 9 9 9]\n",
      "   [9 9 9 ... 9 9 9]\n",
      "   [9 9 9 ... 9 9 9]]\n",
      "\n",
      "  [[9 9 9 ... 9 9 9]\n",
      "   [9 9 9 ... 9 9 9]\n",
      "   [9 9 9 ... 9 9 9]\n",
      "   ...\n",
      "   [9 9 9 ... 9 9 9]\n",
      "   [9 9 9 ... 9 9 9]\n",
      "   [9 9 9 ... 9 9 9]]\n",
      "\n",
      "  ...\n",
      "\n",
      "  [[9 9 9 ... 9 9 9]\n",
      "   [9 9 9 ... 9 9 9]\n",
      "   [9 9 9 ... 9 9 9]\n",
      "   ...\n",
      "   [9 9 9 ... 9 9 9]\n",
      "   [9 9 9 ... 9 9 9]\n",
      "   [9 9 9 ... 9 9 9]]\n",
      "\n",
      "  [[9 9 9 ... 9 9 9]\n",
      "   [9 9 9 ... 9 9 9]\n",
      "   [9 9 9 ... 9 9 9]\n",
      "   ...\n",
      "   [9 9 9 ... 9 9 9]\n",
      "   [9 9 9 ... 9 9 9]\n",
      "   [9 9 9 ... 9 9 9]]\n",
      "\n",
      "  [[9 9 9 ... 9 9 9]\n",
      "   [9 9 9 ... 9 9 9]\n",
      "   [9 9 9 ... 9 9 9]\n",
      "   ...\n",
      "   [9 9 9 ... 9 9 9]\n",
      "   [9 9 9 ... 9 9 9]\n",
      "   [9 9 9 ... 9 9 9]]]\n",
      "\n",
      "\n",
      " ...\n",
      "\n",
      "\n",
      " [[[9 9 9 ... 9 9 9]\n",
      "   [9 9 9 ... 9 9 9]\n",
      "   [9 9 9 ... 9 9 9]\n",
      "   ...\n",
      "   [9 9 9 ... 9 9 9]\n",
      "   [9 9 9 ... 9 9 9]\n",
      "   [9 9 9 ... 9 9 9]]\n",
      "\n",
      "  [[9 9 9 ... 9 9 9]\n",
      "   [9 9 9 ... 9 9 9]\n",
      "   [9 9 9 ... 9 9 9]\n",
      "   ...\n",
      "   [9 9 9 ... 9 9 9]\n",
      "   [9 9 9 ... 9 9 9]\n",
      "   [9 9 9 ... 9 9 9]]\n",
      "\n",
      "  [[9 9 9 ... 9 9 9]\n",
      "   [9 9 9 ... 9 9 9]\n",
      "   [9 9 9 ... 9 9 9]\n",
      "   ...\n",
      "   [9 9 9 ... 9 9 9]\n",
      "   [9 9 9 ... 9 9 9]\n",
      "   [9 9 9 ... 9 9 9]]\n",
      "\n",
      "  ...\n",
      "\n",
      "  [[9 9 9 ... 9 9 9]\n",
      "   [9 9 9 ... 9 9 9]\n",
      "   [9 9 9 ... 9 9 9]\n",
      "   ...\n",
      "   [9 9 9 ... 9 9 9]\n",
      "   [9 9 9 ... 9 9 9]\n",
      "   [9 9 9 ... 9 9 9]]\n",
      "\n",
      "  [[9 9 9 ... 9 9 9]\n",
      "   [9 9 9 ... 9 9 9]\n",
      "   [9 9 9 ... 9 9 9]\n",
      "   ...\n",
      "   [9 9 9 ... 9 9 9]\n",
      "   [9 9 9 ... 9 9 9]\n",
      "   [9 9 9 ... 9 9 9]]\n",
      "\n",
      "  [[9 9 9 ... 9 9 9]\n",
      "   [9 9 9 ... 9 9 9]\n",
      "   [9 9 9 ... 9 9 9]\n",
      "   ...\n",
      "   [9 9 9 ... 9 9 9]\n",
      "   [9 9 9 ... 9 9 9]\n",
      "   [9 9 9 ... 9 9 9]]]\n",
      "\n",
      "\n",
      " [[[9 9 9 ... 9 9 9]\n",
      "   [9 9 9 ... 9 9 9]\n",
      "   [9 9 9 ... 9 9 9]\n",
      "   ...\n",
      "   [9 9 9 ... 9 9 9]\n",
      "   [9 9 9 ... 9 9 9]\n",
      "   [9 9 9 ... 9 9 9]]\n",
      "\n",
      "  [[9 9 9 ... 9 9 9]\n",
      "   [9 9 9 ... 9 9 9]\n",
      "   [9 9 9 ... 9 9 9]\n",
      "   ...\n",
      "   [9 9 9 ... 9 9 9]\n",
      "   [9 9 9 ... 9 9 9]\n",
      "   [9 9 9 ... 9 9 9]]\n",
      "\n",
      "  [[9 9 9 ... 9 9 9]\n",
      "   [9 9 9 ... 9 9 9]\n",
      "   [9 9 9 ... 9 9 9]\n",
      "   ...\n",
      "   [9 9 9 ... 9 9 9]\n",
      "   [9 9 9 ... 9 9 9]\n",
      "   [9 9 9 ... 9 9 9]]\n",
      "\n",
      "  ...\n",
      "\n",
      "  [[9 9 9 ... 9 9 9]\n",
      "   [9 9 9 ... 9 9 9]\n",
      "   [9 9 9 ... 9 9 9]\n",
      "   ...\n",
      "   [9 9 9 ... 9 9 9]\n",
      "   [9 9 9 ... 9 9 9]\n",
      "   [9 9 9 ... 9 9 9]]\n",
      "\n",
      "  [[9 9 9 ... 9 9 9]\n",
      "   [9 9 9 ... 9 9 9]\n",
      "   [9 9 9 ... 9 9 9]\n",
      "   ...\n",
      "   [9 9 9 ... 9 9 9]\n",
      "   [9 9 9 ... 9 9 9]\n",
      "   [9 9 9 ... 9 9 9]]\n",
      "\n",
      "  [[9 9 9 ... 9 9 9]\n",
      "   [9 9 9 ... 9 9 9]\n",
      "   [9 9 9 ... 9 9 9]\n",
      "   ...\n",
      "   [9 9 9 ... 9 9 9]\n",
      "   [9 9 9 ... 9 9 9]\n",
      "   [9 9 9 ... 9 9 9]]]\n",
      "\n",
      "\n",
      " [[[9 9 9 ... 9 9 9]\n",
      "   [9 9 9 ... 9 9 9]\n",
      "   [9 9 9 ... 9 9 9]\n",
      "   ...\n",
      "   [9 9 9 ... 9 9 9]\n",
      "   [9 9 9 ... 9 9 9]\n",
      "   [9 9 9 ... 9 9 9]]\n",
      "\n",
      "  [[9 9 9 ... 9 9 9]\n",
      "   [9 9 9 ... 9 9 9]\n",
      "   [9 9 9 ... 9 9 9]\n",
      "   ...\n",
      "   [9 9 9 ... 9 9 9]\n",
      "   [9 9 9 ... 9 9 9]\n",
      "   [9 9 9 ... 9 9 9]]\n",
      "\n",
      "  [[9 9 9 ... 9 9 9]\n",
      "   [9 9 9 ... 9 9 9]\n",
      "   [9 9 9 ... 9 9 9]\n",
      "   ...\n",
      "   [9 9 9 ... 9 9 9]\n",
      "   [9 9 9 ... 9 9 9]\n",
      "   [9 9 9 ... 9 9 9]]\n",
      "\n",
      "  ...\n",
      "\n",
      "  [[9 9 9 ... 9 9 9]\n",
      "   [9 9 9 ... 9 9 9]\n",
      "   [9 9 9 ... 9 9 9]\n",
      "   ...\n",
      "   [9 9 9 ... 9 9 9]\n",
      "   [9 9 9 ... 9 9 9]\n",
      "   [9 9 9 ... 9 9 9]]\n",
      "\n",
      "  [[9 9 9 ... 9 9 9]\n",
      "   [9 9 9 ... 9 9 9]\n",
      "   [9 9 9 ... 9 9 9]\n",
      "   ...\n",
      "   [9 9 9 ... 9 9 9]\n",
      "   [9 9 9 ... 9 9 9]\n",
      "   [9 9 9 ... 9 9 9]]\n",
      "\n",
      "  [[9 9 9 ... 9 9 9]\n",
      "   [9 9 9 ... 9 9 9]\n",
      "   [9 9 9 ... 9 9 9]\n",
      "   ...\n",
      "   [9 9 9 ... 9 9 9]\n",
      "   [9 9 9 ... 9 9 9]\n",
      "   [9 9 9 ... 9 9 9]]]]\n"
     ]
    }
   ],
   "source": [
    "b = np.full((10,10,10,10), 9)\n",
    "print(b)"
   ]
  },
  {
   "cell_type": "code",
   "execution_count": 53,
   "id": "f424c5c9",
   "metadata": {},
   "outputs": [
    {
     "name": "stdout",
     "output_type": "stream",
     "text": [
      "[[[0. 0.]\n",
      "  [0. 0.]\n",
      "  [0. 0.]\n",
      "  [0. 0.]\n",
      "  [0. 0.]]\n",
      "\n",
      " [[0. 0.]\n",
      "  [0. 0.]\n",
      "  [0. 0.]\n",
      "  [0. 0.]\n",
      "  [0. 0.]]\n",
      "\n",
      " [[0. 0.]\n",
      "  [0. 0.]\n",
      "  [0. 0.]\n",
      "  [0. 0.]\n",
      "  [0. 0.]]\n",
      "\n",
      " [[0. 0.]\n",
      "  [0. 0.]\n",
      "  [0. 0.]\n",
      "  [0. 0.]\n",
      "  [0. 0.]]\n",
      "\n",
      " [[0. 0.]\n",
      "  [0. 0.]\n",
      "  [0. 0.]\n",
      "  [0. 0.]\n",
      "  [0. 0.]]\n",
      "\n",
      " [[0. 0.]\n",
      "  [0. 0.]\n",
      "  [0. 0.]\n",
      "  [0. 0.]\n",
      "  [0. 0.]]\n",
      "\n",
      " [[0. 0.]\n",
      "  [0. 0.]\n",
      "  [0. 0.]\n",
      "  [0. 0.]\n",
      "  [0. 0.]]\n",
      "\n",
      " [[0. 0.]\n",
      "  [0. 0.]\n",
      "  [0. 0.]\n",
      "  [0. 0.]\n",
      "  [0. 0.]]\n",
      "\n",
      " [[0. 0.]\n",
      "  [0. 0.]\n",
      "  [0. 0.]\n",
      "  [0. 0.]\n",
      "  [0. 0.]]\n",
      "\n",
      " [[0. 0.]\n",
      "  [0. 0.]\n",
      "  [0. 0.]\n",
      "  [0. 0.]\n",
      "  [0. 0.]]]\n"
     ]
    }
   ],
   "source": [
    "a = np.zeros((10,5,2))\n",
    "print(a)"
   ]
  },
  {
   "cell_type": "code",
   "execution_count": 54,
   "id": "d05c3c2d",
   "metadata": {},
   "outputs": [
    {
     "name": "stdout",
     "output_type": "stream",
     "text": [
      "[[[1. 1.]\n",
      "  [1. 1.]\n",
      "  [1. 1.]\n",
      "  [1. 1.]\n",
      "  [1. 1.]]\n",
      "\n",
      " [[1. 1.]\n",
      "  [1. 1.]\n",
      "  [1. 1.]\n",
      "  [1. 1.]\n",
      "  [1. 1.]]\n",
      "\n",
      " [[1. 1.]\n",
      "  [1. 1.]\n",
      "  [1. 1.]\n",
      "  [1. 1.]\n",
      "  [1. 1.]]\n",
      "\n",
      " [[1. 1.]\n",
      "  [1. 1.]\n",
      "  [1. 1.]\n",
      "  [1. 1.]\n",
      "  [1. 1.]]\n",
      "\n",
      " [[1. 1.]\n",
      "  [1. 1.]\n",
      "  [1. 1.]\n",
      "  [1. 1.]\n",
      "  [1. 1.]]\n",
      "\n",
      " [[1. 1.]\n",
      "  [1. 1.]\n",
      "  [1. 1.]\n",
      "  [1. 1.]\n",
      "  [1. 1.]]\n",
      "\n",
      " [[1. 1.]\n",
      "  [1. 1.]\n",
      "  [1. 1.]\n",
      "  [1. 1.]\n",
      "  [1. 1.]]\n",
      "\n",
      " [[1. 1.]\n",
      "  [1. 1.]\n",
      "  [1. 1.]\n",
      "  [1. 1.]\n",
      "  [1. 1.]]\n",
      "\n",
      " [[1. 1.]\n",
      "  [1. 1.]\n",
      "  [1. 1.]\n",
      "  [1. 1.]\n",
      "  [1. 1.]]\n",
      "\n",
      " [[1. 1.]\n",
      "  [1. 1.]\n",
      "  [1. 1.]\n",
      "  [1. 1.]\n",
      "  [1. 1.]]]\n"
     ]
    }
   ],
   "source": [
    "a = np.ones((10,5,2))\n",
    "print(a)"
   ]
  },
  {
   "cell_type": "code",
   "execution_count": 55,
   "id": "894af055",
   "metadata": {},
   "outputs": [
    {
     "name": "stdout",
     "output_type": "stream",
     "text": [
      "[[[6.23042070e-307 1.42417221e-306 1.60219306e-306]\n",
      "  [7.56593017e-307 7.56587584e-307 1.37961302e-306]\n",
      "  [1.05699242e-307 8.01097889e-307 1.78020169e-306]]\n",
      "\n",
      " [[7.56601165e-307 1.02359984e-306 8.90092016e-307]\n",
      "  [1.02361342e-306 6.89804133e-307 8.90104239e-307]\n",
      "  [8.90098127e-307 8.90111708e-307 6.23054633e-307]]\n",
      "\n",
      " [[9.34598926e-307 1.42417629e-306 1.11260687e-306]\n",
      "  [8.90092016e-307 1.02360867e-306 9.34598925e-307]\n",
      "  [8.34446411e-308 2.22507386e-306 6.99191991e+247]]]\n"
     ]
    }
   ],
   "source": [
    "a = np.empty((3,3,3))\n",
    "print(a)"
   ]
  },
  {
   "cell_type": "code",
   "execution_count": 59,
   "id": "23ff1b06",
   "metadata": {},
   "outputs": [
    {
     "name": "stdout",
     "output_type": "stream",
     "text": [
      "[   0    5   10   15   20   25   30   35   40   45   50   55   60   65\n",
      "   70   75   80   85   90   95  100  105  110  115  120  125  130  135\n",
      "  140  145  150  155  160  165  170  175  180  185  190  195  200  205\n",
      "  210  215  220  225  230  235  240  245  250  255  260  265  270  275\n",
      "  280  285  290  295  300  305  310  315  320  325  330  335  340  345\n",
      "  350  355  360  365  370  375  380  385  390  395  400  405  410  415\n",
      "  420  425  430  435  440  445  450  455  460  465  470  475  480  485\n",
      "  490  495  500  505  510  515  520  525  530  535  540  545  550  555\n",
      "  560  565  570  575  580  585  590  595  600  605  610  615  620  625\n",
      "  630  635  640  645  650  655  660  665  670  675  680  685  690  695\n",
      "  700  705  710  715  720  725  730  735  740  745  750  755  760  765\n",
      "  770  775  780  785  790  795  800  805  810  815  820  825  830  835\n",
      "  840  845  850  855  860  865  870  875  880  885  890  895  900  905\n",
      "  910  915  920  925  930  935  940  945  950  955  960  965  970  975\n",
      "  980  985  990  995 1000]\n"
     ]
    }
   ],
   "source": [
    "x_values_1 = np.arange(0, 1000, 5)\n",
    "print(x_values)"
   ]
  },
  {
   "cell_type": "code",
   "execution_count": 63,
   "id": "d1d0a65a",
   "metadata": {},
   "outputs": [
    {
     "name": "stdout",
     "output_type": "stream",
     "text": [
      "[   0.  250.  500.  750. 1000.]\n"
     ]
    }
   ],
   "source": [
    "x_values_2 = np.linspace(0, 1000, 5)\n",
    "print(x_values_2)"
   ]
  },
  {
   "cell_type": "code",
   "execution_count": 65,
   "id": "b93cda28",
   "metadata": {},
   "outputs": [
    {
     "name": "stdout",
     "output_type": "stream",
     "text": [
      "[   0.    1.    2. ...  998.  999. 1000.]\n"
     ]
    }
   ],
   "source": [
    "x_values_2 = np.linspace(0, 1000, 1001)\n",
    "print(x_values_2)"
   ]
  },
  {
   "cell_type": "code",
   "execution_count": 66,
   "id": "3e51f6fb",
   "metadata": {},
   "outputs": [
    {
     "name": "stdout",
     "output_type": "stream",
     "text": [
      "nan\n",
      "inf\n"
     ]
    }
   ],
   "source": [
    "print(np.nan)\n",
    "print(np.inf)"
   ]
  },
  {
   "cell_type": "code",
   "execution_count": 67,
   "id": "003bceef",
   "metadata": {},
   "outputs": [
    {
     "name": "stdout",
     "output_type": "stream",
     "text": [
      "True\n",
      "False\n"
     ]
    }
   ],
   "source": [
    "print(np.isnan(np.nan))\n",
    "print(np.isnan(np.inf))"
   ]
  },
  {
   "cell_type": "code",
   "execution_count": 68,
   "id": "1e999e32",
   "metadata": {},
   "outputs": [
    {
     "name": "stdout",
     "output_type": "stream",
     "text": [
      "True\n"
     ]
    },
    {
     "name": "stderr",
     "output_type": "stream",
     "text": [
      "C:\\Users\\Saswata Mishra\\AppData\\Local\\Temp\\ipykernel_24108\\1919082837.py:1: RuntimeWarning: invalid value encountered in sqrt\n",
      "  print(np.isnan(np.sqrt(-1)))\n"
     ]
    }
   ],
   "source": [
    "print(np.isnan(np.sqrt(-1)))"
   ]
  },
  {
   "cell_type": "code",
   "execution_count": 70,
   "id": "5e7b8d7e",
   "metadata": {},
   "outputs": [
    {
     "name": "stdout",
     "output_type": "stream",
     "text": [
      "nan\n"
     ]
    },
    {
     "name": "stderr",
     "output_type": "stream",
     "text": [
      "C:\\Users\\Saswata Mishra\\AppData\\Local\\Temp\\ipykernel_24108\\267541580.py:1: RuntimeWarning: invalid value encountered in sqrt\n",
      "  print(np.sqrt(-1))\n"
     ]
    }
   ],
   "source": [
    "print(np.sqrt(-1))"
   ]
  },
  {
   "cell_type": "code",
   "execution_count": 73,
   "id": "b878f730",
   "metadata": {},
   "outputs": [
    {
     "name": "stdout",
     "output_type": "stream",
     "text": [
      "[ True]\n"
     ]
    },
    {
     "name": "stderr",
     "output_type": "stream",
     "text": [
      "C:\\Users\\Saswata Mishra\\AppData\\Local\\Temp\\ipykernel_24108\\3665895120.py:1: RuntimeWarning: divide by zero encountered in divide\n",
      "  print(np.isinf( np.array([10]) / 0))\n"
     ]
    }
   ],
   "source": [
    "print(np.isinf( np.array([10]) / 0))"
   ]
  },
  {
   "cell_type": "code",
   "execution_count": null,
   "id": "ccfb4a01",
   "metadata": {},
   "outputs": [],
   "source": []
  }
 ],
 "metadata": {
  "kernelspec": {
   "display_name": "Python 3 (ipykernel)",
   "language": "python",
   "name": "python3"
  },
  "language_info": {
   "codemirror_mode": {
    "name": "ipython",
    "version": 3
   },
   "file_extension": ".py",
   "mimetype": "text/x-python",
   "name": "python",
   "nbconvert_exporter": "python",
   "pygments_lexer": "ipython3",
   "version": "3.11.4"
  }
 },
 "nbformat": 4,
 "nbformat_minor": 5
}
