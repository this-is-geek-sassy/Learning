{
 "cells": [
  {
   "cell_type": "code",
   "execution_count": 1,
   "id": "da568a49-3582-49b6-8ce5-de15c551a831",
   "metadata": {
    "tags": []
   },
   "outputs": [],
   "source": [
    "# hello"
   ]
  },
  {
   "cell_type": "code",
   "execution_count": 2,
   "id": "02758dce-f973-4d10-b383-a634aed909ce",
   "metadata": {
    "tags": []
   },
   "outputs": [
    {
     "name": "stdout",
     "output_type": "stream",
     "text": [
      "hello\n"
     ]
    }
   ],
   "source": [
    "print(\"hello\")"
   ]
  },
  {
   "cell_type": "code",
   "execution_count": 5,
   "id": "966e8ff7",
   "metadata": {},
   "outputs": [
    {
     "name": "stdout",
     "output_type": "stream",
     "text": [
      "\n"
     ]
    }
   ],
   "source": [
    "print()"
   ]
  },
  {
   "cell_type": "code",
   "execution_count": 6,
   "id": "27cd9e79",
   "metadata": {},
   "outputs": [
    {
     "name": "stdout",
     "output_type": "stream",
     "text": [
      "13\n"
     ]
    }
   ],
   "source": [
    "print(6+7)"
   ]
  },
  {
   "cell_type": "code",
   "execution_count": 7,
   "id": "1f991224",
   "metadata": {},
   "outputs": [
    {
     "data": {
      "text/plain": [
       "'\\nmultiline comment?\\n'"
      ]
     },
     "execution_count": 7,
     "metadata": {},
     "output_type": "execute_result"
    }
   ],
   "source": [
    "'''\n",
    "multiline comment?\n",
    "'''"
   ]
  },
  {
   "cell_type": "code",
   "execution_count": 9,
   "id": "72489ba9",
   "metadata": {},
   "outputs": [
    {
     "data": {
      "text/plain": [
       "'\\nanother multi-line comment?\\nreally having multiple lines\\n'"
      ]
     },
     "execution_count": 9,
     "metadata": {},
     "output_type": "execute_result"
    }
   ],
   "source": [
    "\"\"\"\n",
    "another multi-line comment?\n",
    "really having multiple lines\n",
    "\"\"\""
   ]
  },
  {
   "cell_type": "code",
   "execution_count": 10,
   "id": "249e1d0d",
   "metadata": {},
   "outputs": [],
   "source": [
    "x = 6"
   ]
  },
  {
   "cell_type": "code",
   "execution_count": 11,
   "id": "87ec98e2",
   "metadata": {},
   "outputs": [
    {
     "data": {
      "text/plain": [
       "6"
      ]
     },
     "execution_count": 11,
     "metadata": {},
     "output_type": "execute_result"
    }
   ],
   "source": [
    "x"
   ]
  },
  {
   "cell_type": "code",
   "execution_count": 12,
   "id": "479f68f7",
   "metadata": {},
   "outputs": [
    {
     "data": {
      "text/plain": [
       "int"
      ]
     },
     "execution_count": 12,
     "metadata": {},
     "output_type": "execute_result"
    }
   ],
   "source": [
    "type(x)"
   ]
  },
  {
   "cell_type": "code",
   "execution_count": 13,
   "id": "194b9be2",
   "metadata": {},
   "outputs": [
    {
     "data": {
      "text/plain": [
       "'john'"
      ]
     },
     "execution_count": 13,
     "metadata": {},
     "output_type": "execute_result"
    }
   ],
   "source": [
    "name = 'john'\n",
    "name"
   ]
  },
  {
   "cell_type": "code",
   "execution_count": 14,
   "id": "853e7cc0",
   "metadata": {},
   "outputs": [
    {
     "data": {
      "text/plain": [
       "True"
      ]
     },
     "execution_count": 14,
     "metadata": {},
     "output_type": "execute_result"
    }
   ],
   "source": [
    "iscool = True\n",
    "iscool"
   ]
  },
  {
   "cell_type": "code",
   "execution_count": 16,
   "id": "fabb96c1",
   "metadata": {},
   "outputs": [],
   "source": [
    "#multiple assignment\n",
    "x, y, name, iscool = (1, 2.5, 'john', True)"
   ]
  },
  {
   "cell_type": "code",
   "execution_count": 17,
   "id": "0f348b33",
   "metadata": {},
   "outputs": [
    {
     "name": "stdout",
     "output_type": "stream",
     "text": [
      "1 2.5\n"
     ]
    }
   ],
   "source": [
    "print(x,y)"
   ]
  },
  {
   "cell_type": "code",
   "execution_count": 18,
   "id": "d0c1f4d0",
   "metadata": {},
   "outputs": [
    {
     "name": "stdout",
     "output_type": "stream",
     "text": [
      "john True\n"
     ]
    }
   ],
   "source": [
    "print(name, iscool)"
   ]
  },
  {
   "cell_type": "code",
   "execution_count": 21,
   "id": "cb2419e9",
   "metadata": {},
   "outputs": [
    {
     "name": "stdout",
     "output_type": "stream",
     "text": [
      "1 2\n",
      "<class 'str'> <class 'int'>\n"
     ]
    }
   ],
   "source": [
    "x = str(x)\n",
    "y = int(y)\n",
    "print(x, y)\n",
    "print(type(x), type(y))"
   ]
  },
  {
   "cell_type": "code",
   "execution_count": 22,
   "id": "f742740b",
   "metadata": {},
   "outputs": [],
   "source": [
    "name = 'Brad'\n",
    "age = 37"
   ]
  },
  {
   "cell_type": "code",
   "execution_count": 23,
   "id": "3d36a44b",
   "metadata": {},
   "outputs": [
    {
     "name": "stdout",
     "output_type": "stream",
     "text": [
      "hello my name is: Brad\n"
     ]
    }
   ],
   "source": [
    "#concatenate\n",
    "print(\"hello my name is: \" + name)"
   ]
  },
  {
   "cell_type": "code",
   "execution_count": 24,
   "id": "e3573636",
   "metadata": {},
   "outputs": [
    {
     "ename": "TypeError",
     "evalue": "can only concatenate str (not \"int\") to str",
     "output_type": "error",
     "traceback": [
      "\u001b[1;31m---------------------------------------------------------------------------\u001b[0m",
      "\u001b[1;31mTypeError\u001b[0m                                 Traceback (most recent call last)",
      "Cell \u001b[1;32mIn[24], line 2\u001b[0m\n\u001b[0;32m      1\u001b[0m \u001b[38;5;66;03m#concatenate\u001b[39;00m\n\u001b[1;32m----> 2\u001b[0m \u001b[38;5;28mprint\u001b[39m(\u001b[38;5;124m\"\u001b[39m\u001b[38;5;124mhello my name is: \u001b[39m\u001b[38;5;124m\"\u001b[39m \u001b[38;5;241m+\u001b[39m name \u001b[38;5;241m+\u001b[39m \u001b[38;5;124m\"\u001b[39m\u001b[38;5;124m. I am \u001b[39m\u001b[38;5;124m\"\u001b[39m \u001b[38;5;241m+\u001b[39m age)\n",
      "\u001b[1;31mTypeError\u001b[0m: can only concatenate str (not \"int\") to str"
     ]
    }
   ],
   "source": [
    "#concatenate\n",
    "print(\"hello my name is: \" + name + \". I am \" + age)"
   ]
  },
  {
   "cell_type": "code",
   "execution_count": 25,
   "id": "08a350e9",
   "metadata": {},
   "outputs": [
    {
     "name": "stdout",
     "output_type": "stream",
     "text": [
      "hello my name is: Brad. I am 37\n"
     ]
    }
   ],
   "source": [
    "print(\"hello my name is: \" + name + \". I am \" + str(age))"
   ]
  },
  {
   "cell_type": "code",
   "execution_count": 29,
   "id": "fb213ce2",
   "metadata": {},
   "outputs": [
    {
     "name": "stdout",
     "output_type": "stream",
     "text": [
      "hello my name is Brad. I am 37\n",
      "hello my name is Brad. I am 37\n"
     ]
    }
   ],
   "source": [
    "# string formatting\n",
    "# 1. arguments by position\n",
    "print(\"hello my name is {name}. I am {age}\".format(name=name, age=age))\n",
    "\n",
    "# 2. f-strings\n",
    "print(f\"hello my name is {name}. I am {age}\")"
   ]
  },
  {
   "cell_type": "markdown",
   "id": "084603f4",
   "metadata": {},
   "source": [
    "### string methods"
   ]
  },
  {
   "cell_type": "code",
   "execution_count": 31,
   "id": "24f1d6d7",
   "metadata": {},
   "outputs": [
    {
     "data": {
      "text/plain": [
       "'Hello world'"
      ]
     },
     "execution_count": 31,
     "metadata": {},
     "output_type": "execute_result"
    }
   ],
   "source": [
    "# capitalize\n",
    "s = 'hello world'\n",
    "s.capitalize()"
   ]
  },
  {
   "cell_type": "markdown",
   "id": "c9fb62e4",
   "metadata": {},
   "source": [
    "### Lists"
   ]
  },
  {
   "cell_type": "code",
   "execution_count": 32,
   "id": "dcb97168",
   "metadata": {},
   "outputs": [],
   "source": [
    "l1 = ['hello', 1.2, 6, 7, 7, {}]"
   ]
  },
  {
   "cell_type": "code",
   "execution_count": 33,
   "id": "136c89ee",
   "metadata": {},
   "outputs": [
    {
     "data": {
      "text/plain": [
       "['hello', 1.2, 6, 7, 7, {}]"
      ]
     },
     "execution_count": 33,
     "metadata": {},
     "output_type": "execute_result"
    }
   ],
   "source": [
    "l1"
   ]
  },
  {
   "cell_type": "code",
   "execution_count": 34,
   "id": "fa07a681",
   "metadata": {},
   "outputs": [],
   "source": [
    "l2 = list(('hello', 1.2, 6, 7, 7, {'hello'}))"
   ]
  },
  {
   "cell_type": "code",
   "execution_count": 35,
   "id": "cafc4469",
   "metadata": {},
   "outputs": [
    {
     "data": {
      "text/plain": [
       "['hello', 1.2, 6, 7, 7, {'hello'}]"
      ]
     },
     "execution_count": 35,
     "metadata": {},
     "output_type": "execute_result"
    }
   ],
   "source": [
    "l2"
   ]
  },
  {
   "cell_type": "code",
   "execution_count": 1,
   "id": "a0fe25b3",
   "metadata": {},
   "outputs": [
    {
     "ename": "NameError",
     "evalue": "name 'l1' is not defined",
     "output_type": "error",
     "traceback": [
      "\u001b[1;31m---------------------------------------------------------------------------\u001b[0m",
      "\u001b[1;31mNameError\u001b[0m                                 Traceback (most recent call last)",
      "Cell \u001b[1;32mIn[1], line 1\u001b[0m\n\u001b[1;32m----> 1\u001b[0m l1 \u001b[38;5;241m==\u001b[39m l2\n",
      "\u001b[1;31mNameError\u001b[0m: name 'l1' is not defined"
     ]
    }
   ],
   "source": [
    "l1 == l2"
   ]
  },
  {
   "cell_type": "code",
   "execution_count": 2,
   "id": "f447edc2",
   "metadata": {},
   "outputs": [],
   "source": [
    "fruits = ['apples', 'oranges', 'grapes', 'pears']"
   ]
  },
  {
   "cell_type": "code",
   "execution_count": 3,
   "id": "6fbd5462",
   "metadata": {},
   "outputs": [
    {
     "data": {
      "text/plain": [
       "'pears'"
      ]
     },
     "execution_count": 3,
     "metadata": {},
     "output_type": "execute_result"
    }
   ],
   "source": [
    "fruits[3]"
   ]
  },
  {
   "cell_type": "code",
   "execution_count": 4,
   "id": "cd51b04b",
   "metadata": {},
   "outputs": [
    {
     "data": {
      "text/plain": [
       "4"
      ]
     },
     "execution_count": 4,
     "metadata": {},
     "output_type": "execute_result"
    }
   ],
   "source": [
    "len(fruits)"
   ]
  },
  {
   "cell_type": "code",
   "execution_count": 5,
   "id": "b4e7566a",
   "metadata": {},
   "outputs": [
    {
     "data": {
      "text/plain": [
       "['apples', 'oranges', 'grapes', 'pears', 'mangoes']"
      ]
     },
     "execution_count": 5,
     "metadata": {},
     "output_type": "execute_result"
    }
   ],
   "source": [
    "# append\n",
    "fruits.append('mangoes')\n",
    "fruits"
   ]
  },
  {
   "cell_type": "code",
   "execution_count": 6,
   "id": "5330ce33",
   "metadata": {},
   "outputs": [
    {
     "data": {
      "text/plain": [
       "['apples', 'oranges', 'grapes', 'mangoes']"
      ]
     },
     "execution_count": 6,
     "metadata": {},
     "output_type": "execute_result"
    }
   ],
   "source": [
    "fruits.remove('pears')\n",
    "fruits"
   ]
  },
  {
   "cell_type": "code",
   "execution_count": 7,
   "id": "92ae7363",
   "metadata": {},
   "outputs": [
    {
     "data": {
      "text/plain": [
       "['apples', 'oranges', 'strawberries', 'grapes', 'mangoes']"
      ]
     },
     "execution_count": 7,
     "metadata": {},
     "output_type": "execute_result"
    }
   ],
   "source": [
    "# insert into specific position\n",
    "fruits.insert(2, 'strawberries')\n",
    "fruits"
   ]
  },
  {
   "cell_type": "code",
   "execution_count": 8,
   "id": "d3d56e80",
   "metadata": {},
   "outputs": [
    {
     "data": {
      "text/plain": [
       "'mangoes'"
      ]
     },
     "execution_count": 8,
     "metadata": {},
     "output_type": "execute_result"
    }
   ],
   "source": [
    "# remove with position?\n",
    "fruits.pop()"
   ]
  },
  {
   "cell_type": "code",
   "execution_count": 9,
   "id": "78c1a3b2",
   "metadata": {},
   "outputs": [
    {
     "data": {
      "text/plain": [
       "['apples', 'oranges', 'strawberries', 'grapes']"
      ]
     },
     "execution_count": 9,
     "metadata": {},
     "output_type": "execute_result"
    }
   ],
   "source": [
    "fruits"
   ]
  },
  {
   "cell_type": "code",
   "execution_count": 10,
   "id": "a4411a1b",
   "metadata": {},
   "outputs": [
    {
     "data": {
      "text/plain": [
       "'oranges'"
      ]
     },
     "execution_count": 10,
     "metadata": {},
     "output_type": "execute_result"
    }
   ],
   "source": [
    "fruits.pop(1)"
   ]
  },
  {
   "cell_type": "code",
   "execution_count": 11,
   "id": "5a60339e",
   "metadata": {},
   "outputs": [
    {
     "data": {
      "text/plain": [
       "['apples', 'strawberries', 'grapes']"
      ]
     },
     "execution_count": 11,
     "metadata": {},
     "output_type": "execute_result"
    }
   ],
   "source": [
    "fruits"
   ]
  },
  {
   "cell_type": "code",
   "execution_count": 12,
   "id": "186671f1",
   "metadata": {},
   "outputs": [],
   "source": [
    "fruits.reverse()"
   ]
  },
  {
   "cell_type": "code",
   "execution_count": 13,
   "id": "74811bc0",
   "metadata": {},
   "outputs": [
    {
     "data": {
      "text/plain": [
       "['grapes', 'strawberries', 'apples']"
      ]
     },
     "execution_count": 13,
     "metadata": {},
     "output_type": "execute_result"
    }
   ],
   "source": [
    "fruits"
   ]
  },
  {
   "cell_type": "code",
   "execution_count": 14,
   "id": "711b1ea7",
   "metadata": {},
   "outputs": [],
   "source": [
    "fruits.sort()"
   ]
  },
  {
   "cell_type": "code",
   "execution_count": 15,
   "id": "44b880c3",
   "metadata": {},
   "outputs": [
    {
     "data": {
      "text/plain": [
       "['apples', 'grapes', 'strawberries']"
      ]
     },
     "execution_count": 15,
     "metadata": {},
     "output_type": "execute_result"
    }
   ],
   "source": [
    "fruits"
   ]
  },
  {
   "cell_type": "code",
   "execution_count": 16,
   "id": "f54344aa",
   "metadata": {},
   "outputs": [],
   "source": [
    "import numpy as np"
   ]
  },
  {
   "cell_type": "code",
   "execution_count": 17,
   "id": "a243e0d4",
   "metadata": {},
   "outputs": [
    {
     "data": {
      "text/plain": [
       "'1.24.3'"
      ]
     },
     "execution_count": 17,
     "metadata": {},
     "output_type": "execute_result"
    }
   ],
   "source": [
    "np.version.version"
   ]
  },
  {
   "cell_type": "code",
   "execution_count": 18,
   "id": "eb4ca6a0",
   "metadata": {},
   "outputs": [],
   "source": [
    "a = np.array([0,0,0,0,0,0,0,0,0,0])"
   ]
  },
  {
   "cell_type": "code",
   "execution_count": 19,
   "id": "09f3633b",
   "metadata": {},
   "outputs": [
    {
     "name": "stdout",
     "output_type": "stream",
     "text": [
      "[0 0 0 0 0 0 0 0 0 0]\n"
     ]
    }
   ],
   "source": [
    "print(a)"
   ]
  },
  {
   "cell_type": "code",
   "execution_count": 20,
   "id": "d5d95899",
   "metadata": {},
   "outputs": [
    {
     "data": {
      "text/plain": [
       "['strawberries', 'grapes', 'apples']"
      ]
     },
     "execution_count": 20,
     "metadata": {},
     "output_type": "execute_result"
    }
   ],
   "source": [
    "# reverse sort\n",
    "fruits.sort(reverse=True)\n",
    "fruits"
   ]
  },
  {
   "cell_type": "code",
   "execution_count": 21,
   "id": "0ca163d0",
   "metadata": {},
   "outputs": [
    {
     "data": {
      "text/plain": [
       "['blueberries', 'grapes', 'apples']"
      ]
     },
     "execution_count": 21,
     "metadata": {},
     "output_type": "execute_result"
    }
   ],
   "source": [
    "fruits[0] = 'blueberries'\n",
    "fruits"
   ]
  },
  {
   "cell_type": "markdown",
   "id": "a8099c57",
   "metadata": {},
   "source": [
    "### Tuples"
   ]
  },
  {
   "cell_type": "code",
   "execution_count": 22,
   "id": "aeb9086f",
   "metadata": {},
   "outputs": [
    {
     "name": "stdout",
     "output_type": "stream",
     "text": [
      "('Apples', 'Oranges', 'Grapes') ('Apples', 'Oranges', 'Grapes') ()\n"
     ]
    }
   ],
   "source": [
    "# Tuples are unchangable\n",
    "fruits = ('Apples', 'Oranges', 'Grapes')\n",
    "fruits2 = tuple(('Apples', 'Oranges', 'Grapes'))\n",
    "fruits3 = ()\n",
    "\n",
    "print(fruits, fruits2, fruits3)"
   ]
  },
  {
   "cell_type": "code",
   "execution_count": 23,
   "id": "f59d7c38",
   "metadata": {},
   "outputs": [
    {
     "name": "stdout",
     "output_type": "stream",
     "text": [
      "apple <class 'str'>\n",
      "('apple',) <class 'tuple'>\n"
     ]
    }
   ],
   "source": [
    "# trailing comma for uni-valued tuple\n",
    "single_fruit = (\"apple\")\n",
    "single_fruit_2 = (\"apple\",)\n",
    "\n",
    "print(single_fruit, type(single_fruit))\n",
    "print(single_fruit_2, type(single_fruit_2))"
   ]
  },
  {
   "cell_type": "code",
   "execution_count": 25,
   "id": "b3edf827",
   "metadata": {},
   "outputs": [
    {
     "name": "stdout",
     "output_type": "stream",
     "text": [
      "Oranges\n",
      "('Apples', 'Oranges', 'Grapes')\n"
     ]
    }
   ],
   "source": [
    "print(fruits[1])\n",
    "print(fruits)"
   ]
  },
  {
   "cell_type": "code",
   "execution_count": 26,
   "id": "2b8b105b",
   "metadata": {},
   "outputs": [
    {
     "ename": "TypeError",
     "evalue": "'tuple' object does not support item assignment",
     "output_type": "error",
     "traceback": [
      "\u001b[1;31m---------------------------------------------------------------------------\u001b[0m",
      "\u001b[1;31mTypeError\u001b[0m                                 Traceback (most recent call last)",
      "Cell \u001b[1;32mIn[26], line 1\u001b[0m\n\u001b[1;32m----> 1\u001b[0m fruits[\u001b[38;5;241m1\u001b[39m] \u001b[38;5;241m=\u001b[39m \u001b[38;5;124m\"\u001b[39m\u001b[38;5;124m\"\u001b[39m\n",
      "\u001b[1;31mTypeError\u001b[0m: 'tuple' object does not support item assignment"
     ]
    }
   ],
   "source": [
    "fruits[1] = \"\""
   ]
  },
  {
   "cell_type": "code",
   "execution_count": 27,
   "id": "f5f9719c",
   "metadata": {},
   "outputs": [
    {
     "ename": "NameError",
     "evalue": "name 'fruits2' is not defined",
     "output_type": "error",
     "traceback": [
      "\u001b[1;31m---------------------------------------------------------------------------\u001b[0m",
      "\u001b[1;31mNameError\u001b[0m                                 Traceback (most recent call last)",
      "Cell \u001b[1;32mIn[27], line 3\u001b[0m\n\u001b[0;32m      1\u001b[0m \u001b[38;5;66;03m# delete a tuple\u001b[39;00m\n\u001b[0;32m      2\u001b[0m \u001b[38;5;28;01mdel\u001b[39;00m(fruits2)\n\u001b[1;32m----> 3\u001b[0m \u001b[38;5;28mprint\u001b[39m(fruits2)\n",
      "\u001b[1;31mNameError\u001b[0m: name 'fruits2' is not defined"
     ]
    }
   ],
   "source": [
    "# delete a tuple\n",
    "del(fruits2)\n",
    "print(fruits2)"
   ]
  },
  {
   "cell_type": "code",
   "execution_count": 28,
   "id": "c15a0d7d",
   "metadata": {},
   "outputs": [
    {
     "data": {
      "text/plain": [
       "3"
      ]
     },
     "execution_count": 28,
     "metadata": {},
     "output_type": "execute_result"
    }
   ],
   "source": [
    "len(fruits)"
   ]
  },
  {
   "cell_type": "markdown",
   "id": "133e7c99",
   "metadata": {},
   "source": [
    "### Set"
   ]
  },
  {
   "cell_type": "code",
   "execution_count": 36,
   "id": "abe433c3",
   "metadata": {},
   "outputs": [
    {
     "data": {
      "text/plain": [
       "{'Apples', 'Mango', 'Oranges'}"
      ]
     },
     "execution_count": 36,
     "metadata": {},
     "output_type": "execute_result"
    }
   ],
   "source": [
    "fruits_set = {'Apples', \"Oranges\", 'Mango'}\n",
    "fruits_set"
   ]
  },
  {
   "cell_type": "code",
   "execution_count": 37,
   "id": "0d6daa23",
   "metadata": {},
   "outputs": [
    {
     "name": "stdout",
     "output_type": "stream",
     "text": [
      "True\n"
     ]
    }
   ],
   "source": [
    "# membership in a set\n",
    "print(\"Apples\" in fruits_set)"
   ]
  },
  {
   "cell_type": "code",
   "execution_count": 38,
   "id": "de9df8c3",
   "metadata": {},
   "outputs": [
    {
     "data": {
      "text/plain": [
       "{'Apples', 'Grape', 'Mango', 'Oranges'}"
      ]
     },
     "execution_count": 38,
     "metadata": {},
     "output_type": "execute_result"
    }
   ],
   "source": [
    "fruits_set.add('Grape')\n",
    "fruits_set"
   ]
  },
  {
   "cell_type": "code",
   "execution_count": 41,
   "id": "772dc2df",
   "metadata": {},
   "outputs": [
    {
     "data": {
      "text/plain": [
       "{'Apples', 'Mango', 'Oranges'}"
      ]
     },
     "execution_count": 41,
     "metadata": {},
     "output_type": "execute_result"
    }
   ],
   "source": [
    "fruits_set.remove('Grape')\n",
    "fruits_set"
   ]
  },
  {
   "cell_type": "code",
   "execution_count": 42,
   "id": "c7f3fdf0",
   "metadata": {},
   "outputs": [
    {
     "data": {
      "text/plain": [
       "{'Apples', 'Mango', 'Oranges'}"
      ]
     },
     "execution_count": 42,
     "metadata": {},
     "output_type": "execute_result"
    }
   ],
   "source": [
    "# add duplicate value\n",
    "fruits_set.add('Mango')\n",
    "fruits_set"
   ]
  },
  {
   "cell_type": "code",
   "execution_count": 34,
   "id": "d43ef38b",
   "metadata": {},
   "outputs": [
    {
     "data": {
      "text/plain": [
       "set()"
      ]
     },
     "execution_count": 34,
     "metadata": {},
     "output_type": "execute_result"
    }
   ],
   "source": [
    "# clear set\n",
    "fruits_set.clear()\n",
    "fruits_set"
   ]
  },
  {
   "cell_type": "code",
   "execution_count": 35,
   "id": "a82d0ff5",
   "metadata": {},
   "outputs": [
    {
     "ename": "NameError",
     "evalue": "name 'fruits_set' is not defined",
     "output_type": "error",
     "traceback": [
      "\u001b[1;31m---------------------------------------------------------------------------\u001b[0m",
      "\u001b[1;31mNameError\u001b[0m                                 Traceback (most recent call last)",
      "Cell \u001b[1;32mIn[35], line 2\u001b[0m\n\u001b[0;32m      1\u001b[0m \u001b[38;5;28;01mdel\u001b[39;00m(fruits_set)\n\u001b[1;32m----> 2\u001b[0m fruits_set\n",
      "\u001b[1;31mNameError\u001b[0m: name 'fruits_set' is not defined"
     ]
    }
   ],
   "source": [
    "del(fruits_set)\n",
    "fruits_set"
   ]
  },
  {
   "cell_type": "markdown",
   "id": "c59a19a3",
   "metadata": {},
   "source": [
    "### Dictonaries"
   ]
  },
  {
   "cell_type": "code",
   "execution_count": 66,
   "id": "8e146489",
   "metadata": {},
   "outputs": [
    {
     "name": "stdout",
     "output_type": "stream",
     "text": [
      "{'first_name': 'John', 'last_name': 'Doe', 'age': 30}\n"
     ]
    },
    {
     "data": {
      "text/plain": [
       "dict"
      ]
     },
     "execution_count": 66,
     "metadata": {},
     "output_type": "execute_result"
    }
   ],
   "source": [
    "# create dict\n",
    "person = {\n",
    "    'first_name' : 'John',\n",
    "    'last_name' : 'Doe', \n",
    "    'age' : 30\n",
    "}\n",
    "print(person)\n",
    "type(person)"
   ]
  },
  {
   "cell_type": "code",
   "execution_count": 67,
   "id": "80a6d0fb",
   "metadata": {},
   "outputs": [],
   "source": [
    "# use constructor\n",
    "person2 = dict(first_name='Sara', last_name='Williams')"
   ]
  },
  {
   "cell_type": "code",
   "execution_count": 68,
   "id": "ad101005",
   "metadata": {},
   "outputs": [
    {
     "name": "stdout",
     "output_type": "stream",
     "text": [
      "{'first_name': 'Sara', 'last_name': 'Williams'} <class 'dict'>\n"
     ]
    }
   ],
   "source": [
    "print(person2, type(person2))"
   ]
  },
  {
   "cell_type": "code",
   "execution_count": 69,
   "id": "004f5eca",
   "metadata": {},
   "outputs": [
    {
     "name": "stdout",
     "output_type": "stream",
     "text": [
      "John\n"
     ]
    }
   ],
   "source": [
    "# get a value\n",
    "print(person['first_name'])"
   ]
  },
  {
   "cell_type": "code",
   "execution_count": 70,
   "id": "c41b71c5",
   "metadata": {},
   "outputs": [
    {
     "name": "stdout",
     "output_type": "stream",
     "text": [
      "Doe\n"
     ]
    }
   ],
   "source": [
    "print(person.get('last_name'))"
   ]
  },
  {
   "cell_type": "code",
   "execution_count": 71,
   "id": "de5b3709",
   "metadata": {},
   "outputs": [],
   "source": [
    "# add key-value\n",
    "person['phone'] = '8282950574';"
   ]
  },
  {
   "cell_type": "code",
   "execution_count": 72,
   "id": "d31983ac",
   "metadata": {},
   "outputs": [
    {
     "data": {
      "text/plain": [
       "{'first_name': 'John', 'last_name': 'Doe', 'age': 30, 'phone': '8282950574'}"
      ]
     },
     "execution_count": 72,
     "metadata": {},
     "output_type": "execute_result"
    }
   ],
   "source": [
    "person"
   ]
  },
  {
   "cell_type": "code",
   "execution_count": 73,
   "id": "ee6ccb9d",
   "metadata": {},
   "outputs": [
    {
     "name": "stdout",
     "output_type": "stream",
     "text": [
      "{'age': 30, 'first_name': 'John', 'last_name': 'Doe', 'phone': '8282950574'}\n",
      "{\n",
      " \"first_name\": \"John\",\n",
      " \"last_name\": \"Doe\",\n",
      " \"age\": 30,\n",
      " \"phone\": \"8282950574\"\n",
      "}\n"
     ]
    }
   ],
   "source": [
    "import pprint\n",
    "import json\n",
    "\n",
    "pprint.pprint(person)\n",
    "print(json.dumps(person, indent=1))"
   ]
  },
  {
   "cell_type": "code",
   "execution_count": 74,
   "id": "4d9465c9",
   "metadata": {},
   "outputs": [
    {
     "name": "stdout",
     "output_type": "stream",
     "text": [
      "dict_keys(['first_name', 'last_name', 'age', 'phone'])\n"
     ]
    }
   ],
   "source": [
    "# get dict keys\n",
    "print(person.keys())"
   ]
  },
  {
   "cell_type": "code",
   "execution_count": 75,
   "id": "4699d885",
   "metadata": {},
   "outputs": [
    {
     "name": "stdout",
     "output_type": "stream",
     "text": [
      "dict_items([('first_name', 'John'), ('last_name', 'Doe'), ('age', 30), ('phone', '8282950574')])\n"
     ]
    }
   ],
   "source": [
    "print(person.items())"
   ]
  },
  {
   "cell_type": "code",
   "execution_count": 76,
   "id": "d7239086",
   "metadata": {},
   "outputs": [
    {
     "name": "stdout",
     "output_type": "stream",
     "text": [
      "{'first_name': 'John', 'last_name': 'Doe', 'age': 30, 'phone': '8282950574', 'city': 'kolkata'}\n"
     ]
    }
   ],
   "source": [
    "# copy dictonary\n",
    "person2 = person.copy()\n",
    "person2['city'] = 'kolkata'\n",
    "\n",
    "print(person2)"
   ]
  },
  {
   "cell_type": "code",
   "execution_count": 77,
   "id": "180edf9b",
   "metadata": {},
   "outputs": [
    {
     "data": {
      "text/plain": [
       "30"
      ]
     },
     "execution_count": 77,
     "metadata": {},
     "output_type": "execute_result"
    }
   ],
   "source": [
    "# remove item\n",
    "# del(person['age'])\n",
    "person.pop('age')"
   ]
  },
  {
   "cell_type": "code",
   "execution_count": 78,
   "id": "0699aa9f",
   "metadata": {},
   "outputs": [
    {
     "data": {
      "text/plain": [
       "{'first_name': 'John', 'last_name': 'Doe', 'phone': '8282950574'}"
      ]
     },
     "execution_count": 78,
     "metadata": {},
     "output_type": "execute_result"
    }
   ],
   "source": [
    "person"
   ]
  },
  {
   "cell_type": "code",
   "execution_count": 79,
   "id": "295cb7b4",
   "metadata": {},
   "outputs": [],
   "source": [
    "# clear\n",
    "person.clear()"
   ]
  },
  {
   "cell_type": "code",
   "execution_count": 82,
   "id": "eaa04f01",
   "metadata": {},
   "outputs": [
    {
     "name": "stdout",
     "output_type": "stream",
     "text": [
      "{}\n"
     ]
    }
   ],
   "source": [
    "print(person)"
   ]
  },
  {
   "cell_type": "code",
   "execution_count": 83,
   "id": "630d07a4",
   "metadata": {},
   "outputs": [
    {
     "data": {
      "text/plain": [
       "5"
      ]
     },
     "execution_count": 83,
     "metadata": {},
     "output_type": "execute_result"
    }
   ],
   "source": [
    "# get length\n",
    "len(person2)"
   ]
  },
  {
   "cell_type": "code",
   "execution_count": 84,
   "id": "f9f9ee87",
   "metadata": {},
   "outputs": [
    {
     "data": {
      "text/plain": [
       "0"
      ]
     },
     "execution_count": 84,
     "metadata": {},
     "output_type": "execute_result"
    }
   ],
   "source": [
    "len(person)"
   ]
  },
  {
   "cell_type": "code",
   "execution_count": 85,
   "id": "f1f7cfdf",
   "metadata": {},
   "outputs": [
    {
     "name": "stdout",
     "output_type": "stream",
     "text": [
      "[{'name': 'Martha', 'age': 21}, {'name': 'Kevin', 'age': 25}]\n"
     ]
    }
   ],
   "source": [
    "# list of dictonaries\n",
    "people = [\n",
    "    {'name' : 'Martha', 'age' : 21},\n",
    "    {'name' : 'Kevin', 'age' : 25},\n",
    "]\n",
    "\n",
    "print(people)"
   ]
  },
  {
   "cell_type": "code",
   "execution_count": 86,
   "id": "4a22d39a",
   "metadata": {},
   "outputs": [
    {
     "data": {
      "text/plain": [
       "'Martha'"
      ]
     },
     "execution_count": 86,
     "metadata": {},
     "output_type": "execute_result"
    }
   ],
   "source": [
    "people[0]['name']"
   ]
  },
  {
   "cell_type": "markdown",
   "id": "d27829d2",
   "metadata": {},
   "source": [
    "### Functions"
   ]
  },
  {
   "cell_type": "code",
   "execution_count": 90,
   "id": "667ad06c",
   "metadata": {},
   "outputs": [
    {
     "data": {
      "text/plain": [
       "24"
      ]
     },
     "execution_count": 90,
     "metadata": {},
     "output_type": "execute_result"
    }
   ],
   "source": [
    "def addition(a=0, b=0):\n",
    "    return a+b\n",
    "\n",
    "addition(23,1)"
   ]
  },
  {
   "cell_type": "code",
   "execution_count": 91,
   "id": "e0d888ef",
   "metadata": {},
   "outputs": [
    {
     "data": {
      "text/plain": [
       "22"
      ]
     },
     "execution_count": 91,
     "metadata": {},
     "output_type": "execute_result"
    }
   ],
   "source": [
    "addition(23,-1)"
   ]
  },
  {
   "cell_type": "code",
   "execution_count": 92,
   "id": "db91ccc3",
   "metadata": {},
   "outputs": [
    {
     "data": {
      "text/plain": [
       "0"
      ]
     },
     "execution_count": 92,
     "metadata": {},
     "output_type": "execute_result"
    }
   ],
   "source": [
    "addition()"
   ]
  },
  {
   "cell_type": "code",
   "execution_count": 95,
   "id": "ad192910",
   "metadata": {},
   "outputs": [
    {
     "data": {
      "text/plain": [
       "14"
      ]
     },
     "execution_count": 95,
     "metadata": {},
     "output_type": "execute_result"
    }
   ],
   "source": [
    "# lambda function\n",
    "# very similar to arrow function\n",
    "get_sum = lambda num1, num2 : num1+num2\n",
    "get_sum(4,10)"
   ]
  },
  {
   "cell_type": "markdown",
   "id": "d62e9072",
   "metadata": {},
   "source": [
    "### conditionals"
   ]
  },
  {
   "cell_type": "code",
   "execution_count": 96,
   "id": "fb4ae19c",
   "metadata": {},
   "outputs": [
    {
     "data": {
      "text/plain": [
       "Ellipsis"
      ]
     },
     "execution_count": 96,
     "metadata": {},
     "output_type": "execute_result"
    }
   ],
   "source": [
    "..."
   ]
  },
  {
   "cell_type": "code",
   "execution_count": 101,
   "id": "c1a9a89b",
   "metadata": {},
   "outputs": [
    {
     "name": "stdout",
     "output_type": "stream",
     "text": [
      "True\n",
      "False\n",
      "True\n"
     ]
    }
   ],
   "source": [
    "numbers = [1,2,3,4,5,6,7,8,9,10]\n",
    "x = 13\n",
    "\n",
    "print(x in numbers or x not in numbers)\n",
    "print(x in numbers)\n",
    "print(x not in numbers)"
   ]
  },
  {
   "cell_type": "code",
   "execution_count": 102,
   "id": "ccd831ac",
   "metadata": {},
   "outputs": [
    {
     "name": "stdout",
     "output_type": "stream",
     "text": [
      "True\n"
     ]
    }
   ],
   "source": [
    "# is\n",
    "y = 13\n",
    "\n",
    "print(x is y)"
   ]
  },
  {
   "cell_type": "code",
   "execution_count": 104,
   "id": "f0b5b2bd",
   "metadata": {},
   "outputs": [
    {
     "name": "stdout",
     "output_type": "stream",
     "text": [
      "False\n"
     ]
    }
   ],
   "source": [
    "y += 1\n",
    "print(x is y)"
   ]
  },
  {
   "cell_type": "code",
   "execution_count": 105,
   "id": "8a946162",
   "metadata": {},
   "outputs": [
    {
     "name": "stdout",
     "output_type": "stream",
     "text": [
      "john\n",
      "paul\n",
      "sara\n",
      "susan\n"
     ]
    }
   ],
   "source": [
    "people = ['john', 'paul', 'sara', 'susan']\n",
    "\n",
    "# simple for loop\n",
    "for person in people:\n",
    "    print(person)"
   ]
  },
  {
   "cell_type": "markdown",
   "id": "fc115313",
   "metadata": {},
   "source": [
    "### for loop"
   ]
  },
  {
   "cell_type": "code",
   "execution_count": 106,
   "id": "d28076bd",
   "metadata": {},
   "outputs": [
    {
     "name": "stdout",
     "output_type": "stream",
     "text": [
      "current person: john\n",
      "current person: paul\n"
     ]
    }
   ],
   "source": [
    "for person in people:\n",
    "    if (person == 'sara'):\n",
    "        break\n",
    "    print(f'current person: {person}')"
   ]
  },
  {
   "cell_type": "code",
   "execution_count": 107,
   "id": "38e8fe8f",
   "metadata": {},
   "outputs": [
    {
     "name": "stdout",
     "output_type": "stream",
     "text": [
      "current person: john\n",
      "current person: paul\n",
      "current person: susan\n"
     ]
    }
   ],
   "source": [
    "for person in people:\n",
    "    if (person == 'sara'):\n",
    "        continue\n",
    "    print(f'current person: {person}')"
   ]
  },
  {
   "cell_type": "code",
   "execution_count": 108,
   "id": "6fcc81b5",
   "metadata": {},
   "outputs": [
    {
     "name": "stdout",
     "output_type": "stream",
     "text": [
      "john\n",
      "paul\n",
      "sara\n",
      "susan\n"
     ]
    }
   ],
   "source": [
    "# range\n",
    "for i in range(len(people)):\n",
    "    print(people[i])"
   ]
  },
  {
   "cell_type": "code",
   "execution_count": 109,
   "id": "babe6b3e",
   "metadata": {},
   "outputs": [
    {
     "name": "stdout",
     "output_type": "stream",
     "text": [
      "0\n",
      "1\n",
      "2\n",
      "3\n",
      "4\n",
      "5\n",
      "6\n",
      "7\n",
      "8\n",
      "9\n",
      "10\n"
     ]
    }
   ],
   "source": [
    "for i in range(0, 11):\n",
    "    print(i)"
   ]
  },
  {
   "cell_type": "code",
   "execution_count": 110,
   "id": "9ba4b0ed",
   "metadata": {},
   "outputs": [
    {
     "name": "stdout",
     "output_type": "stream",
     "text": [
      "Count: 0\n",
      "Count: 1\n",
      "Count: 2\n",
      "Count: 3\n",
      "Count: 4\n",
      "Count: 5\n",
      "Count: 6\n",
      "Count: 7\n",
      "Count: 8\n",
      "Count: 9\n",
      "Count: 10\n"
     ]
    }
   ],
   "source": [
    "count = 0\n",
    "while count <= 10:\n",
    "    print(f'Count: {count}')\n",
    "    count += 1"
   ]
  },
  {
   "cell_type": "markdown",
   "id": "4cb49e0d",
   "metadata": {},
   "source": [
    "### Modules"
   ]
  },
  {
   "cell_type": "markdown",
   "id": "6541c1a1",
   "metadata": {},
   "source": [
    "Core modules"
   ]
  },
  {
   "cell_type": "code",
   "execution_count": 112,
   "id": "e826f02a",
   "metadata": {},
   "outputs": [
    {
     "name": "stdout",
     "output_type": "stream",
     "text": [
      "2024-08-17\n"
     ]
    }
   ],
   "source": [
    "import datetime as dt\n",
    "# from datetime import date\n",
    "\n",
    "# today = date.today()\n",
    "\n",
    "today = dt.date.today()\n",
    "print(today)"
   ]
  },
  {
   "cell_type": "code",
   "execution_count": 125,
   "id": "c4d01f42",
   "metadata": {},
   "outputs": [
    {
     "name": "stdout",
     "output_type": "stream",
     "text": [
      "1723889866.53305\n"
     ]
    }
   ],
   "source": [
    "from time import time\n",
    "timestamp2 = time()\n",
    "\n",
    "# print(timestamp1)\n",
    "print(timestamp2)"
   ]
  },
  {
   "cell_type": "markdown",
   "id": "901a3871",
   "metadata": {},
   "source": [
    "Pip module:"
   ]
  },
  {
   "cell_type": "code",
   "execution_count": null,
   "id": "cc69a354",
   "metadata": {},
   "outputs": [],
   "source": [
    "import camel"
   ]
  }
 ],
 "metadata": {
  "kernelspec": {
   "display_name": "Python 3 (ipykernel)",
   "language": "python",
   "name": "python3"
  },
  "language_info": {
   "codemirror_mode": {
    "name": "ipython",
    "version": 3
   },
   "file_extension": ".py",
   "mimetype": "text/x-python",
   "name": "python",
   "nbconvert_exporter": "python",
   "pygments_lexer": "ipython3",
   "version": "3.11.4"
  }
 },
 "nbformat": 4,
 "nbformat_minor": 5
}
