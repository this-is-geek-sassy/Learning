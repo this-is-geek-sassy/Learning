{
 "cells": [
  {
   "cell_type": "code",
   "execution_count": 1,
   "id": "21bda211",
   "metadata": {},
   "outputs": [],
   "source": [
    "import numpy as np"
   ]
  },
  {
   "cell_type": "code",
   "execution_count": 7,
   "id": "37179c3a",
   "metadata": {},
   "outputs": [
    {
     "data": {
      "text/plain": [
       "'1.24.3'"
      ]
     },
     "execution_count": 7,
     "metadata": {},
     "output_type": "execute_result"
    }
   ],
   "source": [
    "np.version.version"
   ]
  },
  {
   "cell_type": "code",
   "execution_count": 3,
   "id": "5b84eed8",
   "metadata": {},
   "outputs": [
    {
     "name": "stdout",
     "output_type": "stream",
     "text": [
      "[1, 2, 3, 4, 5]\n",
      "2\n",
      "[2, 3, 4]\n",
      "5\n",
      "<class 'list'>\n"
     ]
    }
   ],
   "source": [
    "a = [1,2,3,4,5]\n",
    "\n",
    "print(a)\n",
    "print(a[1])\n",
    "print(a[1:4])\n",
    "print(a[-1])\n",
    "print(type(a))"
   ]
  },
  {
   "cell_type": "code",
   "execution_count": 4,
   "id": "4a8db6a6",
   "metadata": {},
   "outputs": [
    {
     "name": "stdout",
     "output_type": "stream",
     "text": [
      "[1 2 3 4 5]\n",
      "<class 'numpy.ndarray'>\n"
     ]
    }
   ],
   "source": [
    "a = np.array([1,2,3,4,5])\n",
    "\n",
    "print(a)\n",
    "print(type(a))"
   ]
  },
  {
   "cell_type": "code",
   "execution_count": 5,
   "id": "ae2c6558",
   "metadata": {},
   "outputs": [
    {
     "name": "stdout",
     "output_type": "stream",
     "text": [
      "[2 3 4 5]\n"
     ]
    }
   ],
   "source": [
    "print(a[1:])"
   ]
  },
  {
   "cell_type": "code",
   "execution_count": 6,
   "id": "0a433039",
   "metadata": {},
   "outputs": [
    {
     "name": "stdout",
     "output_type": "stream",
     "text": [
      "[1 2 3]\n"
     ]
    }
   ],
   "source": [
    "print(a[:-2])"
   ]
  },
  {
   "cell_type": "code",
   "execution_count": 7,
   "id": "6bf7b2f2",
   "metadata": {},
   "outputs": [
    {
     "data": {
      "text/plain": [
       "array([ 1,  2, 10,  4,  5])"
      ]
     },
     "execution_count": 7,
     "metadata": {},
     "output_type": "execute_result"
    }
   ],
   "source": [
    "a[2] = 10\n",
    "a"
   ]
  },
  {
   "cell_type": "code",
   "execution_count": 8,
   "id": "f55e404a",
   "metadata": {},
   "outputs": [
    {
     "name": "stdout",
     "output_type": "stream",
     "text": [
      "[ 1  2 10  4  5]\n"
     ]
    }
   ],
   "source": [
    "print(a)"
   ]
  },
  {
   "cell_type": "code",
   "execution_count": 20,
   "id": "3ee888a9",
   "metadata": {},
   "outputs": [
    {
     "name": "stdout",
     "output_type": "stream",
     "text": [
      "[[1 2 3 1]\n",
      " [4 5 6 1]\n",
      " [7 8 9 1]]\n",
      "*************\n",
      "[4 5 6 1]\n",
      "*************\n",
      "[4 5 6 1]\n"
     ]
    }
   ],
   "source": [
    "a_mul = np.array([[[1,2,3,1],\n",
    "                [4,5,6,1],\n",
    "                [7,8,9,1]],\n",
    "                \n",
    "                [[1,1,1,1],\n",
    "                [2,2,2,2],\n",
    "                [3,3,3,3]]])\n",
    "print(a_mul[0])\n",
    "print(\"*************\")\n",
    "print(a_mul[0][1])\n",
    "print(\"*************\")\n",
    "print(a_mul[0,1])"
   ]
  },
  {
   "cell_type": "code",
   "execution_count": 21,
   "id": "124b399a",
   "metadata": {},
   "outputs": [
    {
     "name": "stdout",
     "output_type": "stream",
     "text": [
      "(2, 3, 4)\n"
     ]
    }
   ],
   "source": [
    "print(a_mul.shape)"
   ]
  },
  {
   "cell_type": "code",
   "execution_count": 23,
   "id": "48aeadca",
   "metadata": {},
   "outputs": [
    {
     "name": "stdout",
     "output_type": "stream",
     "text": [
      "3\n"
     ]
    }
   ],
   "source": [
    "print(a_mul.ndim)   # dimension"
   ]
  },
  {
   "cell_type": "code",
   "execution_count": 25,
   "id": "daf539cf",
   "metadata": {},
   "outputs": [
    {
     "name": "stdout",
     "output_type": "stream",
     "text": [
      "24\n"
     ]
    }
   ],
   "source": [
    "print(a_mul.size)   # 2*3*4 = 24"
   ]
  },
  {
   "cell_type": "code",
   "execution_count": 27,
   "id": "83cd93f5",
   "metadata": {},
   "outputs": [
    {
     "name": "stdout",
     "output_type": "stream",
     "text": [
      "int32\n"
     ]
    }
   ],
   "source": [
    "# datatype  (numpy is written in C, and it is statically typed and strict)\n",
    "print(a_mul.dtype)"
   ]
  },
  {
   "cell_type": "code",
   "execution_count": 28,
   "id": "0e79a863",
   "metadata": {},
   "outputs": [
    {
     "data": {
      "text/plain": [
       "array([[['1', '2', '3', '1'],\n",
       "        ['4', '5', '6', '1'],\n",
       "        ['7', '8', '9', '1']],\n",
       "\n",
       "       [['1', 'hello', '1', '1'],\n",
       "        ['2', '2', '2', '2'],\n",
       "        ['3', '3', '3', '3']]], dtype='<U11')"
      ]
     },
     "execution_count": 28,
     "metadata": {},
     "output_type": "execute_result"
    }
   ],
   "source": [
    "b = np.array([[[1,2,3,1],\n",
    "                [4,5,6,1],\n",
    "                [7,8,9,1]],\n",
    "                \n",
    "                [[1, 'hello', 1, 1],\n",
    "                [2,2,2,2],\n",
    "                [3,3,3,3]]])\n",
    "b"
   ]
  },
  {
   "cell_type": "code",
   "execution_count": 29,
   "id": "a9f82acf",
   "metadata": {},
   "outputs": [
    {
     "name": "stdout",
     "output_type": "stream",
     "text": [
      "<U11\n"
     ]
    }
   ],
   "source": [
    "print(b.dtype)"
   ]
  },
  {
   "cell_type": "code",
   "execution_count": 33,
   "id": "b0d346a6",
   "metadata": {},
   "outputs": [
    {
     "name": "stdout",
     "output_type": "stream",
     "text": [
      "1\n",
      "<class 'numpy.str_'>\n",
      "<U1\n"
     ]
    }
   ],
   "source": [
    "print(int(b[0, 0, 0]))\n",
    "print(type(b[0, 0, 0]))\n",
    "print(b[0, 0, 0].dtype)"
   ]
  },
  {
   "cell_type": "code",
   "execution_count": 34,
   "id": "bac0b95f",
   "metadata": {},
   "outputs": [
    {
     "ename": "ValueError",
     "evalue": "invalid literal for int() with base 10: 'hello'",
     "output_type": "error",
     "traceback": [
      "\u001b[1;31m---------------------------------------------------------------------------\u001b[0m",
      "\u001b[1;31mValueError\u001b[0m                                Traceback (most recent call last)",
      "Cell \u001b[1;32mIn[34], line 1\u001b[0m\n\u001b[1;32m----> 1\u001b[0m c \u001b[38;5;241m=\u001b[39m np\u001b[38;5;241m.\u001b[39marray([[[\u001b[38;5;241m1\u001b[39m,\u001b[38;5;241m2\u001b[39m,\u001b[38;5;241m3\u001b[39m,\u001b[38;5;241m1\u001b[39m],\n\u001b[0;32m      2\u001b[0m                 [\u001b[38;5;241m4\u001b[39m,\u001b[38;5;241m5\u001b[39m,\u001b[38;5;241m6\u001b[39m,\u001b[38;5;241m1\u001b[39m],\n\u001b[0;32m      3\u001b[0m                 [\u001b[38;5;241m7\u001b[39m,\u001b[38;5;241m8\u001b[39m,\u001b[38;5;241m9\u001b[39m,\u001b[38;5;241m1\u001b[39m]],\n\u001b[0;32m      4\u001b[0m                 \n\u001b[0;32m      5\u001b[0m                 [[\u001b[38;5;241m1\u001b[39m, \u001b[38;5;124m'\u001b[39m\u001b[38;5;124mhello\u001b[39m\u001b[38;5;124m'\u001b[39m, \u001b[38;5;241m1\u001b[39m, \u001b[38;5;241m1\u001b[39m],\n\u001b[0;32m      6\u001b[0m                 [\u001b[38;5;241m2\u001b[39m,\u001b[38;5;241m2\u001b[39m,\u001b[38;5;241m2\u001b[39m,\u001b[38;5;241m2\u001b[39m],\n\u001b[0;32m      7\u001b[0m                 [\u001b[38;5;241m3\u001b[39m,\u001b[38;5;241m3\u001b[39m,\u001b[38;5;241m3\u001b[39m,\u001b[38;5;241m3\u001b[39m]]], dtype\u001b[38;5;241m=\u001b[39mnp\u001b[38;5;241m.\u001b[39mint32)\n\u001b[0;32m      8\u001b[0m c\n",
      "\u001b[1;31mValueError\u001b[0m: invalid literal for int() with base 10: 'hello'"
     ]
    }
   ],
   "source": [
    "c = np.array([[[1,2,3,1],\n",
    "                [4,5,6,1],\n",
    "                [7,8,9,1]],\n",
    "                \n",
    "                [[1, 'hello', 1, 1],\n",
    "                [2,2,2,2],\n",
    "                [3,3,3,3]]], dtype=np.int32)\n",
    "c"
   ]
  },
  {
   "cell_type": "code",
   "execution_count": 35,
   "id": "bf012404",
   "metadata": {},
   "outputs": [
    {
     "data": {
      "text/plain": [
       "array([[[1, 2, 3, 1],\n",
       "        [4, 5, 6, 1],\n",
       "        [7, 8, 9, 1]],\n",
       "\n",
       "       [[1, 5, 1, 1],\n",
       "        [2, 2, 2, 2],\n",
       "        [3, 3, 3, 3]]])"
      ]
     },
     "execution_count": 35,
     "metadata": {},
     "output_type": "execute_result"
    }
   ],
   "source": [
    "c = np.array([[[1,2,3,1],\n",
    "                [4,5,6,1],\n",
    "                [7,8,9,1]],\n",
    "                \n",
    "                [[1, '5', 1, 1],\n",
    "                [2,2,2,2],\n",
    "                [3,3,3,3]]], dtype=np.int32)\n",
    "c"
   ]
  },
  {
   "cell_type": "code",
   "execution_count": 36,
   "id": "6ba1bece",
   "metadata": {},
   "outputs": [
    {
     "data": {
      "text/plain": [
       "array([[[1., 2., 3., 1.],\n",
       "        [4., 5., 6., 1.],\n",
       "        [7., 8., 9., 1.]],\n",
       "\n",
       "       [[1., 5., 1., 1.],\n",
       "        [2., 2., 2., 2.],\n",
       "        [3., 3., 3., 3.]]], dtype=float32)"
      ]
     },
     "execution_count": 36,
     "metadata": {},
     "output_type": "execute_result"
    }
   ],
   "source": [
    "d = np.array([[[1,2,3,1],\n",
    "                [4,5,6,1],\n",
    "                [7,8,9,1]],\n",
    "                \n",
    "                [[1, '5', 1, 1],\n",
    "                [2,2,2,2],\n",
    "                [3,3,3,3]]], dtype=np.float32)\n",
    "d"
   ]
  },
  {
   "cell_type": "code",
   "execution_count": 38,
   "id": "c85b604e",
   "metadata": {},
   "outputs": [
    {
     "data": {
      "text/plain": [
       "5.0"
      ]
     },
     "execution_count": 38,
     "metadata": {},
     "output_type": "execute_result"
    }
   ],
   "source": [
    "d[1][0][1]"
   ]
  },
  {
   "cell_type": "code",
   "execution_count": 37,
   "id": "7fb954cd",
   "metadata": {},
   "outputs": [
    {
     "data": {
      "text/plain": [
       "array([[['1', '2', '3', '1'],\n",
       "        ['4', '5', '6', '1'],\n",
       "        ['7', '8', '9', '1']],\n",
       "\n",
       "       [['1', '5', '1', '1'],\n",
       "        ['2', '2', '2', '2'],\n",
       "        ['3', '3', '3', '3']]], dtype='<U11')"
      ]
     },
     "execution_count": 37,
     "metadata": {},
     "output_type": "execute_result"
    }
   ],
   "source": [
    "e = np.array([[[1,2,3,1],\n",
    "                [4,5,6,1],\n",
    "                [7,8,9,1]],\n",
    "                \n",
    "                [[1, '5', 1, 1],\n",
    "                [2,2,2,2],\n",
    "                [3,3,3,3]]])\n",
    "e"
   ]
  },
  {
   "cell_type": "code",
   "execution_count": 39,
   "id": "83d7c9fb",
   "metadata": {},
   "outputs": [
    {
     "data": {
      "text/plain": [
       "'5'"
      ]
     },
     "execution_count": 39,
     "metadata": {},
     "output_type": "execute_result"
    }
   ],
   "source": [
    "e[1][0][1]"
   ]
  },
  {
   "cell_type": "code",
   "execution_count": 42,
   "id": "ef1aee9c",
   "metadata": {},
   "outputs": [
    {
     "data": {
      "text/plain": [
       "array([[[1, 2, 3, 1],\n",
       "        [4, 5, 6, 1],\n",
       "        [7, 8, 9, 1]],\n",
       "\n",
       "       [[1, <class 'dict'>, 1, 1],\n",
       "        [2, 2, 2, 2],\n",
       "        [3, 3, 3, 3]]], dtype=object)"
      ]
     },
     "execution_count": 42,
     "metadata": {},
     "output_type": "execute_result"
    }
   ],
   "source": [
    "dict1 = {'A' : 1}\n",
    "f = np.array([[[1,2,3,1],\n",
    "                [4,5,6,1],\n",
    "                [7,8,9,1]],\n",
    "                \n",
    "                [[1, dict, 1, 1],\n",
    "                [2,2,2,2],\n",
    "                [3,3,3,3]]])\n",
    "f"
   ]
  },
  {
   "cell_type": "code",
   "execution_count": 44,
   "id": "054ab082",
   "metadata": {},
   "outputs": [
    {
     "name": "stdout",
     "output_type": "stream",
     "text": [
      "1\n"
     ]
    },
    {
     "ename": "AttributeError",
     "evalue": "'int' object has no attribute 'dtype'",
     "output_type": "error",
     "traceback": [
      "\u001b[1;31m---------------------------------------------------------------------------\u001b[0m",
      "\u001b[1;31mAttributeError\u001b[0m                            Traceback (most recent call last)",
      "Cell \u001b[1;32mIn[44], line 2\u001b[0m\n\u001b[0;32m      1\u001b[0m \u001b[38;5;28mprint\u001b[39m(f[\u001b[38;5;241m1\u001b[39m][\u001b[38;5;241m0\u001b[39m][\u001b[38;5;241m0\u001b[39m])\n\u001b[1;32m----> 2\u001b[0m \u001b[38;5;28mprint\u001b[39m(f[\u001b[38;5;241m1\u001b[39m][\u001b[38;5;241m0\u001b[39m][\u001b[38;5;241m0\u001b[39m]\u001b[38;5;241m.\u001b[39mdtype)\n",
      "\u001b[1;31mAttributeError\u001b[0m: 'int' object has no attribute 'dtype'"
     ]
    }
   ],
   "source": [
    "print(f[1][0][0])\n",
    "print(f[1][0][0].dtype)"
   ]
  },
  {
   "cell_type": "code",
   "execution_count": 45,
   "id": "bd55ce44",
   "metadata": {},
   "outputs": [
    {
     "name": "stdout",
     "output_type": "stream",
     "text": [
      "<class 'int'>\n"
     ]
    }
   ],
   "source": [
    "print(type(f[1][0][0]))   # python style object, not C-style"
   ]
  },
  {
   "cell_type": "code",
   "execution_count": 47,
   "id": "1beae448",
   "metadata": {},
   "outputs": [
    {
     "data": {
      "text/plain": [
       "array([[['1', '2', '3', '1'],\n",
       "        ['4', '5', '6', '1'],\n",
       "        ['7', '8', '9', '1']],\n",
       "\n",
       "       [['1', '2', '1', '1'],\n",
       "        ['2', '2', '2', '2'],\n",
       "        ['3', '3', '3', '3']]], dtype='<U2')"
      ]
     },
     "execution_count": 47,
     "metadata": {},
     "output_type": "execute_result"
    }
   ],
   "source": [
    "g = np.array([[[1,2,3,1],\n",
    "                [4,5,6,1],\n",
    "                [7,8,9,1]],\n",
    "                \n",
    "                [[1, 2, 1, 1],\n",
    "                [2,2,2,2],\n",
    "                [3,3,3,3]]], dtype=\"<U2\")\n",
    "g"
   ]
  },
  {
   "cell_type": "code",
   "execution_count": 49,
   "id": "7931fee9",
   "metadata": {},
   "outputs": [
    {
     "name": "stdout",
     "output_type": "stream",
     "text": [
      "<U1\n"
     ]
    }
   ],
   "source": [
    "print(g[0][0][0].dtype)"
   ]
  },
  {
   "cell_type": "code",
   "execution_count": 51,
   "id": "f5763a7b",
   "metadata": {},
   "outputs": [
    {
     "name": "stdout",
     "output_type": "stream",
     "text": [
      "[[[9 9 9 9]\n",
      "  [9 9 9 9]\n",
      "  [9 9 9 9]]\n",
      "\n",
      " [[9 9 9 9]\n",
      "  [9 9 9 9]\n",
      "  [9 9 9 9]]]\n"
     ]
    }
   ],
   "source": [
    "a = np.full((2,3,4), 9)\n",
    "print(a)"
   ]
  },
  {
   "cell_type": "code",
   "execution_count": 52,
   "id": "05686eda",
   "metadata": {},
   "outputs": [
    {
     "name": "stdout",
     "output_type": "stream",
     "text": [
      "[[[[9 9 9 ... 9 9 9]\n",
      "   [9 9 9 ... 9 9 9]\n",
      "   [9 9 9 ... 9 9 9]\n",
      "   ...\n",
      "   [9 9 9 ... 9 9 9]\n",
      "   [9 9 9 ... 9 9 9]\n",
      "   [9 9 9 ... 9 9 9]]\n",
      "\n",
      "  [[9 9 9 ... 9 9 9]\n",
      "   [9 9 9 ... 9 9 9]\n",
      "   [9 9 9 ... 9 9 9]\n",
      "   ...\n",
      "   [9 9 9 ... 9 9 9]\n",
      "   [9 9 9 ... 9 9 9]\n",
      "   [9 9 9 ... 9 9 9]]\n",
      "\n",
      "  [[9 9 9 ... 9 9 9]\n",
      "   [9 9 9 ... 9 9 9]\n",
      "   [9 9 9 ... 9 9 9]\n",
      "   ...\n",
      "   [9 9 9 ... 9 9 9]\n",
      "   [9 9 9 ... 9 9 9]\n",
      "   [9 9 9 ... 9 9 9]]\n",
      "\n",
      "  ...\n",
      "\n",
      "  [[9 9 9 ... 9 9 9]\n",
      "   [9 9 9 ... 9 9 9]\n",
      "   [9 9 9 ... 9 9 9]\n",
      "   ...\n",
      "   [9 9 9 ... 9 9 9]\n",
      "   [9 9 9 ... 9 9 9]\n",
      "   [9 9 9 ... 9 9 9]]\n",
      "\n",
      "  [[9 9 9 ... 9 9 9]\n",
      "   [9 9 9 ... 9 9 9]\n",
      "   [9 9 9 ... 9 9 9]\n",
      "   ...\n",
      "   [9 9 9 ... 9 9 9]\n",
      "   [9 9 9 ... 9 9 9]\n",
      "   [9 9 9 ... 9 9 9]]\n",
      "\n",
      "  [[9 9 9 ... 9 9 9]\n",
      "   [9 9 9 ... 9 9 9]\n",
      "   [9 9 9 ... 9 9 9]\n",
      "   ...\n",
      "   [9 9 9 ... 9 9 9]\n",
      "   [9 9 9 ... 9 9 9]\n",
      "   [9 9 9 ... 9 9 9]]]\n",
      "\n",
      "\n",
      " [[[9 9 9 ... 9 9 9]\n",
      "   [9 9 9 ... 9 9 9]\n",
      "   [9 9 9 ... 9 9 9]\n",
      "   ...\n",
      "   [9 9 9 ... 9 9 9]\n",
      "   [9 9 9 ... 9 9 9]\n",
      "   [9 9 9 ... 9 9 9]]\n",
      "\n",
      "  [[9 9 9 ... 9 9 9]\n",
      "   [9 9 9 ... 9 9 9]\n",
      "   [9 9 9 ... 9 9 9]\n",
      "   ...\n",
      "   [9 9 9 ... 9 9 9]\n",
      "   [9 9 9 ... 9 9 9]\n",
      "   [9 9 9 ... 9 9 9]]\n",
      "\n",
      "  [[9 9 9 ... 9 9 9]\n",
      "   [9 9 9 ... 9 9 9]\n",
      "   [9 9 9 ... 9 9 9]\n",
      "   ...\n",
      "   [9 9 9 ... 9 9 9]\n",
      "   [9 9 9 ... 9 9 9]\n",
      "   [9 9 9 ... 9 9 9]]\n",
      "\n",
      "  ...\n",
      "\n",
      "  [[9 9 9 ... 9 9 9]\n",
      "   [9 9 9 ... 9 9 9]\n",
      "   [9 9 9 ... 9 9 9]\n",
      "   ...\n",
      "   [9 9 9 ... 9 9 9]\n",
      "   [9 9 9 ... 9 9 9]\n",
      "   [9 9 9 ... 9 9 9]]\n",
      "\n",
      "  [[9 9 9 ... 9 9 9]\n",
      "   [9 9 9 ... 9 9 9]\n",
      "   [9 9 9 ... 9 9 9]\n",
      "   ...\n",
      "   [9 9 9 ... 9 9 9]\n",
      "   [9 9 9 ... 9 9 9]\n",
      "   [9 9 9 ... 9 9 9]]\n",
      "\n",
      "  [[9 9 9 ... 9 9 9]\n",
      "   [9 9 9 ... 9 9 9]\n",
      "   [9 9 9 ... 9 9 9]\n",
      "   ...\n",
      "   [9 9 9 ... 9 9 9]\n",
      "   [9 9 9 ... 9 9 9]\n",
      "   [9 9 9 ... 9 9 9]]]\n",
      "\n",
      "\n",
      " [[[9 9 9 ... 9 9 9]\n",
      "   [9 9 9 ... 9 9 9]\n",
      "   [9 9 9 ... 9 9 9]\n",
      "   ...\n",
      "   [9 9 9 ... 9 9 9]\n",
      "   [9 9 9 ... 9 9 9]\n",
      "   [9 9 9 ... 9 9 9]]\n",
      "\n",
      "  [[9 9 9 ... 9 9 9]\n",
      "   [9 9 9 ... 9 9 9]\n",
      "   [9 9 9 ... 9 9 9]\n",
      "   ...\n",
      "   [9 9 9 ... 9 9 9]\n",
      "   [9 9 9 ... 9 9 9]\n",
      "   [9 9 9 ... 9 9 9]]\n",
      "\n",
      "  [[9 9 9 ... 9 9 9]\n",
      "   [9 9 9 ... 9 9 9]\n",
      "   [9 9 9 ... 9 9 9]\n",
      "   ...\n",
      "   [9 9 9 ... 9 9 9]\n",
      "   [9 9 9 ... 9 9 9]\n",
      "   [9 9 9 ... 9 9 9]]\n",
      "\n",
      "  ...\n",
      "\n",
      "  [[9 9 9 ... 9 9 9]\n",
      "   [9 9 9 ... 9 9 9]\n",
      "   [9 9 9 ... 9 9 9]\n",
      "   ...\n",
      "   [9 9 9 ... 9 9 9]\n",
      "   [9 9 9 ... 9 9 9]\n",
      "   [9 9 9 ... 9 9 9]]\n",
      "\n",
      "  [[9 9 9 ... 9 9 9]\n",
      "   [9 9 9 ... 9 9 9]\n",
      "   [9 9 9 ... 9 9 9]\n",
      "   ...\n",
      "   [9 9 9 ... 9 9 9]\n",
      "   [9 9 9 ... 9 9 9]\n",
      "   [9 9 9 ... 9 9 9]]\n",
      "\n",
      "  [[9 9 9 ... 9 9 9]\n",
      "   [9 9 9 ... 9 9 9]\n",
      "   [9 9 9 ... 9 9 9]\n",
      "   ...\n",
      "   [9 9 9 ... 9 9 9]\n",
      "   [9 9 9 ... 9 9 9]\n",
      "   [9 9 9 ... 9 9 9]]]\n",
      "\n",
      "\n",
      " ...\n",
      "\n",
      "\n",
      " [[[9 9 9 ... 9 9 9]\n",
      "   [9 9 9 ... 9 9 9]\n",
      "   [9 9 9 ... 9 9 9]\n",
      "   ...\n",
      "   [9 9 9 ... 9 9 9]\n",
      "   [9 9 9 ... 9 9 9]\n",
      "   [9 9 9 ... 9 9 9]]\n",
      "\n",
      "  [[9 9 9 ... 9 9 9]\n",
      "   [9 9 9 ... 9 9 9]\n",
      "   [9 9 9 ... 9 9 9]\n",
      "   ...\n",
      "   [9 9 9 ... 9 9 9]\n",
      "   [9 9 9 ... 9 9 9]\n",
      "   [9 9 9 ... 9 9 9]]\n",
      "\n",
      "  [[9 9 9 ... 9 9 9]\n",
      "   [9 9 9 ... 9 9 9]\n",
      "   [9 9 9 ... 9 9 9]\n",
      "   ...\n",
      "   [9 9 9 ... 9 9 9]\n",
      "   [9 9 9 ... 9 9 9]\n",
      "   [9 9 9 ... 9 9 9]]\n",
      "\n",
      "  ...\n",
      "\n",
      "  [[9 9 9 ... 9 9 9]\n",
      "   [9 9 9 ... 9 9 9]\n",
      "   [9 9 9 ... 9 9 9]\n",
      "   ...\n",
      "   [9 9 9 ... 9 9 9]\n",
      "   [9 9 9 ... 9 9 9]\n",
      "   [9 9 9 ... 9 9 9]]\n",
      "\n",
      "  [[9 9 9 ... 9 9 9]\n",
      "   [9 9 9 ... 9 9 9]\n",
      "   [9 9 9 ... 9 9 9]\n",
      "   ...\n",
      "   [9 9 9 ... 9 9 9]\n",
      "   [9 9 9 ... 9 9 9]\n",
      "   [9 9 9 ... 9 9 9]]\n",
      "\n",
      "  [[9 9 9 ... 9 9 9]\n",
      "   [9 9 9 ... 9 9 9]\n",
      "   [9 9 9 ... 9 9 9]\n",
      "   ...\n",
      "   [9 9 9 ... 9 9 9]\n",
      "   [9 9 9 ... 9 9 9]\n",
      "   [9 9 9 ... 9 9 9]]]\n",
      "\n",
      "\n",
      " [[[9 9 9 ... 9 9 9]\n",
      "   [9 9 9 ... 9 9 9]\n",
      "   [9 9 9 ... 9 9 9]\n",
      "   ...\n",
      "   [9 9 9 ... 9 9 9]\n",
      "   [9 9 9 ... 9 9 9]\n",
      "   [9 9 9 ... 9 9 9]]\n",
      "\n",
      "  [[9 9 9 ... 9 9 9]\n",
      "   [9 9 9 ... 9 9 9]\n",
      "   [9 9 9 ... 9 9 9]\n",
      "   ...\n",
      "   [9 9 9 ... 9 9 9]\n",
      "   [9 9 9 ... 9 9 9]\n",
      "   [9 9 9 ... 9 9 9]]\n",
      "\n",
      "  [[9 9 9 ... 9 9 9]\n",
      "   [9 9 9 ... 9 9 9]\n",
      "   [9 9 9 ... 9 9 9]\n",
      "   ...\n",
      "   [9 9 9 ... 9 9 9]\n",
      "   [9 9 9 ... 9 9 9]\n",
      "   [9 9 9 ... 9 9 9]]\n",
      "\n",
      "  ...\n",
      "\n",
      "  [[9 9 9 ... 9 9 9]\n",
      "   [9 9 9 ... 9 9 9]\n",
      "   [9 9 9 ... 9 9 9]\n",
      "   ...\n",
      "   [9 9 9 ... 9 9 9]\n",
      "   [9 9 9 ... 9 9 9]\n",
      "   [9 9 9 ... 9 9 9]]\n",
      "\n",
      "  [[9 9 9 ... 9 9 9]\n",
      "   [9 9 9 ... 9 9 9]\n",
      "   [9 9 9 ... 9 9 9]\n",
      "   ...\n",
      "   [9 9 9 ... 9 9 9]\n",
      "   [9 9 9 ... 9 9 9]\n",
      "   [9 9 9 ... 9 9 9]]\n",
      "\n",
      "  [[9 9 9 ... 9 9 9]\n",
      "   [9 9 9 ... 9 9 9]\n",
      "   [9 9 9 ... 9 9 9]\n",
      "   ...\n",
      "   [9 9 9 ... 9 9 9]\n",
      "   [9 9 9 ... 9 9 9]\n",
      "   [9 9 9 ... 9 9 9]]]\n",
      "\n",
      "\n",
      " [[[9 9 9 ... 9 9 9]\n",
      "   [9 9 9 ... 9 9 9]\n",
      "   [9 9 9 ... 9 9 9]\n",
      "   ...\n",
      "   [9 9 9 ... 9 9 9]\n",
      "   [9 9 9 ... 9 9 9]\n",
      "   [9 9 9 ... 9 9 9]]\n",
      "\n",
      "  [[9 9 9 ... 9 9 9]\n",
      "   [9 9 9 ... 9 9 9]\n",
      "   [9 9 9 ... 9 9 9]\n",
      "   ...\n",
      "   [9 9 9 ... 9 9 9]\n",
      "   [9 9 9 ... 9 9 9]\n",
      "   [9 9 9 ... 9 9 9]]\n",
      "\n",
      "  [[9 9 9 ... 9 9 9]\n",
      "   [9 9 9 ... 9 9 9]\n",
      "   [9 9 9 ... 9 9 9]\n",
      "   ...\n",
      "   [9 9 9 ... 9 9 9]\n",
      "   [9 9 9 ... 9 9 9]\n",
      "   [9 9 9 ... 9 9 9]]\n",
      "\n",
      "  ...\n",
      "\n",
      "  [[9 9 9 ... 9 9 9]\n",
      "   [9 9 9 ... 9 9 9]\n",
      "   [9 9 9 ... 9 9 9]\n",
      "   ...\n",
      "   [9 9 9 ... 9 9 9]\n",
      "   [9 9 9 ... 9 9 9]\n",
      "   [9 9 9 ... 9 9 9]]\n",
      "\n",
      "  [[9 9 9 ... 9 9 9]\n",
      "   [9 9 9 ... 9 9 9]\n",
      "   [9 9 9 ... 9 9 9]\n",
      "   ...\n",
      "   [9 9 9 ... 9 9 9]\n",
      "   [9 9 9 ... 9 9 9]\n",
      "   [9 9 9 ... 9 9 9]]\n",
      "\n",
      "  [[9 9 9 ... 9 9 9]\n",
      "   [9 9 9 ... 9 9 9]\n",
      "   [9 9 9 ... 9 9 9]\n",
      "   ...\n",
      "   [9 9 9 ... 9 9 9]\n",
      "   [9 9 9 ... 9 9 9]\n",
      "   [9 9 9 ... 9 9 9]]]]\n"
     ]
    }
   ],
   "source": [
    "b = np.full((10,10,10,10), 9)\n",
    "print(b)"
   ]
  },
  {
   "cell_type": "code",
   "execution_count": 53,
   "id": "c4de4992",
   "metadata": {},
   "outputs": [
    {
     "name": "stdout",
     "output_type": "stream",
     "text": [
      "[[[0. 0.]\n",
      "  [0. 0.]\n",
      "  [0. 0.]\n",
      "  [0. 0.]\n",
      "  [0. 0.]]\n",
      "\n",
      " [[0. 0.]\n",
      "  [0. 0.]\n",
      "  [0. 0.]\n",
      "  [0. 0.]\n",
      "  [0. 0.]]\n",
      "\n",
      " [[0. 0.]\n",
      "  [0. 0.]\n",
      "  [0. 0.]\n",
      "  [0. 0.]\n",
      "  [0. 0.]]\n",
      "\n",
      " [[0. 0.]\n",
      "  [0. 0.]\n",
      "  [0. 0.]\n",
      "  [0. 0.]\n",
      "  [0. 0.]]\n",
      "\n",
      " [[0. 0.]\n",
      "  [0. 0.]\n",
      "  [0. 0.]\n",
      "  [0. 0.]\n",
      "  [0. 0.]]\n",
      "\n",
      " [[0. 0.]\n",
      "  [0. 0.]\n",
      "  [0. 0.]\n",
      "  [0. 0.]\n",
      "  [0. 0.]]\n",
      "\n",
      " [[0. 0.]\n",
      "  [0. 0.]\n",
      "  [0. 0.]\n",
      "  [0. 0.]\n",
      "  [0. 0.]]\n",
      "\n",
      " [[0. 0.]\n",
      "  [0. 0.]\n",
      "  [0. 0.]\n",
      "  [0. 0.]\n",
      "  [0. 0.]]\n",
      "\n",
      " [[0. 0.]\n",
      "  [0. 0.]\n",
      "  [0. 0.]\n",
      "  [0. 0.]\n",
      "  [0. 0.]]\n",
      "\n",
      " [[0. 0.]\n",
      "  [0. 0.]\n",
      "  [0. 0.]\n",
      "  [0. 0.]\n",
      "  [0. 0.]]]\n"
     ]
    }
   ],
   "source": [
    "a = np.zeros((10,5,2))\n",
    "print(a)"
   ]
  },
  {
   "cell_type": "code",
   "execution_count": 54,
   "id": "f7ea12d1",
   "metadata": {},
   "outputs": [
    {
     "name": "stdout",
     "output_type": "stream",
     "text": [
      "[[[1. 1.]\n",
      "  [1. 1.]\n",
      "  [1. 1.]\n",
      "  [1. 1.]\n",
      "  [1. 1.]]\n",
      "\n",
      " [[1. 1.]\n",
      "  [1. 1.]\n",
      "  [1. 1.]\n",
      "  [1. 1.]\n",
      "  [1. 1.]]\n",
      "\n",
      " [[1. 1.]\n",
      "  [1. 1.]\n",
      "  [1. 1.]\n",
      "  [1. 1.]\n",
      "  [1. 1.]]\n",
      "\n",
      " [[1. 1.]\n",
      "  [1. 1.]\n",
      "  [1. 1.]\n",
      "  [1. 1.]\n",
      "  [1. 1.]]\n",
      "\n",
      " [[1. 1.]\n",
      "  [1. 1.]\n",
      "  [1. 1.]\n",
      "  [1. 1.]\n",
      "  [1. 1.]]\n",
      "\n",
      " [[1. 1.]\n",
      "  [1. 1.]\n",
      "  [1. 1.]\n",
      "  [1. 1.]\n",
      "  [1. 1.]]\n",
      "\n",
      " [[1. 1.]\n",
      "  [1. 1.]\n",
      "  [1. 1.]\n",
      "  [1. 1.]\n",
      "  [1. 1.]]\n",
      "\n",
      " [[1. 1.]\n",
      "  [1. 1.]\n",
      "  [1. 1.]\n",
      "  [1. 1.]\n",
      "  [1. 1.]]\n",
      "\n",
      " [[1. 1.]\n",
      "  [1. 1.]\n",
      "  [1. 1.]\n",
      "  [1. 1.]\n",
      "  [1. 1.]]\n",
      "\n",
      " [[1. 1.]\n",
      "  [1. 1.]\n",
      "  [1. 1.]\n",
      "  [1. 1.]\n",
      "  [1. 1.]]]\n"
     ]
    }
   ],
   "source": [
    "a = np.ones((10,5,2))\n",
    "print(a)"
   ]
  },
  {
   "cell_type": "code",
   "execution_count": 55,
   "id": "05f0ffb8",
   "metadata": {},
   "outputs": [
    {
     "name": "stdout",
     "output_type": "stream",
     "text": [
      "[[[6.23042070e-307 1.42417221e-306 1.60219306e-306]\n",
      "  [7.56593017e-307 7.56587584e-307 1.37961302e-306]\n",
      "  [1.05699242e-307 8.01097889e-307 1.78020169e-306]]\n",
      "\n",
      " [[7.56601165e-307 1.02359984e-306 8.90092016e-307]\n",
      "  [1.02361342e-306 6.89804133e-307 8.90104239e-307]\n",
      "  [8.90098127e-307 8.90111708e-307 6.23054633e-307]]\n",
      "\n",
      " [[9.34598926e-307 1.42417629e-306 1.11260687e-306]\n",
      "  [8.90092016e-307 1.02360867e-306 9.34598925e-307]\n",
      "  [8.34446411e-308 2.22507386e-306 6.99191991e+247]]]\n"
     ]
    }
   ],
   "source": [
    "a = np.empty((3,3,3))\n",
    "print(a)"
   ]
  },
  {
   "cell_type": "code",
   "execution_count": 59,
   "id": "0ac08507",
   "metadata": {},
   "outputs": [
    {
     "name": "stdout",
     "output_type": "stream",
     "text": [
      "[   0    5   10   15   20   25   30   35   40   45   50   55   60   65\n",
      "   70   75   80   85   90   95  100  105  110  115  120  125  130  135\n",
      "  140  145  150  155  160  165  170  175  180  185  190  195  200  205\n",
      "  210  215  220  225  230  235  240  245  250  255  260  265  270  275\n",
      "  280  285  290  295  300  305  310  315  320  325  330  335  340  345\n",
      "  350  355  360  365  370  375  380  385  390  395  400  405  410  415\n",
      "  420  425  430  435  440  445  450  455  460  465  470  475  480  485\n",
      "  490  495  500  505  510  515  520  525  530  535  540  545  550  555\n",
      "  560  565  570  575  580  585  590  595  600  605  610  615  620  625\n",
      "  630  635  640  645  650  655  660  665  670  675  680  685  690  695\n",
      "  700  705  710  715  720  725  730  735  740  745  750  755  760  765\n",
      "  770  775  780  785  790  795  800  805  810  815  820  825  830  835\n",
      "  840  845  850  855  860  865  870  875  880  885  890  895  900  905\n",
      "  910  915  920  925  930  935  940  945  950  955  960  965  970  975\n",
      "  980  985  990  995 1000]\n"
     ]
    }
   ],
   "source": [
    "x_values_1 = np.arange(0, 1000, 5)\n",
    "print(x_values)"
   ]
  },
  {
   "cell_type": "code",
   "execution_count": 63,
   "id": "cd1f8273",
   "metadata": {},
   "outputs": [
    {
     "name": "stdout",
     "output_type": "stream",
     "text": [
      "[   0.  250.  500.  750. 1000.]\n"
     ]
    }
   ],
   "source": [
    "x_values_2 = np.linspace(0, 1000, 5)\n",
    "print(x_values_2)"
   ]
  },
  {
   "cell_type": "code",
   "execution_count": 65,
   "id": "a84fe344",
   "metadata": {},
   "outputs": [
    {
     "name": "stdout",
     "output_type": "stream",
     "text": [
      "[   0.    1.    2. ...  998.  999. 1000.]\n"
     ]
    }
   ],
   "source": [
    "x_values_2 = np.linspace(0, 1000, 1001)\n",
    "print(x_values_2)"
   ]
  },
  {
   "cell_type": "code",
   "execution_count": 66,
   "id": "d9b205f3",
   "metadata": {},
   "outputs": [
    {
     "name": "stdout",
     "output_type": "stream",
     "text": [
      "nan\n",
      "inf\n"
     ]
    }
   ],
   "source": [
    "print(np.nan)\n",
    "print(np.inf)"
   ]
  },
  {
   "cell_type": "code",
   "execution_count": 67,
   "id": "47b8b14f",
   "metadata": {},
   "outputs": [
    {
     "name": "stdout",
     "output_type": "stream",
     "text": [
      "True\n",
      "False\n"
     ]
    }
   ],
   "source": [
    "print(np.isnan(np.nan))\n",
    "print(np.isnan(np.inf))"
   ]
  },
  {
   "cell_type": "code",
   "execution_count": 68,
   "id": "33182673",
   "metadata": {},
   "outputs": [
    {
     "name": "stdout",
     "output_type": "stream",
     "text": [
      "True\n"
     ]
    },
    {
     "name": "stderr",
     "output_type": "stream",
     "text": [
      "C:\\Users\\Saswata Mishra\\AppData\\Local\\Temp\\ipykernel_24108\\1919082837.py:1: RuntimeWarning: invalid value encountered in sqrt\n",
      "  print(np.isnan(np.sqrt(-1)))\n"
     ]
    }
   ],
   "source": [
    "print(np.isnan(np.sqrt(-1)))"
   ]
  },
  {
   "cell_type": "code",
   "execution_count": 70,
   "id": "9c62b3b0",
   "metadata": {},
   "outputs": [
    {
     "name": "stdout",
     "output_type": "stream",
     "text": [
      "nan\n"
     ]
    },
    {
     "name": "stderr",
     "output_type": "stream",
     "text": [
      "C:\\Users\\Saswata Mishra\\AppData\\Local\\Temp\\ipykernel_24108\\267541580.py:1: RuntimeWarning: invalid value encountered in sqrt\n",
      "  print(np.sqrt(-1))\n"
     ]
    }
   ],
   "source": [
    "print(np.sqrt(-1))"
   ]
  },
  {
   "cell_type": "code",
   "execution_count": 73,
   "id": "4306651d",
   "metadata": {},
   "outputs": [
    {
     "name": "stdout",
     "output_type": "stream",
     "text": [
      "[ True]\n"
     ]
    },
    {
     "name": "stderr",
     "output_type": "stream",
     "text": [
      "C:\\Users\\Saswata Mishra\\AppData\\Local\\Temp\\ipykernel_24108\\3665895120.py:1: RuntimeWarning: divide by zero encountered in divide\n",
      "  print(np.isinf( np.array([10]) / 0))\n"
     ]
    }
   ],
   "source": [
    "print(np.isinf( np.array([10]) / 0))"
   ]
  },
  {
   "cell_type": "code",
   "execution_count": 74,
   "id": "a348b7f0",
   "metadata": {},
   "outputs": [],
   "source": [
    "l1 = [1,2,3,4,5]\n",
    "l2 = [6,7,8,9,0]\n",
    "\n",
    "a1 = np.array(l1)\n",
    "a2 = np.array(l2)"
   ]
  },
  {
   "cell_type": "code",
   "execution_count": 75,
   "id": "591d4ae7",
   "metadata": {},
   "outputs": [
    {
     "name": "stdout",
     "output_type": "stream",
     "text": [
      "[1, 2, 3, 4, 5, 1, 2, 3, 4, 5, 1, 2, 3, 4, 5, 1, 2, 3, 4, 5, 1, 2, 3, 4, 5]\n"
     ]
    }
   ],
   "source": [
    "print(l1 * 5)"
   ]
  },
  {
   "cell_type": "code",
   "execution_count": 76,
   "id": "299fe4bb",
   "metadata": {},
   "outputs": [
    {
     "name": "stdout",
     "output_type": "stream",
     "text": [
      "[ 5 10 15 20 25]\n"
     ]
    }
   ],
   "source": [
    "print(a1 * 5)"
   ]
  },
  {
   "cell_type": "code",
   "execution_count": 77,
   "id": "cc6637e6",
   "metadata": {},
   "outputs": [
    {
     "name": "stdout",
     "output_type": "stream",
     "text": [
      "[1, 2, 3, 4, 5] [1 2 3 4 5]\n"
     ]
    }
   ],
   "source": [
    "print(l1, a1)"
   ]
  },
  {
   "cell_type": "code",
   "execution_count": 79,
   "id": "55b2dd8b",
   "metadata": {},
   "outputs": [
    {
     "name": "stdout",
     "output_type": "stream",
     "text": [
      "[1, 2, 3, 4, 5, 6, 7, 8, 9, 0]\n",
      "[ 6  7  8  9 10]\n",
      "[ 7  9 11 13  5]\n"
     ]
    }
   ],
   "source": [
    "# print(l1 + 5)  # concatination\n",
    "print(l1 + l2)\n",
    "print(a1 + 5)\n",
    "print(a1 + a2)"
   ]
  },
  {
   "cell_type": "code",
   "execution_count": 80,
   "id": "b818fcb6",
   "metadata": {},
   "outputs": [
    {
     "name": "stdout",
     "output_type": "stream",
     "text": [
      "[-5 -5 -5 -5  5]\n",
      "[ 6 14 24 36  0]\n",
      "[0.16666667 0.28571429 0.375      0.44444444        inf]\n"
     ]
    },
    {
     "name": "stderr",
     "output_type": "stream",
     "text": [
      "C:\\Users\\Saswata Mishra\\AppData\\Local\\Temp\\ipykernel_24108\\2529889639.py:3: RuntimeWarning: divide by zero encountered in divide\n",
      "  print(a1 / a2)\n"
     ]
    }
   ],
   "source": [
    "print(a1 - a2)\n",
    "print(a1 * a2)\n",
    "print(a1 / a2)"
   ]
  },
  {
   "cell_type": "code",
   "execution_count": 81,
   "id": "b7dccc97",
   "metadata": {},
   "outputs": [
    {
     "name": "stdout",
     "output_type": "stream",
     "text": [
      "[[2 3 4]\n",
      " [3 4 5]]\n"
     ]
    }
   ],
   "source": [
    "a1 = np.array([1,2,3])\n",
    "a2 = np.array([[1], [2]])\n",
    "\n",
    "print(a1 + a2)"
   ]
  },
  {
   "cell_type": "code",
   "execution_count": 83,
   "id": "d123c17e",
   "metadata": {},
   "outputs": [
    {
     "name": "stdout",
     "output_type": "stream",
     "text": [
      "[1 2 3]\n",
      "[[1]\n",
      " [2]]\n"
     ]
    }
   ],
   "source": [
    "print(a1)\n",
    "print(a2)"
   ]
  },
  {
   "cell_type": "code",
   "execution_count": 84,
   "id": "9122785b",
   "metadata": {},
   "outputs": [
    {
     "name": "stdout",
     "output_type": "stream",
     "text": [
      "[1 2 3]\n",
      "[[1 2]]\n"
     ]
    }
   ],
   "source": [
    "print(a1.T)\n",
    "print(a2.T)"
   ]
  },
  {
   "cell_type": "code",
   "execution_count": 85,
   "id": "259ea2e2",
   "metadata": {},
   "outputs": [
    {
     "name": "stdout",
     "output_type": "stream",
     "text": [
      "(3,)\n",
      "(2, 1)\n",
      "(3,)\n",
      "(1, 2)\n"
     ]
    }
   ],
   "source": [
    "print(a1.shape)\n",
    "print(a2.shape)\n",
    "print(a1.T.shape)\n",
    "print(a2.T.shape)"
   ]
  },
  {
   "cell_type": "code",
   "execution_count": 2,
   "id": "a2911112",
   "metadata": {},
   "outputs": [
    {
     "ename": "ValueError",
     "evalue": "operands could not be broadcast together with shapes (3,1) (2,1) ",
     "output_type": "error",
     "traceback": [
      "\u001b[1;31m---------------------------------------------------------------------------\u001b[0m",
      "\u001b[1;31mValueError\u001b[0m                                Traceback (most recent call last)",
      "Cell \u001b[1;32mIn[2], line 5\u001b[0m\n\u001b[0;32m      1\u001b[0m a1 \u001b[38;5;241m=\u001b[39m np\u001b[38;5;241m.\u001b[39marray([[\u001b[38;5;241m1\u001b[39m],[\u001b[38;5;241m2\u001b[39m],[\u001b[38;5;241m3\u001b[39m]])\n\u001b[0;32m      2\u001b[0m a2 \u001b[38;5;241m=\u001b[39m np\u001b[38;5;241m.\u001b[39marray([[\u001b[38;5;241m1\u001b[39m],\n\u001b[0;32m      3\u001b[0m                [\u001b[38;5;241m2\u001b[39m]])\n\u001b[1;32m----> 5\u001b[0m \u001b[38;5;28mprint\u001b[39m(a1 \u001b[38;5;241m+\u001b[39m a2)\n",
      "\u001b[1;31mValueError\u001b[0m: operands could not be broadcast together with shapes (3,1) (2,1) "
     ]
    }
   ],
   "source": [
    "a1 = np.array([[1],[2],[3]])\n",
    "a2 = np.array([[1],\n",
    "               [2]])\n",
    "\n",
    "print(a1 + a2)"
   ]
  },
  {
   "cell_type": "code",
   "execution_count": 3,
   "id": "a5d96298",
   "metadata": {},
   "outputs": [
    {
     "name": "stdout",
     "output_type": "stream",
     "text": [
      "(3, 1)\n",
      "(2, 1)\n"
     ]
    }
   ],
   "source": [
    "print(a1.shape)\n",
    "print(a2.shape)"
   ]
  },
  {
   "cell_type": "code",
   "execution_count": 4,
   "id": "48cb0ed8",
   "metadata": {},
   "outputs": [
    {
     "ename": "ValueError",
     "evalue": "operands could not be broadcast together with shapes (3,) (2,) ",
     "output_type": "error",
     "traceback": [
      "\u001b[1;31m---------------------------------------------------------------------------\u001b[0m",
      "\u001b[1;31mValueError\u001b[0m                                Traceback (most recent call last)",
      "Cell \u001b[1;32mIn[4], line 4\u001b[0m\n\u001b[0;32m      1\u001b[0m a1 \u001b[38;5;241m=\u001b[39m np\u001b[38;5;241m.\u001b[39marray([\u001b[38;5;241m1\u001b[39m, \u001b[38;5;241m2\u001b[39m, \u001b[38;5;241m3\u001b[39m])\n\u001b[0;32m      2\u001b[0m a2 \u001b[38;5;241m=\u001b[39m np\u001b[38;5;241m.\u001b[39marray([\u001b[38;5;241m1\u001b[39m, \u001b[38;5;241m2\u001b[39m])\n\u001b[1;32m----> 4\u001b[0m \u001b[38;5;28mprint\u001b[39m(a1 \u001b[38;5;241m+\u001b[39m a2)\n",
      "\u001b[1;31mValueError\u001b[0m: operands could not be broadcast together with shapes (3,) (2,) "
     ]
    }
   ],
   "source": [
    "a1 = np.array([1, 2, 3])\n",
    "a2 = np.array([1, 2])\n",
    "\n",
    "print(a1 + a2)"
   ]
  },
  {
   "cell_type": "code",
   "execution_count": 5,
   "id": "27a48cf6",
   "metadata": {},
   "outputs": [
    {
     "data": {
      "text/plain": [
       "array([1, 2, 3])"
      ]
     },
     "execution_count": 5,
     "metadata": {},
     "output_type": "execute_result"
    }
   ],
   "source": [
    "a1.squeeze()"
   ]
  },
  {
   "cell_type": "code",
   "execution_count": 6,
   "id": "9c5fcc57",
   "metadata": {},
   "outputs": [
    {
     "data": {
      "text/plain": [
       "array([1.        , 1.41421356, 1.73205081])"
      ]
     },
     "execution_count": 6,
     "metadata": {},
     "output_type": "execute_result"
    }
   ],
   "source": [
    "np.sqrt(a1)"
   ]
  },
  {
   "cell_type": "code",
   "execution_count": 7,
   "id": "41461b96",
   "metadata": {},
   "outputs": [
    {
     "data": {
      "text/plain": [
       "array([1, 2, 3])"
      ]
     },
     "execution_count": 7,
     "metadata": {},
     "output_type": "execute_result"
    }
   ],
   "source": [
    "a1"
   ]
  },
  {
   "cell_type": "code",
   "execution_count": 8,
   "id": "89bd25f1",
   "metadata": {},
   "outputs": [
    {
     "name": "stdout",
     "output_type": "stream",
     "text": [
      "[1 2 3]\n"
     ]
    }
   ],
   "source": [
    "print(a1)"
   ]
  },
  {
   "cell_type": "code",
   "execution_count": 9,
   "id": "bb152e2b",
   "metadata": {},
   "outputs": [
    {
     "data": {
      "text/plain": [
       "array([0.84147098, 0.90929743, 0.14112001])"
      ]
     },
     "execution_count": 9,
     "metadata": {},
     "output_type": "execute_result"
    }
   ],
   "source": [
    "np.sin(a1)"
   ]
  },
  {
   "cell_type": "code",
   "execution_count": 11,
   "id": "aa4c1707",
   "metadata": {},
   "outputs": [
    {
     "data": {
      "text/plain": [
       "array([ 0.54030231, -0.41614684, -0.9899925 ])"
      ]
     },
     "execution_count": 11,
     "metadata": {},
     "output_type": "execute_result"
    }
   ],
   "source": [
    "np.cos(a1)"
   ]
  },
  {
   "cell_type": "code",
   "execution_count": 12,
   "id": "8e8b13f2",
   "metadata": {},
   "outputs": [
    {
     "data": {
      "text/plain": [
       "array([0.78539816, 1.10714872, 1.24904577])"
      ]
     },
     "execution_count": 12,
     "metadata": {},
     "output_type": "execute_result"
    }
   ],
   "source": [
    "np.arctan(a1)"
   ]
  },
  {
   "cell_type": "code",
   "execution_count": 14,
   "id": "13faaf00",
   "metadata": {},
   "outputs": [
    {
     "data": {
      "text/plain": [
       "array([0.        , 0.69314718, 1.09861229])"
      ]
     },
     "execution_count": 14,
     "metadata": {},
     "output_type": "execute_result"
    }
   ],
   "source": [
    "np.log(a1)"
   ]
  },
  {
   "cell_type": "code",
   "execution_count": 18,
   "id": "01fb716d",
   "metadata": {},
   "outputs": [
    {
     "name": "stdout",
     "output_type": "stream",
     "text": [
      "[1 2 3] [1 2 3 7 8 9]\n"
     ]
    }
   ],
   "source": [
    "a = np.array([1, 2, 3])\n",
    "\n",
    "b = np.append(a, [7, 8, 9])  # usually numpy and pandas functions return the result, they don't change it\n",
    "print(a, b)"
   ]
  },
  {
   "cell_type": "code",
   "execution_count": 19,
   "id": "333baca7",
   "metadata": {},
   "outputs": [
    {
     "data": {
      "text/plain": [
       "array([1, 2, 3, 4, 5, 6, 7, 8, 9])"
      ]
     },
     "execution_count": 19,
     "metadata": {},
     "output_type": "execute_result"
    }
   ],
   "source": [
    "b = np.insert(b, 3, [4,5,6])\n",
    "b"
   ]
  },
  {
   "cell_type": "code",
   "execution_count": 21,
   "id": "480889f8",
   "metadata": {},
   "outputs": [
    {
     "data": {
      "text/plain": [
       "array([1, 2, 3])"
      ]
     },
     "execution_count": 21,
     "metadata": {},
     "output_type": "execute_result"
    }
   ],
   "source": [
    "x = np.delete(a, 1)\n",
    "a"
   ]
  },
  {
   "cell_type": "code",
   "execution_count": 22,
   "id": "846cc178",
   "metadata": {},
   "outputs": [
    {
     "data": {
      "text/plain": [
       "array([1, 3])"
      ]
     },
     "execution_count": 22,
     "metadata": {},
     "output_type": "execute_result"
    }
   ],
   "source": [
    "x"
   ]
  },
  {
   "cell_type": "code",
   "execution_count": 24,
   "id": "e595808e",
   "metadata": {},
   "outputs": [
    {
     "name": "stdout",
     "output_type": "stream",
     "text": [
      "[2 3 4 5 6]\n",
      "[1 3 4 5 6]\n",
      "[1 2 4 5 6]\n",
      "[1 2 3 5 6]\n"
     ]
    }
   ],
   "source": [
    "a = np.array([[1,2,3],\n",
    "             [4,5,6]])\n",
    "\n",
    "# delete k-th element in row-major where k := np.delete(array, k)\n",
    "print(np.delete(a, 0))\n",
    "print(np.delete(a, 1))\n",
    "print(np.delete(a, 2))\n",
    "print(np.delete(a, 3))\n",
    "# print(np.delete)"
   ]
  },
  {
   "cell_type": "code",
   "execution_count": 28,
   "id": "401ec562",
   "metadata": {},
   "outputs": [
    {
     "ename": "SyntaxError",
     "evalue": "positional argument follows keyword argument (191334404.py, line 2)",
     "output_type": "error",
     "traceback": [
      "\u001b[1;36m  Cell \u001b[1;32mIn[28], line 2\u001b[1;36m\u001b[0m\n\u001b[1;33m    print(np.delete(a, axis=0, 0))\u001b[0m\n\u001b[1;37m                                ^\u001b[0m\n\u001b[1;31mSyntaxError\u001b[0m\u001b[1;31m:\u001b[0m positional argument follows keyword argument\n"
     ]
    }
   ],
   "source": [
    "# big doubt ***************************\n",
    "print(np.delete(a, axis=0, 0))\n",
    "print(np.delete(a, 0, 1))"
   ]
  },
  {
   "cell_type": "code",
   "execution_count": 38,
   "id": "c2f393e4",
   "metadata": {},
   "outputs": [
    {
     "name": "stdout",
     "output_type": "stream",
     "text": [
      "(3, 3)\n"
     ]
    }
   ],
   "source": [
    "a = np.array([[1,2,3],\n",
    "              [4,5,6],\n",
    "              [7,8,9]])\n",
    "print(a.shape)"
   ]
  },
  {
   "cell_type": "code",
   "execution_count": 39,
   "id": "c4628146",
   "metadata": {},
   "outputs": [
    {
     "data": {
      "text/plain": [
       "2"
      ]
     },
     "execution_count": 39,
     "metadata": {},
     "output_type": "execute_result"
    }
   ],
   "source": [
    "a.ndim"
   ]
  },
  {
   "cell_type": "code",
   "execution_count": 40,
   "id": "56d37e9d",
   "metadata": {},
   "outputs": [
    {
     "name": "stdout",
     "output_type": "stream",
     "text": [
      "[[2 3]\n",
      " [5 6]\n",
      " [8 9]]\n"
     ]
    }
   ],
   "source": [
    "print(np.delete(a, 0, 1))"
   ]
  },
  {
   "cell_type": "code",
   "execution_count": 41,
   "id": "4518220e",
   "metadata": {},
   "outputs": [
    {
     "name": "stdout",
     "output_type": "stream",
     "text": [
      "[[1 2 3]\n",
      " [7 8 9]]\n"
     ]
    }
   ],
   "source": [
    "print(np.delete(a, 1, 0))"
   ]
  },
  {
   "cell_type": "code",
   "execution_count": 42,
   "id": "a4e27a64",
   "metadata": {},
   "outputs": [
    {
     "name": "stdout",
     "output_type": "stream",
     "text": [
      "[[1 3]\n",
      " [4 6]\n",
      " [7 9]]\n"
     ]
    }
   ],
   "source": [
    "print(np.delete(a, 1, 1))"
   ]
  },
  {
   "cell_type": "code",
   "execution_count": 43,
   "id": "bf03a291",
   "metadata": {},
   "outputs": [
    {
     "name": "stdout",
     "output_type": "stream",
     "text": [
      "[[4 5 6]\n",
      " [7 8 9]]\n"
     ]
    }
   ],
   "source": [
    "print(np.delete(a, 0, 0))"
   ]
  },
  {
   "cell_type": "code",
   "execution_count": 46,
   "id": "bf4d5dcd",
   "metadata": {},
   "outputs": [
    {
     "data": {
      "text/plain": [
       "array([[ 1,  2,  3,  4,  5],\n",
       "       [ 6,  7,  8,  9, 10],\n",
       "       [11, 12, 13, 14, 15],\n",
       "       [16, 17, 18, 19, 20]])"
      ]
     },
     "execution_count": 46,
     "metadata": {},
     "output_type": "execute_result"
    }
   ],
   "source": [
    "a = np.arange(1, 21).reshape(4,5)\n",
    "a"
   ]
  },
  {
   "cell_type": "code",
   "execution_count": 47,
   "id": "eec119c7",
   "metadata": {},
   "outputs": [
    {
     "data": {
      "text/plain": [
       "(4, 5)"
      ]
     },
     "execution_count": 47,
     "metadata": {},
     "output_type": "execute_result"
    }
   ],
   "source": [
    "a.shape"
   ]
  },
  {
   "cell_type": "code",
   "execution_count": 50,
   "id": "332a5869",
   "metadata": {},
   "outputs": [
    {
     "name": "stdout",
     "output_type": "stream",
     "text": [
      "[[ True False False False]\n",
      " [False False False False]\n",
      " [False False False False]\n",
      " [False False False False]\n",
      " [False False False  True]]\n",
      "[[ 1  2  3  4]\n",
      " [ 5  6  7  8]\n",
      " [ 9 10 11 12]\n",
      " [13 14 15 16]\n",
      " [17 18 19 20]]\n"
     ]
    },
    {
     "data": {
      "text/plain": [
       "array([[ 1,  2,  3,  4,  5],\n",
       "       [ 6,  7,  8,  9, 10],\n",
       "       [11, 12, 13, 14, 15],\n",
       "       [16, 17, 18, 19, 20]])"
      ]
     },
     "execution_count": 50,
     "metadata": {},
     "output_type": "execute_result"
    }
   ],
   "source": [
    "print(a.reshape(5,4) == a.T)\n",
    "print(a.reshape(5,4))\n",
    "a"
   ]
  },
  {
   "cell_type": "code",
   "execution_count": 51,
   "id": "09f9e5bf",
   "metadata": {},
   "outputs": [
    {
     "data": {
      "text/plain": [
       "array([[ 1,  6, 11, 16],\n",
       "       [ 2,  7, 12, 17],\n",
       "       [ 3,  8, 13, 18],\n",
       "       [ 4,  9, 14, 19],\n",
       "       [ 5, 10, 15, 20]])"
      ]
     },
     "execution_count": 51,
     "metadata": {},
     "output_type": "execute_result"
    }
   ],
   "source": [
    "a.T"
   ]
  },
  {
   "cell_type": "code",
   "execution_count": 52,
   "id": "2f8c981e",
   "metadata": {},
   "outputs": [
    {
     "data": {
      "text/plain": [
       "array([ 1,  2,  3,  4,  5,  6,  7,  8,  9, 10, 11, 12, 13, 14, 15, 16, 17,\n",
       "       18, 19, 20])"
      ]
     },
     "execution_count": 52,
     "metadata": {},
     "output_type": "execute_result"
    }
   ],
   "source": [
    "a.reshape(20,)"
   ]
  },
  {
   "cell_type": "code",
   "execution_count": 55,
   "id": "317e1d10",
   "metadata": {},
   "outputs": [
    {
     "data": {
      "text/plain": [
       "array([[ 1],\n",
       "       [ 2],\n",
       "       [ 3],\n",
       "       [ 4],\n",
       "       [ 5],\n",
       "       [ 6],\n",
       "       [ 7],\n",
       "       [ 8],\n",
       "       [ 9],\n",
       "       [10],\n",
       "       [11],\n",
       "       [12],\n",
       "       [13],\n",
       "       [14],\n",
       "       [15],\n",
       "       [16],\n",
       "       [17],\n",
       "       [18],\n",
       "       [19],\n",
       "       [20]])"
      ]
     },
     "execution_count": 55,
     "metadata": {},
     "output_type": "execute_result"
    }
   ],
   "source": [
    "a.reshape(20,1)"
   ]
  },
  {
   "cell_type": "code",
   "execution_count": 56,
   "id": "34e1f44e",
   "metadata": {},
   "outputs": [
    {
     "data": {
      "text/plain": [
       "array([[[ 1,  2,  3,  4,  5],\n",
       "        [ 6,  7,  8,  9, 10]],\n",
       "\n",
       "       [[11, 12, 13, 14, 15],\n",
       "        [16, 17, 18, 19, 20]]])"
      ]
     },
     "execution_count": 56,
     "metadata": {},
     "output_type": "execute_result"
    }
   ],
   "source": [
    "a.reshape(2, 2, 5)"
   ]
  },
  {
   "cell_type": "code",
   "execution_count": 57,
   "id": "b848a264",
   "metadata": {},
   "outputs": [
    {
     "data": {
      "text/plain": [
       "array([[ 1,  2,  3,  4,  5],\n",
       "       [ 6,  7,  8,  9, 10],\n",
       "       [11, 12, 13, 14, 15],\n",
       "       [16, 17, 18, 19, 20]])"
      ]
     },
     "execution_count": 57,
     "metadata": {},
     "output_type": "execute_result"
    }
   ],
   "source": [
    "a"
   ]
  },
  {
   "cell_type": "code",
   "execution_count": 58,
   "id": "0a532c92",
   "metadata": {},
   "outputs": [
    {
     "data": {
      "text/plain": [
       "array([[ 1,  2,  3,  4,  5],\n",
       "       [ 6,  7,  8,  9, 10],\n",
       "       [11, 12, 13, 14, 15],\n",
       "       [16, 17, 18, 19, 20]])"
      ]
     },
     "execution_count": 58,
     "metadata": {},
     "output_type": "execute_result"
    }
   ],
   "source": [
    "a = a.reshape(5,4)\n",
    "\n",
    "a.resize(4,5)\n",
    "a"
   ]
  },
  {
   "cell_type": "code",
   "execution_count": 61,
   "id": "09d912a8",
   "metadata": {},
   "outputs": [
    {
     "data": {
      "text/plain": [
       "array([[ 1,  2,  3,  4],\n",
       "       [ 5,  6,  7,  8],\n",
       "       [ 9, 10, 11, 12],\n",
       "       [13, 14, 15, 16],\n",
       "       [17, 18, 19, 20]])"
      ]
     },
     "execution_count": 61,
     "metadata": {},
     "output_type": "execute_result"
    }
   ],
   "source": [
    "a.resize(5,4)\n",
    "a"
   ]
  },
  {
   "cell_type": "code",
   "execution_count": 62,
   "id": "98a26802",
   "metadata": {},
   "outputs": [
    {
     "name": "stdout",
     "output_type": "stream",
     "text": [
      "[ 1  2  3  4  5  6  7  8  9 10 11 12 13 14 15 16 17 18 19 20]\n",
      "[ 1  2  3  4  5  6  7  8  9 10 11 12 13 14 15 16 17 18 19 20]\n"
     ]
    },
    {
     "data": {
      "text/plain": [
       "array([[ 1,  2,  3,  4],\n",
       "       [ 5,  6,  7,  8],\n",
       "       [ 9, 10, 11, 12],\n",
       "       [13, 14, 15, 16],\n",
       "       [17, 18, 19, 20]])"
      ]
     },
     "execution_count": 62,
     "metadata": {},
     "output_type": "execute_result"
    }
   ],
   "source": [
    "print(a.flatten())  # flattened copy\n",
    "print(a.ravel())    # flattened view\n",
    "a"
   ]
  },
  {
   "cell_type": "code",
   "execution_count": 63,
   "id": "e5c9b538",
   "metadata": {},
   "outputs": [
    {
     "name": "stdout",
     "output_type": "stream",
     "text": [
      "[[ 1  2  3  4]\n",
      " [ 5  6  7  8]\n",
      " [ 9 10 11 12]\n",
      " [13 14 15 16]\n",
      " [17 18 19 20]] [  1   2 100   4   5   6   7   8   9  10  11  12  13  14  15  16  17  18\n",
      "  19  20]\n"
     ]
    }
   ],
   "source": [
    "var1 = a.flatten()\n",
    "var1[2] = 100\n",
    "print(a, var1)"
   ]
  },
  {
   "cell_type": "code",
   "execution_count": 64,
   "id": "d83efe4f",
   "metadata": {},
   "outputs": [
    {
     "name": "stdout",
     "output_type": "stream",
     "text": [
      "[[  1   2 100   4]\n",
      " [  5   6   7   8]\n",
      " [  9  10  11  12]\n",
      " [ 13  14  15  16]\n",
      " [ 17  18  19  20]] [  1   2 100   4   5   6   7   8   9  10  11  12  13  14  15  16  17  18\n",
      "  19  20]\n"
     ]
    }
   ],
   "source": [
    "var1 = a.ravel()\n",
    "var1[2] = 100\n",
    "print(a, var1)"
   ]
  },
  {
   "cell_type": "code",
   "execution_count": 65,
   "id": "027402b3",
   "metadata": {},
   "outputs": [
    {
     "name": "stdout",
     "output_type": "stream",
     "text": [
      "[1, 2, 100, 4, 5, 6, 7, 8, 9, 10, 11, 12, 13, 14, 15, 16, 17, 18, 19, 20]\n"
     ]
    }
   ],
   "source": [
    "var = [v for v in a.flat]\n",
    "print(var)"
   ]
  },
  {
   "cell_type": "code",
   "execution_count": 66,
   "id": "521cb47e",
   "metadata": {},
   "outputs": [
    {
     "data": {
      "text/plain": [
       "array([[  1,   2, 100,   4],\n",
       "       [  5,   6,   7,   8],\n",
       "       [  9,  10,  11,  12],\n",
       "       [ 13,  14,  15,  16],\n",
       "       [ 17,  18,  19,  20]])"
      ]
     },
     "execution_count": 66,
     "metadata": {},
     "output_type": "execute_result"
    }
   ],
   "source": [
    "a"
   ]
  },
  {
   "cell_type": "code",
   "execution_count": 67,
   "id": "bd3dba13",
   "metadata": {},
   "outputs": [
    {
     "data": {
      "text/plain": [
       "array([[  1,   5,   9,  13,  17],\n",
       "       [  2,   6,  10,  14,  18],\n",
       "       [100,   7,  11,  15,  19],\n",
       "       [  4,   8,  12,  16,  20]])"
      ]
     },
     "execution_count": 67,
     "metadata": {},
     "output_type": "execute_result"
    }
   ],
   "source": [
    "a.transpose()"
   ]
  },
  {
   "cell_type": "code",
   "execution_count": 68,
   "id": "46b4d8c2",
   "metadata": {},
   "outputs": [
    {
     "data": {
      "text/plain": [
       "array([[  1,   2, 100,   4],\n",
       "       [  5,   6,   7,   8],\n",
       "       [  9,  10,  11,  12],\n",
       "       [ 13,  14,  15,  16],\n",
       "       [ 17,  18,  19,  20]])"
      ]
     },
     "execution_count": 68,
     "metadata": {},
     "output_type": "execute_result"
    }
   ],
   "source": [
    "a"
   ]
  },
  {
   "cell_type": "code",
   "execution_count": 69,
   "id": "9fd22929",
   "metadata": {},
   "outputs": [
    {
     "data": {
      "text/plain": [
       "array([[  1,   5,   9,  13,  17],\n",
       "       [  2,   6,  10,  14,  18],\n",
       "       [100,   7,  11,  15,  19],\n",
       "       [  4,   8,  12,  16,  20]])"
      ]
     },
     "execution_count": 69,
     "metadata": {},
     "output_type": "execute_result"
    }
   ],
   "source": [
    "a.T"
   ]
  },
  {
   "cell_type": "code",
   "execution_count": 71,
   "id": "030fe524",
   "metadata": {},
   "outputs": [
    {
     "data": {
      "text/plain": [
       "array([[  1,   5,   9,  13,  17],\n",
       "       [  2,   6,  10,  14,  18],\n",
       "       [100,   7,  11,  15,  19],\n",
       "       [  4,   8,  12,  16,  20]])"
      ]
     },
     "execution_count": 71,
     "metadata": {},
     "output_type": "execute_result"
    }
   ],
   "source": [
    "a.swapaxes(0,1)  # same effect as transposing"
   ]
  },
  {
   "cell_type": "code",
   "execution_count": 73,
   "id": "ab824d93",
   "metadata": {},
   "outputs": [
    {
     "name": "stdout",
     "output_type": "stream",
     "text": [
      "[[ 1  2  3  4  5]\n",
      " [ 6  7  8  9 10]\n",
      " [11 12 13 14 15]\n",
      " [16 17 18 19 20]]\n"
     ]
    }
   ],
   "source": [
    "a1 = np.array([[1,2,3,4,5],\n",
    "               [6,7,8,9,10]])\n",
    "a2 = np.array([[11,12,13,14,15],\n",
    "               [16,17,18,19,20]])\n",
    "\n",
    "a = np.concatenate((a1, a2), axis=0)\n",
    "print(a)"
   ]
  },
  {
   "cell_type": "code",
   "execution_count": 74,
   "id": "5c39d6d5",
   "metadata": {},
   "outputs": [
    {
     "name": "stdout",
     "output_type": "stream",
     "text": [
      "[[ 1  2  3  4  5 11 12 13 14 15]\n",
      " [ 6  7  8  9 10 16 17 18 19 20]]\n"
     ]
    }
   ],
   "source": [
    "a = np.concatenate((a1, a2), axis=1)\n",
    "print(a)"
   ]
  },
  {
   "cell_type": "code",
   "execution_count": 75,
   "id": "dfab805e",
   "metadata": {},
   "outputs": [
    {
     "name": "stdout",
     "output_type": "stream",
     "text": [
      "[[[ 1  2  3  4  5]\n",
      "  [11 12 13 14 15]]\n",
      "\n",
      " [[ 6  7  8  9 10]\n",
      "  [16 17 18 19 20]]]\n"
     ]
    }
   ],
   "source": [
    "a = np.stack((a1, a2), axis=1)\n",
    "print(a)"
   ]
  },
  {
   "cell_type": "code",
   "execution_count": 77,
   "id": "ee9bbbb7",
   "metadata": {},
   "outputs": [
    {
     "data": {
      "text/plain": [
       "(2, 2, 5)"
      ]
     },
     "execution_count": 77,
     "metadata": {},
     "output_type": "execute_result"
    }
   ],
   "source": [
    "a.shape"
   ]
  },
  {
   "cell_type": "code",
   "execution_count": 81,
   "id": "282e1636",
   "metadata": {},
   "outputs": [
    {
     "name": "stdout",
     "output_type": "stream",
     "text": [
      "[[ 1  2  3  4  5]\n",
      " [ 6  7  8  9 10]\n",
      " [11 12 13 14 15]\n",
      " [16 17 18 19 20]]\n"
     ]
    }
   ],
   "source": [
    "a = np.vstack((a1, a2))\n",
    "print(a)"
   ]
  },
  {
   "cell_type": "code",
   "execution_count": 80,
   "id": "da806ac5",
   "metadata": {},
   "outputs": [
    {
     "name": "stdout",
     "output_type": "stream",
     "text": [
      "[[ 1  2  3  4  5 11 12 13 14 15]\n",
      " [ 6  7  8  9 10 16 17 18 19 20]]\n"
     ]
    }
   ],
   "source": [
    "a = np.hstack((a1, a2))\n",
    "print(a)"
   ]
  },
  {
   "cell_type": "code",
   "execution_count": 82,
   "id": "f5b6815e",
   "metadata": {},
   "outputs": [
    {
     "data": {
      "text/plain": [
       "array([[ 1,  2,  3,  4,  5],\n",
       "       [ 6,  7,  8,  9, 10],\n",
       "       [11, 12, 13, 14, 15],\n",
       "       [16, 17, 18, 19, 20]])"
      ]
     },
     "execution_count": 82,
     "metadata": {},
     "output_type": "execute_result"
    }
   ],
   "source": [
    "a"
   ]
  },
  {
   "cell_type": "code",
   "execution_count": 83,
   "id": "b8234b2c",
   "metadata": {},
   "outputs": [
    {
     "name": "stdout",
     "output_type": "stream",
     "text": [
      "[array([[ 1,  2,  3,  4,  5],\n",
      "       [ 6,  7,  8,  9, 10]]), array([[11, 12, 13, 14, 15],\n",
      "       [16, 17, 18, 19, 20]])]\n"
     ]
    }
   ],
   "source": [
    "print(np.split(a, 2, axis=0))"
   ]
  },
  {
   "cell_type": "code",
   "execution_count": 84,
   "id": "a1aba2a9",
   "metadata": {},
   "outputs": [
    {
     "name": "stdout",
     "output_type": "stream",
     "text": [
      "[array([[1, 2, 3, 4, 5]]), array([[ 6,  7,  8,  9, 10]]), array([[11, 12, 13, 14, 15]]), array([[16, 17, 18, 19, 20]])]\n"
     ]
    }
   ],
   "source": [
    "print(np.split(a, 4, axis=0))"
   ]
  },
  {
   "cell_type": "code",
   "execution_count": 89,
   "id": "ee1e06e3",
   "metadata": {},
   "outputs": [
    {
     "name": "stdout",
     "output_type": "stream",
     "text": [
      "[[ 1  2  3  4  5]\n",
      " [ 6  7  8  9 10]\n",
      " [11 12 13 14 15]\n",
      " [16 17 18 19 20]]\n",
      "[array([[ 1],\n",
      "       [ 6],\n",
      "       [11],\n",
      "       [16]]), array([[ 2],\n",
      "       [ 7],\n",
      "       [12],\n",
      "       [17]]), array([[ 3],\n",
      "       [ 8],\n",
      "       [13],\n",
      "       [18]]), array([[ 4],\n",
      "       [ 9],\n",
      "       [14],\n",
      "       [19]]), array([[ 5],\n",
      "       [10],\n",
      "       [15],\n",
      "       [20]])]\n"
     ]
    }
   ],
   "source": [
    "print(a)\n",
    "print(np.split(a, 5, axis=1))"
   ]
  },
  {
   "cell_type": "markdown",
   "id": "98b22f71",
   "metadata": {},
   "source": [
    "### aggregate functions"
   ]
  },
  {
   "cell_type": "code",
   "execution_count": 90,
   "id": "ce0b748e",
   "metadata": {},
   "outputs": [
    {
     "name": "stdout",
     "output_type": "stream",
     "text": [
      "1\n",
      "20\n",
      "10.5\n",
      "5.766281297335398\n",
      "210\n",
      "10.5\n"
     ]
    }
   ],
   "source": [
    "print(a.min())\n",
    "print(a.max())\n",
    "print(a.mean())\n",
    "print(a.std())\n",
    "print(a.sum())\n",
    "print(np.median(a))"
   ]
  },
  {
   "cell_type": "code",
   "execution_count": 96,
   "id": "152d70f8",
   "metadata": {},
   "outputs": [
    {
     "data": {
      "text/plain": [
       "array([ 1.33741162e+00,  5.03755689e-02,  1.58835791e-01, -6.42928413e-02,\n",
       "       -1.03199434e+00, -1.95083514e-01,  1.52107014e+00, -8.99544264e-01,\n",
       "       -4.95572374e-01,  2.29022138e-01,  1.69604634e+00,  7.47748300e-02,\n",
       "       -1.11335071e+00,  3.97502630e-01, -1.82159356e+00, -1.37753843e+00,\n",
       "       -1.98312608e-02, -1.69435655e+00, -2.87954533e-01,  7.71228741e-01,\n",
       "       -4.21898137e-01,  1.31090906e-01,  2.78318104e-01, -7.78839391e-01,\n",
       "        1.89282771e-01, -3.86741925e-01, -2.07464681e+00,  3.85437449e-01,\n",
       "        4.35736515e-01,  5.80631066e-02,  1.80119441e+00, -3.53704247e-01,\n",
       "       -3.12537253e-01, -9.84708858e-02,  6.55446783e-01, -9.14408698e-01,\n",
       "       -3.01273903e-01, -1.01057886e+00,  7.08690270e-01, -1.03100121e+00,\n",
       "        1.37236771e+00,  1.10311442e+00,  6.68901951e-01, -9.72680361e-01,\n",
       "       -2.12073018e+00, -1.21941642e+00, -5.73510610e-01,  1.13728818e+00,\n",
       "       -7.37106216e-01, -6.77207040e-01,  4.38736217e-01,  9.34174306e-01,\n",
       "       -2.11437989e-01,  1.39523252e-04,  7.26541345e-01,  9.03939510e-01,\n",
       "        4.36539871e-01, -5.94742473e-01, -4.42568391e-01, -7.52068325e-01,\n",
       "        1.74187538e+00, -1.12043732e+00,  2.24288005e+00,  7.07488995e-01,\n",
       "       -4.06649039e-01,  1.41232583e+00, -3.90886675e-01,  4.43162394e-02,\n",
       "       -1.97395794e-01,  1.19151907e+00, -1.05186331e+00,  3.84806197e-01,\n",
       "        2.68944178e-01, -1.72296502e+00, -1.30335708e+00,  9.34191067e-01,\n",
       "       -2.57405953e-02,  1.41724771e+00, -5.22419022e-01,  3.75006341e-01,\n",
       "       -3.16971431e-01, -1.58500309e-01, -1.90850649e+00, -4.09175673e-01,\n",
       "       -4.61178424e-03,  3.79696363e-01,  1.60530118e+00,  2.75497086e-01,\n",
       "        5.49498077e-01, -2.76232623e-01,  1.78255140e+00, -1.60687920e+00,\n",
       "       -9.94857458e-01, -4.00523555e-01, -4.74480997e-01,  6.36140426e-01,\n",
       "        2.11540065e+00,  8.74997318e-01,  5.76637757e-02,  1.08542533e+00])"
      ]
     },
     "execution_count": 96,
     "metadata": {},
     "output_type": "execute_result"
    }
   ],
   "source": [
    "numbers = np.random.randn(100)\n",
    "numbers"
   ]
  },
  {
   "cell_type": "code",
   "execution_count": 97,
   "id": "d2ac1438",
   "metadata": {},
   "outputs": [
    {
     "data": {
      "text/plain": [
       "array([0.04762773, 0.82806865, 0.24473675, 0.18732472, 0.75290802,\n",
       "       0.16371541, 0.36506886, 0.8721916 , 0.63884103, 0.59655089,\n",
       "       0.65471586, 0.65459381, 0.56122957, 0.76076476, 0.94995021,\n",
       "       0.57841657, 0.41819774, 0.06391544, 0.58567484, 0.17616152,\n",
       "       0.55097818, 0.1601937 , 0.98747331, 0.72849082, 0.80733244,\n",
       "       0.4762555 , 0.72576113, 0.52557657, 0.90864572, 0.16537484,\n",
       "       0.24476344, 0.832076  , 0.68814009, 0.67017704, 0.86123272,\n",
       "       0.75264875, 0.17037242, 0.88187902, 0.48911817, 0.38094849,\n",
       "       0.91230052, 0.16875553, 0.10212468, 0.67584971, 0.45437302,\n",
       "       0.3748217 , 0.74795092, 0.53176091, 0.16451794, 0.34521501,\n",
       "       0.67256707, 0.79756387, 0.94598464, 0.38580197, 0.00103487,\n",
       "       0.39920425, 0.45695691, 0.21133574, 0.80477411, 0.34231494,\n",
       "       0.85548407, 0.11525248, 0.38843198, 0.09081503, 0.26787938,\n",
       "       0.95868247, 0.33593203, 0.82315642, 0.71331276, 0.15294606,\n",
       "       0.64457393, 0.53082263, 0.10937958, 0.94107126, 0.95520667,\n",
       "       0.97491572, 0.45999991, 0.00480344, 0.05046702, 0.39632226,\n",
       "       0.76000203, 0.30492082, 0.5888174 , 0.38985222, 0.13509683,\n",
       "       0.26450334, 0.52352207, 0.16835336, 0.6066185 , 0.44888094,\n",
       "       0.88789175, 0.48550517, 0.36152551, 0.98119583, 0.86652504,\n",
       "       0.42313596, 0.86385563, 0.53915929, 0.33431452, 0.31098522])"
      ]
     },
     "execution_count": 97,
     "metadata": {},
     "output_type": "execute_result"
    }
   ],
   "source": [
    "numbers = np.random.random(100)\n",
    "numbers"
   ]
  },
  {
   "cell_type": "code",
   "execution_count": 98,
   "id": "c3660d32",
   "metadata": {},
   "outputs": [
    {
     "data": {
      "text/plain": [
       "50"
      ]
     },
     "execution_count": 98,
     "metadata": {},
     "output_type": "execute_result"
    }
   ],
   "source": [
    "numbers = np.random.randint(100)\n",
    "numbers"
   ]
  },
  {
   "cell_type": "code",
   "execution_count": 99,
   "id": "2830d659",
   "metadata": {},
   "outputs": [
    {
     "data": {
      "text/plain": [
       "array([[[97, 90, 97, 96],\n",
       "        [91, 92, 98, 95],\n",
       "        [95, 98, 93, 95]],\n",
       "\n",
       "       [[96, 99, 96, 94],\n",
       "        [93, 93, 94, 93],\n",
       "        [96, 92, 98, 97]]])"
      ]
     },
     "execution_count": 99,
     "metadata": {},
     "output_type": "execute_result"
    }
   ],
   "source": [
    "numbers = np.random.randint(90, 100, size=(2,3,4))\n",
    "numbers"
   ]
  },
  {
   "cell_type": "code",
   "execution_count": 104,
   "id": "9f69b3b1",
   "metadata": {},
   "outputs": [
    {
     "data": {
      "text/plain": [
       "array([[7, 7, 4, 5, 3, 7, 5, 3, 2, 6],\n",
       "       [5, 7, 6, 6, 6, 5, 5, 3, 4, 4],\n",
       "       [8, 4, 6, 6, 4, 5, 6, 3, 3, 7],\n",
       "       [7, 6, 3, 3, 7, 7, 8, 2, 6, 7],\n",
       "       [4, 6, 5, 7, 5, 6, 3, 4, 5, 3]])"
      ]
     },
     "execution_count": 104,
     "metadata": {},
     "output_type": "execute_result"
    }
   ],
   "source": [
    "numbers = np.random.binomial(10, p=0.5, size=(5,10))\n",
    "numbers"
   ]
  },
  {
   "cell_type": "code",
   "execution_count": 107,
   "id": "ebcd771a",
   "metadata": {},
   "outputs": [
    {
     "data": {
      "text/plain": [
       "array([[2, 2, 2, 0, 2, 3, 1, 1, 1, 2],\n",
       "       [1, 0, 2, 1, 0, 2, 2, 0, 0, 1],\n",
       "       [0, 3, 0, 1, 0, 2, 2, 1, 0, 1],\n",
       "       [0, 1, 1, 1, 1, 1, 1, 0, 2, 1],\n",
       "       [0, 0, 0, 1, 0, 0, 0, 0, 1, 1]])"
      ]
     },
     "execution_count": 107,
     "metadata": {},
     "output_type": "execute_result"
    }
   ],
   "source": [
    "numbers = np.random.binomial(10, p=0.1, size=(5,10))\n",
    "numbers"
   ]
  },
  {
   "cell_type": "code",
   "execution_count": 108,
   "id": "484055b5",
   "metadata": {},
   "outputs": [
    {
     "data": {
      "text/plain": [
       "array([[179.83488054, 188.74591303, 164.40782955, 161.90394148,\n",
       "        172.10197434, 169.51295039, 201.22722564, 163.6909343 ,\n",
       "        175.55488798, 190.06308592],\n",
       "       [173.89717205, 173.68930203, 179.67347162, 138.03217135,\n",
       "        178.8805988 , 170.03001606, 158.98435157, 188.31498598,\n",
       "        163.4030383 , 165.94852584],\n",
       "       [165.77136235, 207.16203674, 206.50527754, 174.78744952,\n",
       "        189.86728506, 159.67009275, 164.35266647, 164.14913532,\n",
       "        160.83206607, 169.67428259],\n",
       "       [192.59654345, 180.69828377, 186.86219047, 174.13487497,\n",
       "        151.84601946, 183.38245788, 164.66581448, 173.8317388 ,\n",
       "        172.66207869, 188.55593593],\n",
       "       [139.99475657, 129.57932312, 166.31146905, 174.14700926,\n",
       "        181.81033808, 153.4633439 , 159.49072785, 153.02795057,\n",
       "        173.19697028, 167.06296731]])"
      ]
     },
     "execution_count": 108,
     "metadata": {},
     "output_type": "execute_result"
    }
   ],
   "source": [
    "numbers = np.random.normal(loc=170, scale=15, size=(5,10))\n",
    "numbers"
   ]
  },
  {
   "cell_type": "code",
   "execution_count": 112,
   "id": "fe73f34a",
   "metadata": {},
   "outputs": [
    {
     "data": {
      "text/plain": [
       "array([[ 73, 864, 866, 601, 554, 897,  20, 932, 957,   5],\n",
       "       [  5, 335, 373, 516, 773, 555, 531,  19, 622, 100],\n",
       "       [635, 160, 941, 214, 548, 255, 103,  74, 563, 974],\n",
       "       [326,  38, 816, 127,  87, 943, 211, 364, 947, 635],\n",
       "       [601,  54, 561, 519, 712, 723, 387, 653,  93, 912]])"
      ]
     },
     "execution_count": 112,
     "metadata": {},
     "output_type": "execute_result"
    }
   ],
   "source": [
    "number = np.random.choice(range(1000), size = (5,10))\n",
    "number"
   ]
  },
  {
   "cell_type": "code",
   "execution_count": 113,
   "id": "73d1e62f",
   "metadata": {},
   "outputs": [],
   "source": [
    "np.save(\"./myarray.npy\", numbers)"
   ]
  },
  {
   "cell_type": "code",
   "execution_count": 114,
   "id": "4453d09e",
   "metadata": {},
   "outputs": [],
   "source": [
    "del(numbers)"
   ]
  },
  {
   "cell_type": "code",
   "execution_count": 115,
   "id": "38ec15f5",
   "metadata": {},
   "outputs": [
    {
     "ename": "NameError",
     "evalue": "name 'numbers' is not defined",
     "output_type": "error",
     "traceback": [
      "\u001b[1;31m---------------------------------------------------------------------------\u001b[0m",
      "\u001b[1;31mNameError\u001b[0m                                 Traceback (most recent call last)",
      "Cell \u001b[1;32mIn[115], line 1\u001b[0m\n\u001b[1;32m----> 1\u001b[0m numbers\n",
      "\u001b[1;31mNameError\u001b[0m: name 'numbers' is not defined"
     ]
    }
   ],
   "source": [
    "numbers"
   ]
  },
  {
   "cell_type": "code",
   "execution_count": 116,
   "id": "faec4b6c",
   "metadata": {},
   "outputs": [
    {
     "data": {
      "text/plain": [
       "array([[179.83488054, 188.74591303, 164.40782955, 161.90394148,\n",
       "        172.10197434, 169.51295039, 201.22722564, 163.6909343 ,\n",
       "        175.55488798, 190.06308592],\n",
       "       [173.89717205, 173.68930203, 179.67347162, 138.03217135,\n",
       "        178.8805988 , 170.03001606, 158.98435157, 188.31498598,\n",
       "        163.4030383 , 165.94852584],\n",
       "       [165.77136235, 207.16203674, 206.50527754, 174.78744952,\n",
       "        189.86728506, 159.67009275, 164.35266647, 164.14913532,\n",
       "        160.83206607, 169.67428259],\n",
       "       [192.59654345, 180.69828377, 186.86219047, 174.13487497,\n",
       "        151.84601946, 183.38245788, 164.66581448, 173.8317388 ,\n",
       "        172.66207869, 188.55593593],\n",
       "       [139.99475657, 129.57932312, 166.31146905, 174.14700926,\n",
       "        181.81033808, 153.4633439 , 159.49072785, 153.02795057,\n",
       "        173.19697028, 167.06296731]])"
      ]
     },
     "execution_count": 116,
     "metadata": {},
     "output_type": "execute_result"
    }
   ],
   "source": [
    "numbers = np.load(\"./myarray.npy\")\n",
    "numbers"
   ]
  },
  {
   "cell_type": "code",
   "execution_count": 120,
   "id": "b5bb6a58",
   "metadata": {},
   "outputs": [],
   "source": [
    "np.savetxt(\"./myarray.csv\", numbers, delimiter=\",\")"
   ]
  },
  {
   "cell_type": "code",
   "execution_count": 122,
   "id": "db424270",
   "metadata": {},
   "outputs": [
    {
     "data": {
      "text/plain": [
       "array([[179.83488054, 188.74591303, 164.40782955, 161.90394148,\n",
       "        172.10197434, 169.51295039, 201.22722564, 163.6909343 ,\n",
       "        175.55488798, 190.06308592],\n",
       "       [173.89717205, 173.68930203, 179.67347162, 138.03217135,\n",
       "        178.8805988 , 170.03001606, 158.98435157, 188.31498598,\n",
       "        163.4030383 , 165.94852584],\n",
       "       [165.77136235, 207.16203674, 206.50527754, 174.78744952,\n",
       "        189.86728506, 159.67009275, 164.35266647, 164.14913532,\n",
       "        160.83206607, 169.67428259],\n",
       "       [192.59654345, 180.69828377, 186.86219047, 174.13487497,\n",
       "        151.84601946, 183.38245788, 164.66581448, 173.8317388 ,\n",
       "        172.66207869, 188.55593593],\n",
       "       [139.99475657, 129.57932312, 166.31146905, 174.14700926,\n",
       "        181.81033808, 153.4633439 , 159.49072785, 153.02795057,\n",
       "        173.19697028, 167.06296731]])"
      ]
     },
     "execution_count": 122,
     "metadata": {},
     "output_type": "execute_result"
    }
   ],
   "source": [
    "a = np.loadtxt(\"./myarray.csv\", delimiter=',')\n",
    "a"
   ]
  },
  {
   "cell_type": "code",
   "execution_count": 124,
   "id": "1a01ae00",
   "metadata": {},
   "outputs": [
    {
     "ename": "SyntaxError",
     "evalue": "invalid syntax (1504294998.py, line 1)",
     "output_type": "error",
     "traceback": [
      "\u001b[1;36m  Cell \u001b[1;32mIn[124], line 1\u001b[1;36m\u001b[0m\n\u001b[1;33m    x := []\u001b[0m\n\u001b[1;37m      ^\u001b[0m\n\u001b[1;31mSyntaxError\u001b[0m\u001b[1;31m:\u001b[0m invalid syntax\n"
     ]
    }
   ],
   "source": [
    "x := []"
   ]
  },
  {
   "cell_type": "code",
   "execution_count": null,
   "id": "c6c209c9",
   "metadata": {},
   "outputs": [],
   "source": []
  }
 ],
 "metadata": {
  "kernelspec": {
   "display_name": "Python 3 (ipykernel)",
   "language": "python",
   "name": "python3"
  },
  "language_info": {
   "codemirror_mode": {
    "name": "ipython",
    "version": 3
   },
   "file_extension": ".py",
   "mimetype": "text/x-python",
   "name": "python",
   "nbconvert_exporter": "python",
   "pygments_lexer": "ipython3",
   "version": "3.12.4"
  }
 },
 "nbformat": 4,
 "nbformat_minor": 5
}
